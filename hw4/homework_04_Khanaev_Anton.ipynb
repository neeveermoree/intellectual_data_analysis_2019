{
 "cells": [
  {
   "cell_type": "markdown",
   "metadata": {},
   "source": [
    "## Введение в анализ данных, ИАД-1\n",
    "\n",
    "## НИУ ВШЭ, 2018-19 учебный год\n",
    "\n",
    "### Домашнее задание №4. Градиентный бустинг ~~своими руками~~\n",
    "\n",
    "Задание выполнил(а): Ханаев Антон\n",
    "\n",
    "### Общая информация\n",
    "__Дата выдачи:__ 27.04.2019\n",
    "\n",
    "__Дедлайн:__ 23:59 12.05.2019\n",
    "\n",
    "### Оценивание и штрафы\n",
    "\n",
    "За сдачу задания позже срока на итоговую оценку за задание накладывается штраф в размере 1 балл в день, но получить отрицательную оценку нельзя.\n",
    "\n",
    "__Внимание!__ Домашнее задание выполняется самостоятельно. «Похожие» решения считаются плагиатом и все задействованные студенты (в том числе те, у кого списали) не могут получить за него больше 0 баллов.\n",
    "\n",
    "### Формат сдачи\n",
    "__Стирать условия нельзя!__\n",
    "\n",
    "Загрузка файлов с решениями происходит в системе [Anytask](https://anytask.org/).\n",
    "\n",
    "Формат названия файла: homework_04_Фамилия_Имя.ipynb"
   ]
  },
  {
   "cell_type": "markdown",
   "metadata": {},
   "source": [
    "__Задание 1. (0.5 балла)__\n",
    "\n",
    "Мы будем использовать данные соревнования [Home Credit Default Risk](https://www.kaggle.com/c/home-credit-default-risk/data). \n",
    "* Загрузите таблицу application_train.csv;\n",
    "* Запишите в Y столбец с целевой переменной;\n",
    "* Удалите ненужные столбцы (для этого воспользуйтесь описанием);\n",
    "* Определите тип столбцов и заполните пропуски - стратегия произвольная;\n",
    "* Разбейте выборку в соотношении 70:30 с random_state=0.\n",
    "\n",
    "Так как в данных значительный дисбаланс классов, в качестве метрики качества везде будем использовать площадь под precision-recall кривой."
   ]
  },
  {
   "cell_type": "code",
   "execution_count": 2,
   "metadata": {},
   "outputs": [],
   "source": [
    "import os\n",
    "import numpy as np\n",
    "import pandas as pd"
   ]
  },
  {
   "cell_type": "code",
   "execution_count": 2,
   "metadata": {},
   "outputs": [
    {
     "data": {
      "text/plain": [
       "['installments_payments.csv',\n",
       " 'HomeCredit_columns_description.csv',\n",
       " 'to_vadim_with_love=*.7z',\n",
       " 'application_train.csv',\n",
       " 'sample_submission.csv',\n",
       " 'bureau.csv',\n",
       " 'previous_application.csv',\n",
       " 'credit_card_balance.csv',\n",
       " 'application_test.csv',\n",
       " 'bureau_balance.csv',\n",
       " 'POS_CASH_balance.csv']"
      ]
     },
     "execution_count": 2,
     "metadata": {},
     "output_type": "execute_result"
    }
   ],
   "source": [
    "os.listdir('./data')"
   ]
  },
  {
   "cell_type": "code",
   "execution_count": 98,
   "metadata": {},
   "outputs": [],
   "source": [
    "data = pd.read_csv('./data/application_train.csv', index_col='SK_ID_CURR')"
   ]
  },
  {
   "cell_type": "code",
   "execution_count": 4,
   "metadata": {},
   "outputs": [
    {
     "data": {
      "text/html": [
       "<div>\n",
       "<style scoped>\n",
       "    .dataframe tbody tr th:only-of-type {\n",
       "        vertical-align: middle;\n",
       "    }\n",
       "\n",
       "    .dataframe tbody tr th {\n",
       "        vertical-align: top;\n",
       "    }\n",
       "\n",
       "    .dataframe thead th {\n",
       "        text-align: right;\n",
       "    }\n",
       "</style>\n",
       "<table border=\"1\" class=\"dataframe\">\n",
       "  <thead>\n",
       "    <tr style=\"text-align: right;\">\n",
       "      <th></th>\n",
       "      <th>TARGET</th>\n",
       "      <th>NAME_CONTRACT_TYPE</th>\n",
       "      <th>CODE_GENDER</th>\n",
       "      <th>FLAG_OWN_CAR</th>\n",
       "      <th>FLAG_OWN_REALTY</th>\n",
       "      <th>CNT_CHILDREN</th>\n",
       "      <th>AMT_INCOME_TOTAL</th>\n",
       "      <th>AMT_CREDIT</th>\n",
       "      <th>AMT_ANNUITY</th>\n",
       "      <th>AMT_GOODS_PRICE</th>\n",
       "      <th>...</th>\n",
       "      <th>FLAG_DOCUMENT_18</th>\n",
       "      <th>FLAG_DOCUMENT_19</th>\n",
       "      <th>FLAG_DOCUMENT_20</th>\n",
       "      <th>FLAG_DOCUMENT_21</th>\n",
       "      <th>AMT_REQ_CREDIT_BUREAU_HOUR</th>\n",
       "      <th>AMT_REQ_CREDIT_BUREAU_DAY</th>\n",
       "      <th>AMT_REQ_CREDIT_BUREAU_WEEK</th>\n",
       "      <th>AMT_REQ_CREDIT_BUREAU_MON</th>\n",
       "      <th>AMT_REQ_CREDIT_BUREAU_QRT</th>\n",
       "      <th>AMT_REQ_CREDIT_BUREAU_YEAR</th>\n",
       "    </tr>\n",
       "    <tr>\n",
       "      <th>SK_ID_CURR</th>\n",
       "      <th></th>\n",
       "      <th></th>\n",
       "      <th></th>\n",
       "      <th></th>\n",
       "      <th></th>\n",
       "      <th></th>\n",
       "      <th></th>\n",
       "      <th></th>\n",
       "      <th></th>\n",
       "      <th></th>\n",
       "      <th></th>\n",
       "      <th></th>\n",
       "      <th></th>\n",
       "      <th></th>\n",
       "      <th></th>\n",
       "      <th></th>\n",
       "      <th></th>\n",
       "      <th></th>\n",
       "      <th></th>\n",
       "      <th></th>\n",
       "      <th></th>\n",
       "    </tr>\n",
       "  </thead>\n",
       "  <tbody>\n",
       "    <tr>\n",
       "      <th>100002</th>\n",
       "      <td>1</td>\n",
       "      <td>Cash loans</td>\n",
       "      <td>M</td>\n",
       "      <td>N</td>\n",
       "      <td>Y</td>\n",
       "      <td>0</td>\n",
       "      <td>202500.0</td>\n",
       "      <td>406597.5</td>\n",
       "      <td>24700.5</td>\n",
       "      <td>351000.0</td>\n",
       "      <td>...</td>\n",
       "      <td>0</td>\n",
       "      <td>0</td>\n",
       "      <td>0</td>\n",
       "      <td>0</td>\n",
       "      <td>0.0</td>\n",
       "      <td>0.0</td>\n",
       "      <td>0.0</td>\n",
       "      <td>0.0</td>\n",
       "      <td>0.0</td>\n",
       "      <td>1.0</td>\n",
       "    </tr>\n",
       "    <tr>\n",
       "      <th>100003</th>\n",
       "      <td>0</td>\n",
       "      <td>Cash loans</td>\n",
       "      <td>F</td>\n",
       "      <td>N</td>\n",
       "      <td>N</td>\n",
       "      <td>0</td>\n",
       "      <td>270000.0</td>\n",
       "      <td>1293502.5</td>\n",
       "      <td>35698.5</td>\n",
       "      <td>1129500.0</td>\n",
       "      <td>...</td>\n",
       "      <td>0</td>\n",
       "      <td>0</td>\n",
       "      <td>0</td>\n",
       "      <td>0</td>\n",
       "      <td>0.0</td>\n",
       "      <td>0.0</td>\n",
       "      <td>0.0</td>\n",
       "      <td>0.0</td>\n",
       "      <td>0.0</td>\n",
       "      <td>0.0</td>\n",
       "    </tr>\n",
       "    <tr>\n",
       "      <th>100004</th>\n",
       "      <td>0</td>\n",
       "      <td>Revolving loans</td>\n",
       "      <td>M</td>\n",
       "      <td>Y</td>\n",
       "      <td>Y</td>\n",
       "      <td>0</td>\n",
       "      <td>67500.0</td>\n",
       "      <td>135000.0</td>\n",
       "      <td>6750.0</td>\n",
       "      <td>135000.0</td>\n",
       "      <td>...</td>\n",
       "      <td>0</td>\n",
       "      <td>0</td>\n",
       "      <td>0</td>\n",
       "      <td>0</td>\n",
       "      <td>0.0</td>\n",
       "      <td>0.0</td>\n",
       "      <td>0.0</td>\n",
       "      <td>0.0</td>\n",
       "      <td>0.0</td>\n",
       "      <td>0.0</td>\n",
       "    </tr>\n",
       "  </tbody>\n",
       "</table>\n",
       "<p>3 rows × 121 columns</p>\n",
       "</div>"
      ],
      "text/plain": [
       "            TARGET NAME_CONTRACT_TYPE CODE_GENDER FLAG_OWN_CAR  \\\n",
       "SK_ID_CURR                                                       \n",
       "100002           1         Cash loans           M            N   \n",
       "100003           0         Cash loans           F            N   \n",
       "100004           0    Revolving loans           M            Y   \n",
       "\n",
       "           FLAG_OWN_REALTY  CNT_CHILDREN  AMT_INCOME_TOTAL  AMT_CREDIT  \\\n",
       "SK_ID_CURR                                                               \n",
       "100002                   Y             0          202500.0    406597.5   \n",
       "100003                   N             0          270000.0   1293502.5   \n",
       "100004                   Y             0           67500.0    135000.0   \n",
       "\n",
       "            AMT_ANNUITY  AMT_GOODS_PRICE  ... FLAG_DOCUMENT_18  \\\n",
       "SK_ID_CURR                                ...                    \n",
       "100002          24700.5         351000.0  ...                0   \n",
       "100003          35698.5        1129500.0  ...                0   \n",
       "100004           6750.0         135000.0  ...                0   \n",
       "\n",
       "           FLAG_DOCUMENT_19 FLAG_DOCUMENT_20 FLAG_DOCUMENT_21  \\\n",
       "SK_ID_CURR                                                      \n",
       "100002                    0                0                0   \n",
       "100003                    0                0                0   \n",
       "100004                    0                0                0   \n",
       "\n",
       "           AMT_REQ_CREDIT_BUREAU_HOUR  AMT_REQ_CREDIT_BUREAU_DAY  \\\n",
       "SK_ID_CURR                                                         \n",
       "100002                            0.0                        0.0   \n",
       "100003                            0.0                        0.0   \n",
       "100004                            0.0                        0.0   \n",
       "\n",
       "            AMT_REQ_CREDIT_BUREAU_WEEK  AMT_REQ_CREDIT_BUREAU_MON  \\\n",
       "SK_ID_CURR                                                          \n",
       "100002                             0.0                        0.0   \n",
       "100003                             0.0                        0.0   \n",
       "100004                             0.0                        0.0   \n",
       "\n",
       "            AMT_REQ_CREDIT_BUREAU_QRT  AMT_REQ_CREDIT_BUREAU_YEAR  \n",
       "SK_ID_CURR                                                         \n",
       "100002                            0.0                         1.0  \n",
       "100003                            0.0                         0.0  \n",
       "100004                            0.0                         0.0  \n",
       "\n",
       "[3 rows x 121 columns]"
      ]
     },
     "execution_count": 4,
     "metadata": {},
     "output_type": "execute_result"
    }
   ],
   "source": [
    "data.head(3)"
   ]
  },
  {
   "cell_type": "code",
   "execution_count": 5,
   "metadata": {},
   "outputs": [
    {
     "data": {
      "text/plain": [
       "(307511, 121)"
      ]
     },
     "execution_count": 5,
     "metadata": {},
     "output_type": "execute_result"
    }
   ],
   "source": [
    "data.shape"
   ]
  },
  {
   "cell_type": "code",
   "execution_count": 99,
   "metadata": {},
   "outputs": [],
   "source": [
    "Y = data['TARGET']\n",
    "data.drop(['TARGET'], axis=1, inplace=True)"
   ]
  },
  {
   "cell_type": "code",
   "execution_count": 7,
   "metadata": {},
   "outputs": [
    {
     "name": "stdout",
     "output_type": "stream",
     "text": [
      "<class 'pandas.core.frame.DataFrame'>\n",
      "Int64Index: 307511 entries, 100002 to 456255\n",
      "Columns: 120 entries, NAME_CONTRACT_TYPE to AMT_REQ_CREDIT_BUREAU_YEAR\n",
      "dtypes: float64(65), int64(39), object(16)\n",
      "memory usage: 283.9+ MB\n"
     ]
    }
   ],
   "source": [
    "data.info()"
   ]
  },
  {
   "cell_type": "code",
   "execution_count": 8,
   "metadata": {},
   "outputs": [
    {
     "data": {
      "text/plain": [
       "Index(['AMT_ANNUITY', 'AMT_GOODS_PRICE', 'NAME_TYPE_SUITE', 'OWN_CAR_AGE',\n",
       "       'OCCUPATION_TYPE', 'CNT_FAM_MEMBERS', 'EXT_SOURCE_1', 'EXT_SOURCE_2',\n",
       "       'EXT_SOURCE_3', 'APARTMENTS_AVG', 'BASEMENTAREA_AVG',\n",
       "       'YEARS_BEGINEXPLUATATION_AVG', 'YEARS_BUILD_AVG', 'COMMONAREA_AVG',\n",
       "       'ELEVATORS_AVG', 'ENTRANCES_AVG', 'FLOORSMAX_AVG', 'FLOORSMIN_AVG',\n",
       "       'LANDAREA_AVG', 'LIVINGAPARTMENTS_AVG', 'LIVINGAREA_AVG',\n",
       "       'NONLIVINGAPARTMENTS_AVG', 'NONLIVINGAREA_AVG', 'APARTMENTS_MODE',\n",
       "       'BASEMENTAREA_MODE', 'YEARS_BEGINEXPLUATATION_MODE', 'YEARS_BUILD_MODE',\n",
       "       'COMMONAREA_MODE', 'ELEVATORS_MODE', 'ENTRANCES_MODE', 'FLOORSMAX_MODE',\n",
       "       'FLOORSMIN_MODE', 'LANDAREA_MODE', 'LIVINGAPARTMENTS_MODE',\n",
       "       'LIVINGAREA_MODE', 'NONLIVINGAPARTMENTS_MODE', 'NONLIVINGAREA_MODE',\n",
       "       'APARTMENTS_MEDI', 'BASEMENTAREA_MEDI', 'YEARS_BEGINEXPLUATATION_MEDI',\n",
       "       'YEARS_BUILD_MEDI', 'COMMONAREA_MEDI', 'ELEVATORS_MEDI',\n",
       "       'ENTRANCES_MEDI', 'FLOORSMAX_MEDI', 'FLOORSMIN_MEDI', 'LANDAREA_MEDI',\n",
       "       'LIVINGAPARTMENTS_MEDI', 'LIVINGAREA_MEDI', 'NONLIVINGAPARTMENTS_MEDI',\n",
       "       'NONLIVINGAREA_MEDI', 'FONDKAPREMONT_MODE', 'HOUSETYPE_MODE',\n",
       "       'TOTALAREA_MODE', 'WALLSMATERIAL_MODE', 'EMERGENCYSTATE_MODE',\n",
       "       'OBS_30_CNT_SOCIAL_CIRCLE', 'DEF_30_CNT_SOCIAL_CIRCLE',\n",
       "       'OBS_60_CNT_SOCIAL_CIRCLE', 'DEF_60_CNT_SOCIAL_CIRCLE',\n",
       "       'DAYS_LAST_PHONE_CHANGE', 'AMT_REQ_CREDIT_BUREAU_HOUR',\n",
       "       'AMT_REQ_CREDIT_BUREAU_DAY', 'AMT_REQ_CREDIT_BUREAU_WEEK',\n",
       "       'AMT_REQ_CREDIT_BUREAU_MON', 'AMT_REQ_CREDIT_BUREAU_QRT',\n",
       "       'AMT_REQ_CREDIT_BUREAU_YEAR'],\n",
       "      dtype='object')"
      ]
     },
     "execution_count": 8,
     "metadata": {},
     "output_type": "execute_result"
    }
   ],
   "source": [
    "data.columns[data.isnull().any()]"
   ]
  },
  {
   "cell_type": "code",
   "execution_count": 9,
   "metadata": {},
   "outputs": [
    {
     "data": {
      "text/html": [
       "<div>\n",
       "<style scoped>\n",
       "    .dataframe tbody tr th:only-of-type {\n",
       "        vertical-align: middle;\n",
       "    }\n",
       "\n",
       "    .dataframe tbody tr th {\n",
       "        vertical-align: top;\n",
       "    }\n",
       "\n",
       "    .dataframe thead th {\n",
       "        text-align: right;\n",
       "    }\n",
       "</style>\n",
       "<table border=\"1\" class=\"dataframe\">\n",
       "  <thead>\n",
       "    <tr style=\"text-align: right;\">\n",
       "      <th></th>\n",
       "      <th>CNT_CHILDREN</th>\n",
       "      <th>AMT_INCOME_TOTAL</th>\n",
       "      <th>AMT_CREDIT</th>\n",
       "      <th>AMT_ANNUITY</th>\n",
       "      <th>AMT_GOODS_PRICE</th>\n",
       "      <th>REGION_POPULATION_RELATIVE</th>\n",
       "      <th>DAYS_BIRTH</th>\n",
       "      <th>DAYS_EMPLOYED</th>\n",
       "      <th>DAYS_REGISTRATION</th>\n",
       "      <th>DAYS_ID_PUBLISH</th>\n",
       "      <th>...</th>\n",
       "      <th>FLAG_DOCUMENT_18</th>\n",
       "      <th>FLAG_DOCUMENT_19</th>\n",
       "      <th>FLAG_DOCUMENT_20</th>\n",
       "      <th>FLAG_DOCUMENT_21</th>\n",
       "      <th>AMT_REQ_CREDIT_BUREAU_HOUR</th>\n",
       "      <th>AMT_REQ_CREDIT_BUREAU_DAY</th>\n",
       "      <th>AMT_REQ_CREDIT_BUREAU_WEEK</th>\n",
       "      <th>AMT_REQ_CREDIT_BUREAU_MON</th>\n",
       "      <th>AMT_REQ_CREDIT_BUREAU_QRT</th>\n",
       "      <th>AMT_REQ_CREDIT_BUREAU_YEAR</th>\n",
       "    </tr>\n",
       "  </thead>\n",
       "  <tbody>\n",
       "    <tr>\n",
       "      <th>count</th>\n",
       "      <td>307511.000000</td>\n",
       "      <td>3.075110e+05</td>\n",
       "      <td>3.075110e+05</td>\n",
       "      <td>307499.000000</td>\n",
       "      <td>3.072330e+05</td>\n",
       "      <td>307511.000000</td>\n",
       "      <td>307511.000000</td>\n",
       "      <td>307511.000000</td>\n",
       "      <td>307511.000000</td>\n",
       "      <td>307511.000000</td>\n",
       "      <td>...</td>\n",
       "      <td>307511.000000</td>\n",
       "      <td>307511.000000</td>\n",
       "      <td>307511.000000</td>\n",
       "      <td>307511.000000</td>\n",
       "      <td>265992.000000</td>\n",
       "      <td>265992.000000</td>\n",
       "      <td>265992.000000</td>\n",
       "      <td>265992.000000</td>\n",
       "      <td>265992.000000</td>\n",
       "      <td>265992.000000</td>\n",
       "    </tr>\n",
       "    <tr>\n",
       "      <th>mean</th>\n",
       "      <td>0.417052</td>\n",
       "      <td>1.687979e+05</td>\n",
       "      <td>5.990260e+05</td>\n",
       "      <td>27108.573909</td>\n",
       "      <td>5.383962e+05</td>\n",
       "      <td>0.020868</td>\n",
       "      <td>-16036.995067</td>\n",
       "      <td>63815.045904</td>\n",
       "      <td>-4986.120328</td>\n",
       "      <td>-2994.202373</td>\n",
       "      <td>...</td>\n",
       "      <td>0.008130</td>\n",
       "      <td>0.000595</td>\n",
       "      <td>0.000507</td>\n",
       "      <td>0.000335</td>\n",
       "      <td>0.006402</td>\n",
       "      <td>0.007000</td>\n",
       "      <td>0.034362</td>\n",
       "      <td>0.267395</td>\n",
       "      <td>0.265474</td>\n",
       "      <td>1.899974</td>\n",
       "    </tr>\n",
       "    <tr>\n",
       "      <th>std</th>\n",
       "      <td>0.722121</td>\n",
       "      <td>2.371231e+05</td>\n",
       "      <td>4.024908e+05</td>\n",
       "      <td>14493.737315</td>\n",
       "      <td>3.694465e+05</td>\n",
       "      <td>0.013831</td>\n",
       "      <td>4363.988632</td>\n",
       "      <td>141275.766519</td>\n",
       "      <td>3522.886321</td>\n",
       "      <td>1509.450419</td>\n",
       "      <td>...</td>\n",
       "      <td>0.089798</td>\n",
       "      <td>0.024387</td>\n",
       "      <td>0.022518</td>\n",
       "      <td>0.018299</td>\n",
       "      <td>0.083849</td>\n",
       "      <td>0.110757</td>\n",
       "      <td>0.204685</td>\n",
       "      <td>0.916002</td>\n",
       "      <td>0.794056</td>\n",
       "      <td>1.869295</td>\n",
       "    </tr>\n",
       "    <tr>\n",
       "      <th>min</th>\n",
       "      <td>0.000000</td>\n",
       "      <td>2.565000e+04</td>\n",
       "      <td>4.500000e+04</td>\n",
       "      <td>1615.500000</td>\n",
       "      <td>4.050000e+04</td>\n",
       "      <td>0.000290</td>\n",
       "      <td>-25229.000000</td>\n",
       "      <td>-17912.000000</td>\n",
       "      <td>-24672.000000</td>\n",
       "      <td>-7197.000000</td>\n",
       "      <td>...</td>\n",
       "      <td>0.000000</td>\n",
       "      <td>0.000000</td>\n",
       "      <td>0.000000</td>\n",
       "      <td>0.000000</td>\n",
       "      <td>0.000000</td>\n",
       "      <td>0.000000</td>\n",
       "      <td>0.000000</td>\n",
       "      <td>0.000000</td>\n",
       "      <td>0.000000</td>\n",
       "      <td>0.000000</td>\n",
       "    </tr>\n",
       "    <tr>\n",
       "      <th>25%</th>\n",
       "      <td>0.000000</td>\n",
       "      <td>1.125000e+05</td>\n",
       "      <td>2.700000e+05</td>\n",
       "      <td>16524.000000</td>\n",
       "      <td>2.385000e+05</td>\n",
       "      <td>0.010006</td>\n",
       "      <td>-19682.000000</td>\n",
       "      <td>-2760.000000</td>\n",
       "      <td>-7479.500000</td>\n",
       "      <td>-4299.000000</td>\n",
       "      <td>...</td>\n",
       "      <td>0.000000</td>\n",
       "      <td>0.000000</td>\n",
       "      <td>0.000000</td>\n",
       "      <td>0.000000</td>\n",
       "      <td>0.000000</td>\n",
       "      <td>0.000000</td>\n",
       "      <td>0.000000</td>\n",
       "      <td>0.000000</td>\n",
       "      <td>0.000000</td>\n",
       "      <td>0.000000</td>\n",
       "    </tr>\n",
       "    <tr>\n",
       "      <th>50%</th>\n",
       "      <td>0.000000</td>\n",
       "      <td>1.471500e+05</td>\n",
       "      <td>5.135310e+05</td>\n",
       "      <td>24903.000000</td>\n",
       "      <td>4.500000e+05</td>\n",
       "      <td>0.018850</td>\n",
       "      <td>-15750.000000</td>\n",
       "      <td>-1213.000000</td>\n",
       "      <td>-4504.000000</td>\n",
       "      <td>-3254.000000</td>\n",
       "      <td>...</td>\n",
       "      <td>0.000000</td>\n",
       "      <td>0.000000</td>\n",
       "      <td>0.000000</td>\n",
       "      <td>0.000000</td>\n",
       "      <td>0.000000</td>\n",
       "      <td>0.000000</td>\n",
       "      <td>0.000000</td>\n",
       "      <td>0.000000</td>\n",
       "      <td>0.000000</td>\n",
       "      <td>1.000000</td>\n",
       "    </tr>\n",
       "    <tr>\n",
       "      <th>75%</th>\n",
       "      <td>1.000000</td>\n",
       "      <td>2.025000e+05</td>\n",
       "      <td>8.086500e+05</td>\n",
       "      <td>34596.000000</td>\n",
       "      <td>6.795000e+05</td>\n",
       "      <td>0.028663</td>\n",
       "      <td>-12413.000000</td>\n",
       "      <td>-289.000000</td>\n",
       "      <td>-2010.000000</td>\n",
       "      <td>-1720.000000</td>\n",
       "      <td>...</td>\n",
       "      <td>0.000000</td>\n",
       "      <td>0.000000</td>\n",
       "      <td>0.000000</td>\n",
       "      <td>0.000000</td>\n",
       "      <td>0.000000</td>\n",
       "      <td>0.000000</td>\n",
       "      <td>0.000000</td>\n",
       "      <td>0.000000</td>\n",
       "      <td>0.000000</td>\n",
       "      <td>3.000000</td>\n",
       "    </tr>\n",
       "    <tr>\n",
       "      <th>max</th>\n",
       "      <td>19.000000</td>\n",
       "      <td>1.170000e+08</td>\n",
       "      <td>4.050000e+06</td>\n",
       "      <td>258025.500000</td>\n",
       "      <td>4.050000e+06</td>\n",
       "      <td>0.072508</td>\n",
       "      <td>-7489.000000</td>\n",
       "      <td>365243.000000</td>\n",
       "      <td>0.000000</td>\n",
       "      <td>0.000000</td>\n",
       "      <td>...</td>\n",
       "      <td>1.000000</td>\n",
       "      <td>1.000000</td>\n",
       "      <td>1.000000</td>\n",
       "      <td>1.000000</td>\n",
       "      <td>4.000000</td>\n",
       "      <td>9.000000</td>\n",
       "      <td>8.000000</td>\n",
       "      <td>27.000000</td>\n",
       "      <td>261.000000</td>\n",
       "      <td>25.000000</td>\n",
       "    </tr>\n",
       "  </tbody>\n",
       "</table>\n",
       "<p>8 rows × 104 columns</p>\n",
       "</div>"
      ],
      "text/plain": [
       "        CNT_CHILDREN  AMT_INCOME_TOTAL    AMT_CREDIT    AMT_ANNUITY  \\\n",
       "count  307511.000000      3.075110e+05  3.075110e+05  307499.000000   \n",
       "mean        0.417052      1.687979e+05  5.990260e+05   27108.573909   \n",
       "std         0.722121      2.371231e+05  4.024908e+05   14493.737315   \n",
       "min         0.000000      2.565000e+04  4.500000e+04    1615.500000   \n",
       "25%         0.000000      1.125000e+05  2.700000e+05   16524.000000   \n",
       "50%         0.000000      1.471500e+05  5.135310e+05   24903.000000   \n",
       "75%         1.000000      2.025000e+05  8.086500e+05   34596.000000   \n",
       "max        19.000000      1.170000e+08  4.050000e+06  258025.500000   \n",
       "\n",
       "       AMT_GOODS_PRICE  REGION_POPULATION_RELATIVE     DAYS_BIRTH  \\\n",
       "count     3.072330e+05               307511.000000  307511.000000   \n",
       "mean      5.383962e+05                    0.020868  -16036.995067   \n",
       "std       3.694465e+05                    0.013831    4363.988632   \n",
       "min       4.050000e+04                    0.000290  -25229.000000   \n",
       "25%       2.385000e+05                    0.010006  -19682.000000   \n",
       "50%       4.500000e+05                    0.018850  -15750.000000   \n",
       "75%       6.795000e+05                    0.028663  -12413.000000   \n",
       "max       4.050000e+06                    0.072508   -7489.000000   \n",
       "\n",
       "       DAYS_EMPLOYED  DAYS_REGISTRATION  DAYS_ID_PUBLISH  ...  \\\n",
       "count  307511.000000      307511.000000    307511.000000  ...   \n",
       "mean    63815.045904       -4986.120328     -2994.202373  ...   \n",
       "std    141275.766519        3522.886321      1509.450419  ...   \n",
       "min    -17912.000000      -24672.000000     -7197.000000  ...   \n",
       "25%     -2760.000000       -7479.500000     -4299.000000  ...   \n",
       "50%     -1213.000000       -4504.000000     -3254.000000  ...   \n",
       "75%      -289.000000       -2010.000000     -1720.000000  ...   \n",
       "max    365243.000000           0.000000         0.000000  ...   \n",
       "\n",
       "       FLAG_DOCUMENT_18  FLAG_DOCUMENT_19  FLAG_DOCUMENT_20  FLAG_DOCUMENT_21  \\\n",
       "count     307511.000000     307511.000000     307511.000000     307511.000000   \n",
       "mean           0.008130          0.000595          0.000507          0.000335   \n",
       "std            0.089798          0.024387          0.022518          0.018299   \n",
       "min            0.000000          0.000000          0.000000          0.000000   \n",
       "25%            0.000000          0.000000          0.000000          0.000000   \n",
       "50%            0.000000          0.000000          0.000000          0.000000   \n",
       "75%            0.000000          0.000000          0.000000          0.000000   \n",
       "max            1.000000          1.000000          1.000000          1.000000   \n",
       "\n",
       "       AMT_REQ_CREDIT_BUREAU_HOUR  AMT_REQ_CREDIT_BUREAU_DAY  \\\n",
       "count               265992.000000              265992.000000   \n",
       "mean                     0.006402                   0.007000   \n",
       "std                      0.083849                   0.110757   \n",
       "min                      0.000000                   0.000000   \n",
       "25%                      0.000000                   0.000000   \n",
       "50%                      0.000000                   0.000000   \n",
       "75%                      0.000000                   0.000000   \n",
       "max                      4.000000                   9.000000   \n",
       "\n",
       "       AMT_REQ_CREDIT_BUREAU_WEEK  AMT_REQ_CREDIT_BUREAU_MON  \\\n",
       "count               265992.000000              265992.000000   \n",
       "mean                     0.034362                   0.267395   \n",
       "std                      0.204685                   0.916002   \n",
       "min                      0.000000                   0.000000   \n",
       "25%                      0.000000                   0.000000   \n",
       "50%                      0.000000                   0.000000   \n",
       "75%                      0.000000                   0.000000   \n",
       "max                      8.000000                  27.000000   \n",
       "\n",
       "       AMT_REQ_CREDIT_BUREAU_QRT  AMT_REQ_CREDIT_BUREAU_YEAR  \n",
       "count              265992.000000               265992.000000  \n",
       "mean                    0.265474                    1.899974  \n",
       "std                     0.794056                    1.869295  \n",
       "min                     0.000000                    0.000000  \n",
       "25%                     0.000000                    0.000000  \n",
       "50%                     0.000000                    1.000000  \n",
       "75%                     0.000000                    3.000000  \n",
       "max                   261.000000                   25.000000  \n",
       "\n",
       "[8 rows x 104 columns]"
      ]
     },
     "execution_count": 9,
     "metadata": {},
     "output_type": "execute_result"
    }
   ],
   "source": [
    "data.describe()"
   ]
  },
  {
   "cell_type": "code",
   "execution_count": 10,
   "metadata": {},
   "outputs": [],
   "source": [
    "description = pd.read_csv('./data/HomeCredit_columns_description.csv', encoding = 'unicode_escape')"
   ]
  },
  {
   "cell_type": "code",
   "execution_count": 11,
   "metadata": {},
   "outputs": [
    {
     "data": {
      "text/plain": [
       "(219, 5)"
      ]
     },
     "execution_count": 11,
     "metadata": {},
     "output_type": "execute_result"
    }
   ],
   "source": [
    "description.shape"
   ]
  },
  {
   "cell_type": "code",
   "execution_count": 12,
   "metadata": {
    "scrolled": true
   },
   "outputs": [
    {
     "data": {
      "text/plain": [
       "array([['SK_ID_CURR', 'ID of loan in our sample'],\n",
       "       ['TARGET',\n",
       "        'Target variable (1 - client with payment difficulties: he/she had late payment more than X days on at least one of the first Y installments of the loan in our sample, 0 - all other cases)'],\n",
       "       ['NAME_CONTRACT_TYPE',\n",
       "        'Identification if loan is cash or revolving'],\n",
       "       ['CODE_GENDER', 'Gender of the client'],\n",
       "       ['FLAG_OWN_CAR', 'Flag if the client owns a car'],\n",
       "       ['FLAG_OWN_REALTY', 'Flag if client owns a house or flat'],\n",
       "       ['CNT_CHILDREN', 'Number of children the client has'],\n",
       "       ['AMT_INCOME_TOTAL', 'Income of the client'],\n",
       "       ['AMT_CREDIT', 'Credit amount of the loan'],\n",
       "       ['AMT_ANNUITY', 'Loan annuity'],\n",
       "       ['AMT_GOODS_PRICE',\n",
       "        'For consumer loans it is the price of the goods for which the loan is given'],\n",
       "       ['NAME_TYPE_SUITE',\n",
       "        'Who was accompanying client when he was applying for the loan'],\n",
       "       ['NAME_INCOME_TYPE',\n",
       "        'Clients income type (businessman, working, maternity leave,\\x85)'],\n",
       "       ['NAME_EDUCATION_TYPE',\n",
       "        'Level of highest education the client achieved'],\n",
       "       ['NAME_FAMILY_STATUS', 'Family status of the client'],\n",
       "       ['NAME_HOUSING_TYPE',\n",
       "        'What is the housing situation of the client (renting, living with parents, ...)'],\n",
       "       ['REGION_POPULATION_RELATIVE',\n",
       "        'Normalized population of region where client lives (higher number means the client lives in more populated region)'],\n",
       "       ['DAYS_BIRTH', \"Client's age in days at the time of application\"],\n",
       "       ['DAYS_EMPLOYED',\n",
       "        'How many days before the application the person started current employment'],\n",
       "       ['DAYS_REGISTRATION',\n",
       "        'How many days before the application did client change his registration'],\n",
       "       ['DAYS_ID_PUBLISH',\n",
       "        'How many days before the application did client change the identity document with which he applied for the loan'],\n",
       "       ['OWN_CAR_AGE', \"Age of client's car\"],\n",
       "       ['FLAG_MOBIL', 'Did client provide mobile phone (1=YES, 0=NO)'],\n",
       "       ['FLAG_EMP_PHONE', 'Did client provide work phone (1=YES, 0=NO)'],\n",
       "       ['FLAG_WORK_PHONE', 'Did client provide home phone (1=YES, 0=NO)'],\n",
       "       ['FLAG_CONT_MOBILE', 'Was mobile phone reachable (1=YES, 0=NO)'],\n",
       "       ['FLAG_PHONE', 'Did client provide home phone (1=YES, 0=NO)'],\n",
       "       ['FLAG_EMAIL', 'Did client provide email (1=YES, 0=NO)'],\n",
       "       ['OCCUPATION_TYPE',\n",
       "        'What kind of occupation does the client have'],\n",
       "       ['CNT_FAM_MEMBERS', 'How many family members does client have'],\n",
       "       ['REGION_RATING_CLIENT',\n",
       "        'Our rating of the region where client lives (1,2,3)'],\n",
       "       ['REGION_RATING_CLIENT_W_CITY',\n",
       "        'Our rating of the region where client lives with taking city into account (1,2,3)'],\n",
       "       ['WEEKDAY_APPR_PROCESS_START',\n",
       "        'On which day of the week did the client apply for the loan'],\n",
       "       ['HOUR_APPR_PROCESS_START',\n",
       "        'Approximately at what hour did the client apply for the loan'],\n",
       "       ['REG_REGION_NOT_LIVE_REGION',\n",
       "        \"Flag if client's permanent address does not match contact address (1=different, 0=same, at region level)\"],\n",
       "       ['REG_REGION_NOT_WORK_REGION',\n",
       "        \"Flag if client's permanent address does not match work address (1=different, 0=same, at region level)\"],\n",
       "       ['LIVE_REGION_NOT_WORK_REGION',\n",
       "        \"Flag if client's contact address does not match work address (1=different, 0=same, at region level)\"],\n",
       "       ['REG_CITY_NOT_LIVE_CITY',\n",
       "        \"Flag if client's permanent address does not match contact address (1=different, 0=same, at city level)\"],\n",
       "       ['REG_CITY_NOT_WORK_CITY',\n",
       "        \"Flag if client's permanent address does not match work address (1=different, 0=same, at city level)\"],\n",
       "       ['LIVE_CITY_NOT_WORK_CITY',\n",
       "        \"Flag if client's contact address does not match work address (1=different, 0=same, at city level)\"],\n",
       "       ['ORGANIZATION_TYPE', 'Type of organization where client works'],\n",
       "       ['EXT_SOURCE_1', 'Normalized score from external data source'],\n",
       "       ['EXT_SOURCE_2', 'Normalized score from external data source'],\n",
       "       ['EXT_SOURCE_3', 'Normalized score from external data source'],\n",
       "       ['APARTMENTS_AVG',\n",
       "        'Normalized information about building where the client lives, What is average (_AVG suffix), modus (_MODE suffix), median (_MEDI suffix) apartment size, common area, living area, age of building, number of elevators, number of entrances, state of the building, number of floor'],\n",
       "       ['BASEMENTAREA_AVG',\n",
       "        'Normalized information about building where the client lives, What is average (_AVG suffix), modus (_MODE suffix), median (_MEDI suffix) apartment size, common area, living area, age of building, number of elevators, number of entrances, state of the building, number of floor'],\n",
       "       ['YEARS_BEGINEXPLUATATION_AVG',\n",
       "        'Normalized information about building where the client lives, What is average (_AVG suffix), modus (_MODE suffix), median (_MEDI suffix) apartment size, common area, living area, age of building, number of elevators, number of entrances, state of the building, number of floor'],\n",
       "       ['YEARS_BUILD_AVG',\n",
       "        'Normalized information about building where the client lives, What is average (_AVG suffix), modus (_MODE suffix), median (_MEDI suffix) apartment size, common area, living area, age of building, number of elevators, number of entrances, state of the building, number of floor'],\n",
       "       ['COMMONAREA_AVG',\n",
       "        'Normalized information about building where the client lives, What is average (_AVG suffix), modus (_MODE suffix), median (_MEDI suffix) apartment size, common area, living area, age of building, number of elevators, number of entrances, state of the building, number of floor'],\n",
       "       ['ELEVATORS_AVG',\n",
       "        'Normalized information about building where the client lives, What is average (_AVG suffix), modus (_MODE suffix), median (_MEDI suffix) apartment size, common area, living area, age of building, number of elevators, number of entrances, state of the building, number of floor'],\n",
       "       ['ENTRANCES_AVG',\n",
       "        'Normalized information about building where the client lives, What is average (_AVG suffix), modus (_MODE suffix), median (_MEDI suffix) apartment size, common area, living area, age of building, number of elevators, number of entrances, state of the building, number of floor'],\n",
       "       ['FLOORSMAX_AVG',\n",
       "        'Normalized information about building where the client lives, What is average (_AVG suffix), modus (_MODE suffix), median (_MEDI suffix) apartment size, common area, living area, age of building, number of elevators, number of entrances, state of the building, number of floor'],\n",
       "       ['FLOORSMIN_AVG',\n",
       "        'Normalized information about building where the client lives, What is average (_AVG suffix), modus (_MODE suffix), median (_MEDI suffix) apartment size, common area, living area, age of building, number of elevators, number of entrances, state of the building, number of floor'],\n",
       "       ['LANDAREA_AVG',\n",
       "        'Normalized information about building where the client lives, What is average (_AVG suffix), modus (_MODE suffix), median (_MEDI suffix) apartment size, common area, living area, age of building, number of elevators, number of entrances, state of the building, number of floor'],\n",
       "       ['LIVINGAPARTMENTS_AVG',\n",
       "        'Normalized information about building where the client lives, What is average (_AVG suffix), modus (_MODE suffix), median (_MEDI suffix) apartment size, common area, living area, age of building, number of elevators, number of entrances, state of the building, number of floor'],\n",
       "       ['LIVINGAREA_AVG',\n",
       "        'Normalized information about building where the client lives, What is average (_AVG suffix), modus (_MODE suffix), median (_MEDI suffix) apartment size, common area, living area, age of building, number of elevators, number of entrances, state of the building, number of floor'],\n",
       "       ['NONLIVINGAPARTMENTS_AVG',\n",
       "        'Normalized information about building where the client lives, What is average (_AVG suffix), modus (_MODE suffix), median (_MEDI suffix) apartment size, common area, living area, age of building, number of elevators, number of entrances, state of the building, number of floor'],\n",
       "       ['NONLIVINGAREA_AVG',\n",
       "        'Normalized information about building where the client lives, What is average (_AVG suffix), modus (_MODE suffix), median (_MEDI suffix) apartment size, common area, living area, age of building, number of elevators, number of entrances, state of the building, number of floor'],\n",
       "       ['APARTMENTS_MODE',\n",
       "        'Normalized information about building where the client lives, What is average (_AVG suffix), modus (_MODE suffix), median (_MEDI suffix) apartment size, common area, living area, age of building, number of elevators, number of entrances, state of the building, number of floor'],\n",
       "       ['BASEMENTAREA_MODE',\n",
       "        'Normalized information about building where the client lives, What is average (_AVG suffix), modus (_MODE suffix), median (_MEDI suffix) apartment size, common area, living area, age of building, number of elevators, number of entrances, state of the building, number of floor'],\n",
       "       ['YEARS_BEGINEXPLUATATION_MODE',\n",
       "        'Normalized information about building where the client lives, What is average (_AVG suffix), modus (_MODE suffix), median (_MEDI suffix) apartment size, common area, living area, age of building, number of elevators, number of entrances, state of the building, number of floor'],\n",
       "       ['YEARS_BUILD_MODE',\n",
       "        'Normalized information about building where the client lives, What is average (_AVG suffix), modus (_MODE suffix), median (_MEDI suffix) apartment size, common area, living area, age of building, number of elevators, number of entrances, state of the building, number of floor'],\n",
       "       ['COMMONAREA_MODE',\n",
       "        'Normalized information about building where the client lives, What is average (_AVG suffix), modus (_MODE suffix), median (_MEDI suffix) apartment size, common area, living area, age of building, number of elevators, number of entrances, state of the building, number of floor'],\n",
       "       ['ELEVATORS_MODE',\n",
       "        'Normalized information about building where the client lives, What is average (_AVG suffix), modus (_MODE suffix), median (_MEDI suffix) apartment size, common area, living area, age of building, number of elevators, number of entrances, state of the building, number of floor'],\n",
       "       ['ENTRANCES_MODE',\n",
       "        'Normalized information about building where the client lives, What is average (_AVG suffix), modus (_MODE suffix), median (_MEDI suffix) apartment size, common area, living area, age of building, number of elevators, number of entrances, state of the building, number of floor'],\n",
       "       ['FLOORSMAX_MODE',\n",
       "        'Normalized information about building where the client lives, What is average (_AVG suffix), modus (_MODE suffix), median (_MEDI suffix) apartment size, common area, living area, age of building, number of elevators, number of entrances, state of the building, number of floor'],\n",
       "       ['FLOORSMIN_MODE',\n",
       "        'Normalized information about building where the client lives, What is average (_AVG suffix), modus (_MODE suffix), median (_MEDI suffix) apartment size, common area, living area, age of building, number of elevators, number of entrances, state of the building, number of floor'],\n",
       "       ['LANDAREA_MODE',\n",
       "        'Normalized information about building where the client lives, What is average (_AVG suffix), modus (_MODE suffix), median (_MEDI suffix) apartment size, common area, living area, age of building, number of elevators, number of entrances, state of the building, number of floor'],\n",
       "       ['LIVINGAPARTMENTS_MODE',\n",
       "        'Normalized information about building where the client lives, What is average (_AVG suffix), modus (_MODE suffix), median (_MEDI suffix) apartment size, common area, living area, age of building, number of elevators, number of entrances, state of the building, number of floor'],\n",
       "       ['LIVINGAREA_MODE',\n",
       "        'Normalized information about building where the client lives, What is average (_AVG suffix), modus (_MODE suffix), median (_MEDI suffix) apartment size, common area, living area, age of building, number of elevators, number of entrances, state of the building, number of floor'],\n",
       "       ['NONLIVINGAPARTMENTS_MODE',\n",
       "        'Normalized information about building where the client lives, What is average (_AVG suffix), modus (_MODE suffix), median (_MEDI suffix) apartment size, common area, living area, age of building, number of elevators, number of entrances, state of the building, number of floor'],\n",
       "       ['NONLIVINGAREA_MODE',\n",
       "        'Normalized information about building where the client lives, What is average (_AVG suffix), modus (_MODE suffix), median (_MEDI suffix) apartment size, common area, living area, age of building, number of elevators, number of entrances, state of the building, number of floor'],\n",
       "       ['APARTMENTS_MEDI',\n",
       "        'Normalized information about building where the client lives, What is average (_AVG suffix), modus (_MODE suffix), median (_MEDI suffix) apartment size, common area, living area, age of building, number of elevators, number of entrances, state of the building, number of floor'],\n",
       "       ['BASEMENTAREA_MEDI',\n",
       "        'Normalized information about building where the client lives, What is average (_AVG suffix), modus (_MODE suffix), median (_MEDI suffix) apartment size, common area, living area, age of building, number of elevators, number of entrances, state of the building, number of floor'],\n",
       "       ['YEARS_BEGINEXPLUATATION_MEDI',\n",
       "        'Normalized information about building where the client lives, What is average (_AVG suffix), modus (_MODE suffix), median (_MEDI suffix) apartment size, common area, living area, age of building, number of elevators, number of entrances, state of the building, number of floor'],\n",
       "       ['YEARS_BUILD_MEDI',\n",
       "        'Normalized information about building where the client lives, What is average (_AVG suffix), modus (_MODE suffix), median (_MEDI suffix) apartment size, common area, living area, age of building, number of elevators, number of entrances, state of the building, number of floor'],\n",
       "       ['COMMONAREA_MEDI',\n",
       "        'Normalized information about building where the client lives, What is average (_AVG suffix), modus (_MODE suffix), median (_MEDI suffix) apartment size, common area, living area, age of building, number of elevators, number of entrances, state of the building, number of floor'],\n",
       "       ['ELEVATORS_MEDI',\n",
       "        'Normalized information about building where the client lives, What is average (_AVG suffix), modus (_MODE suffix), median (_MEDI suffix) apartment size, common area, living area, age of building, number of elevators, number of entrances, state of the building, number of floor'],\n",
       "       ['ENTRANCES_MEDI',\n",
       "        'Normalized information about building where the client lives, What is average (_AVG suffix), modus (_MODE suffix), median (_MEDI suffix) apartment size, common area, living area, age of building, number of elevators, number of entrances, state of the building, number of floor'],\n",
       "       ['FLOORSMAX_MEDI',\n",
       "        'Normalized information about building where the client lives, What is average (_AVG suffix), modus (_MODE suffix), median (_MEDI suffix) apartment size, common area, living area, age of building, number of elevators, number of entrances, state of the building, number of floor'],\n",
       "       ['FLOORSMIN_MEDI',\n",
       "        'Normalized information about building where the client lives, What is average (_AVG suffix), modus (_MODE suffix), median (_MEDI suffix) apartment size, common area, living area, age of building, number of elevators, number of entrances, state of the building, number of floor'],\n",
       "       ['LANDAREA_MEDI',\n",
       "        'Normalized information about building where the client lives, What is average (_AVG suffix), modus (_MODE suffix), median (_MEDI suffix) apartment size, common area, living area, age of building, number of elevators, number of entrances, state of the building, number of floor'],\n",
       "       ['LIVINGAPARTMENTS_MEDI',\n",
       "        'Normalized information about building where the client lives, What is average (_AVG suffix), modus (_MODE suffix), median (_MEDI suffix) apartment size, common area, living area, age of building, number of elevators, number of entrances, state of the building, number of floor'],\n",
       "       ['LIVINGAREA_MEDI',\n",
       "        'Normalized information about building where the client lives, What is average (_AVG suffix), modus (_MODE suffix), median (_MEDI suffix) apartment size, common area, living area, age of building, number of elevators, number of entrances, state of the building, number of floor'],\n",
       "       ['NONLIVINGAPARTMENTS_MEDI',\n",
       "        'Normalized information about building where the client lives, What is average (_AVG suffix), modus (_MODE suffix), median (_MEDI suffix) apartment size, common area, living area, age of building, number of elevators, number of entrances, state of the building, number of floor'],\n",
       "       ['NONLIVINGAREA_MEDI',\n",
       "        'Normalized information about building where the client lives, What is average (_AVG suffix), modus (_MODE suffix), median (_MEDI suffix) apartment size, common area, living area, age of building, number of elevators, number of entrances, state of the building, number of floor'],\n",
       "       ['FONDKAPREMONT_MODE',\n",
       "        'Normalized information about building where the client lives, What is average (_AVG suffix), modus (_MODE suffix), median (_MEDI suffix) apartment size, common area, living area, age of building, number of elevators, number of entrances, state of the building, number of floor'],\n",
       "       ['HOUSETYPE_MODE',\n",
       "        'Normalized information about building where the client lives, What is average (_AVG suffix), modus (_MODE suffix), median (_MEDI suffix) apartment size, common area, living area, age of building, number of elevators, number of entrances, state of the building, number of floor'],\n",
       "       ['TOTALAREA_MODE',\n",
       "        'Normalized information about building where the client lives, What is average (_AVG suffix), modus (_MODE suffix), median (_MEDI suffix) apartment size, common area, living area, age of building, number of elevators, number of entrances, state of the building, number of floor'],\n",
       "       ['WALLSMATERIAL_MODE',\n",
       "        'Normalized information about building where the client lives, What is average (_AVG suffix), modus (_MODE suffix), median (_MEDI suffix) apartment size, common area, living area, age of building, number of elevators, number of entrances, state of the building, number of floor'],\n",
       "       ['EMERGENCYSTATE_MODE',\n",
       "        'Normalized information about building where the client lives, What is average (_AVG suffix), modus (_MODE suffix), median (_MEDI suffix) apartment size, common area, living area, age of building, number of elevators, number of entrances, state of the building, number of floor'],\n",
       "       ['OBS_30_CNT_SOCIAL_CIRCLE',\n",
       "        \"How many observation of client's social surroundings with observable 30 DPD (days past due) default\"],\n",
       "       ['DEF_30_CNT_SOCIAL_CIRCLE',\n",
       "        \"How many observation of client's social surroundings defaulted on 30 DPD (days past due) \"],\n",
       "       ['OBS_60_CNT_SOCIAL_CIRCLE',\n",
       "        \"How many observation of client's social surroundings with observable 60 DPD (days past due) default\"],\n",
       "       ['DEF_60_CNT_SOCIAL_CIRCLE',\n",
       "        \"How many observation of client's social surroundings defaulted on 60 (days past due) DPD\"],\n",
       "       ['DAYS_LAST_PHONE_CHANGE',\n",
       "        'How many days before application did client change phone'],\n",
       "       ['FLAG_DOCUMENT_2', 'Did client provide document 2'],\n",
       "       ['FLAG_DOCUMENT_3', 'Did client provide document 3'],\n",
       "       ['FLAG_DOCUMENT_4', 'Did client provide document 4'],\n",
       "       ['FLAG_DOCUMENT_5', 'Did client provide document 5'],\n",
       "       ['FLAG_DOCUMENT_6', 'Did client provide document 6'],\n",
       "       ['FLAG_DOCUMENT_7', 'Did client provide document 7'],\n",
       "       ['FLAG_DOCUMENT_8', 'Did client provide document 8'],\n",
       "       ['FLAG_DOCUMENT_9', 'Did client provide document 9'],\n",
       "       ['FLAG_DOCUMENT_10', 'Did client provide document 10'],\n",
       "       ['FLAG_DOCUMENT_11', 'Did client provide document 11'],\n",
       "       ['FLAG_DOCUMENT_12', 'Did client provide document 12'],\n",
       "       ['FLAG_DOCUMENT_13', 'Did client provide document 13'],\n",
       "       ['FLAG_DOCUMENT_14', 'Did client provide document 14'],\n",
       "       ['FLAG_DOCUMENT_15', 'Did client provide document 15'],\n",
       "       ['FLAG_DOCUMENT_16', 'Did client provide document 16'],\n",
       "       ['FLAG_DOCUMENT_17', 'Did client provide document 17'],\n",
       "       ['FLAG_DOCUMENT_18', 'Did client provide document 18'],\n",
       "       ['FLAG_DOCUMENT_19', 'Did client provide document 19'],\n",
       "       ['FLAG_DOCUMENT_20', 'Did client provide document 20'],\n",
       "       ['FLAG_DOCUMENT_21', 'Did client provide document 21'],\n",
       "       ['AMT_REQ_CREDIT_BUREAU_HOUR',\n",
       "        'Number of enquiries to Credit Bureau about the client one hour before application'],\n",
       "       ['AMT_REQ_CREDIT_BUREAU_DAY',\n",
       "        'Number of enquiries to Credit Bureau about the client one day before application (excluding one hour before application)'],\n",
       "       ['AMT_REQ_CREDIT_BUREAU_WEEK',\n",
       "        'Number of enquiries to Credit Bureau about the client one week before application (excluding one day before application)'],\n",
       "       ['AMT_REQ_CREDIT_BUREAU_MON',\n",
       "        'Number of enquiries to Credit Bureau about the client one month before application (excluding one week before application)'],\n",
       "       ['AMT_REQ_CREDIT_BUREAU_QRT',\n",
       "        'Number of enquiries to Credit Bureau about the client 3 month before application (excluding one month before application)'],\n",
       "       ['AMT_REQ_CREDIT_BUREAU_YEAR',\n",
       "        'Number of enquiries to Credit Bureau about the client one day year (excluding last 3 months before application)']],\n",
       "      dtype=object)"
      ]
     },
     "execution_count": 12,
     "metadata": {},
     "output_type": "execute_result"
    }
   ],
   "source": [
    "row_with_descr = description[description['Table'] == 'application_{train|test}.csv'][['Row', 'Description']]\n",
    "row_with_descr.values"
   ]
  },
  {
   "cell_type": "markdown",
   "metadata": {},
   "source": [
    "#### Последние колонки либо почти всегда константные, либо непонятно их описание, уберу их."
   ]
  },
  {
   "cell_type": "code",
   "execution_count": 5,
   "metadata": {},
   "outputs": [
    {
     "data": {
      "text/plain": [
       "(307511, 110)"
      ]
     },
     "execution_count": 5,
     "metadata": {},
     "output_type": "execute_result"
    }
   ],
   "source": [
    "data.drop(data.columns[110:], axis=1, inplace=True)\n",
    "data.shape"
   ]
  },
  {
   "cell_type": "markdown",
   "metadata": {},
   "source": [
    "#### Категориальные признаки со стринговыми значениями"
   ]
  },
  {
   "cell_type": "code",
   "execution_count": 6,
   "metadata": {},
   "outputs": [
    {
     "data": {
      "text/plain": [
       "Index(['NAME_CONTRACT_TYPE', 'CODE_GENDER', 'FLAG_OWN_CAR', 'FLAG_OWN_REALTY',\n",
       "       'NAME_TYPE_SUITE', 'NAME_INCOME_TYPE', 'NAME_EDUCATION_TYPE',\n",
       "       'NAME_FAMILY_STATUS', 'NAME_HOUSING_TYPE', 'OCCUPATION_TYPE',\n",
       "       'WEEKDAY_APPR_PROCESS_START', 'ORGANIZATION_TYPE', 'FONDKAPREMONT_MODE',\n",
       "       'HOUSETYPE_MODE', 'WALLSMATERIAL_MODE', 'EMERGENCYSTATE_MODE'],\n",
       "      dtype='object')"
      ]
     },
     "execution_count": 6,
     "metadata": {},
     "output_type": "execute_result"
    }
   ],
   "source": [
    "object_cols = data.describe(include=['object']).columns\n",
    "object_cols"
   ]
  },
  {
   "cell_type": "code",
   "execution_count": 7,
   "metadata": {},
   "outputs": [
    {
     "data": {
      "text/html": [
       "<div>\n",
       "<style scoped>\n",
       "    .dataframe tbody tr th:only-of-type {\n",
       "        vertical-align: middle;\n",
       "    }\n",
       "\n",
       "    .dataframe tbody tr th {\n",
       "        vertical-align: top;\n",
       "    }\n",
       "\n",
       "    .dataframe thead th {\n",
       "        text-align: right;\n",
       "    }\n",
       "</style>\n",
       "<table border=\"1\" class=\"dataframe\">\n",
       "  <thead>\n",
       "    <tr style=\"text-align: right;\">\n",
       "      <th></th>\n",
       "      <th>NAME_CONTRACT_TYPE</th>\n",
       "      <th>CODE_GENDER</th>\n",
       "      <th>FLAG_OWN_CAR</th>\n",
       "      <th>FLAG_OWN_REALTY</th>\n",
       "      <th>NAME_TYPE_SUITE</th>\n",
       "      <th>NAME_INCOME_TYPE</th>\n",
       "      <th>NAME_EDUCATION_TYPE</th>\n",
       "      <th>NAME_FAMILY_STATUS</th>\n",
       "      <th>NAME_HOUSING_TYPE</th>\n",
       "      <th>OCCUPATION_TYPE</th>\n",
       "      <th>WEEKDAY_APPR_PROCESS_START</th>\n",
       "      <th>ORGANIZATION_TYPE</th>\n",
       "      <th>FONDKAPREMONT_MODE</th>\n",
       "      <th>HOUSETYPE_MODE</th>\n",
       "      <th>WALLSMATERIAL_MODE</th>\n",
       "      <th>EMERGENCYSTATE_MODE</th>\n",
       "    </tr>\n",
       "    <tr>\n",
       "      <th>SK_ID_CURR</th>\n",
       "      <th></th>\n",
       "      <th></th>\n",
       "      <th></th>\n",
       "      <th></th>\n",
       "      <th></th>\n",
       "      <th></th>\n",
       "      <th></th>\n",
       "      <th></th>\n",
       "      <th></th>\n",
       "      <th></th>\n",
       "      <th></th>\n",
       "      <th></th>\n",
       "      <th></th>\n",
       "      <th></th>\n",
       "      <th></th>\n",
       "      <th></th>\n",
       "    </tr>\n",
       "  </thead>\n",
       "  <tbody>\n",
       "    <tr>\n",
       "      <th>100002</th>\n",
       "      <td>Cash loans</td>\n",
       "      <td>M</td>\n",
       "      <td>N</td>\n",
       "      <td>Y</td>\n",
       "      <td>Unaccompanied</td>\n",
       "      <td>Working</td>\n",
       "      <td>Secondary / secondary special</td>\n",
       "      <td>Single / not married</td>\n",
       "      <td>House / apartment</td>\n",
       "      <td>Laborers</td>\n",
       "      <td>WEDNESDAY</td>\n",
       "      <td>Business Entity Type 3</td>\n",
       "      <td>reg oper account</td>\n",
       "      <td>block of flats</td>\n",
       "      <td>Stone, brick</td>\n",
       "      <td>No</td>\n",
       "    </tr>\n",
       "    <tr>\n",
       "      <th>100003</th>\n",
       "      <td>Cash loans</td>\n",
       "      <td>F</td>\n",
       "      <td>N</td>\n",
       "      <td>N</td>\n",
       "      <td>Family</td>\n",
       "      <td>State servant</td>\n",
       "      <td>Higher education</td>\n",
       "      <td>Married</td>\n",
       "      <td>House / apartment</td>\n",
       "      <td>Core staff</td>\n",
       "      <td>MONDAY</td>\n",
       "      <td>School</td>\n",
       "      <td>reg oper account</td>\n",
       "      <td>block of flats</td>\n",
       "      <td>Block</td>\n",
       "      <td>No</td>\n",
       "    </tr>\n",
       "    <tr>\n",
       "      <th>100004</th>\n",
       "      <td>Revolving loans</td>\n",
       "      <td>M</td>\n",
       "      <td>Y</td>\n",
       "      <td>Y</td>\n",
       "      <td>Unaccompanied</td>\n",
       "      <td>Working</td>\n",
       "      <td>Secondary / secondary special</td>\n",
       "      <td>Single / not married</td>\n",
       "      <td>House / apartment</td>\n",
       "      <td>Laborers</td>\n",
       "      <td>MONDAY</td>\n",
       "      <td>Government</td>\n",
       "      <td>NaN</td>\n",
       "      <td>NaN</td>\n",
       "      <td>NaN</td>\n",
       "      <td>NaN</td>\n",
       "    </tr>\n",
       "    <tr>\n",
       "      <th>100006</th>\n",
       "      <td>Cash loans</td>\n",
       "      <td>F</td>\n",
       "      <td>N</td>\n",
       "      <td>Y</td>\n",
       "      <td>Unaccompanied</td>\n",
       "      <td>Working</td>\n",
       "      <td>Secondary / secondary special</td>\n",
       "      <td>Civil marriage</td>\n",
       "      <td>House / apartment</td>\n",
       "      <td>Laborers</td>\n",
       "      <td>WEDNESDAY</td>\n",
       "      <td>Business Entity Type 3</td>\n",
       "      <td>NaN</td>\n",
       "      <td>NaN</td>\n",
       "      <td>NaN</td>\n",
       "      <td>NaN</td>\n",
       "    </tr>\n",
       "    <tr>\n",
       "      <th>100007</th>\n",
       "      <td>Cash loans</td>\n",
       "      <td>M</td>\n",
       "      <td>N</td>\n",
       "      <td>Y</td>\n",
       "      <td>Unaccompanied</td>\n",
       "      <td>Working</td>\n",
       "      <td>Secondary / secondary special</td>\n",
       "      <td>Single / not married</td>\n",
       "      <td>House / apartment</td>\n",
       "      <td>Core staff</td>\n",
       "      <td>THURSDAY</td>\n",
       "      <td>Religion</td>\n",
       "      <td>NaN</td>\n",
       "      <td>NaN</td>\n",
       "      <td>NaN</td>\n",
       "      <td>NaN</td>\n",
       "    </tr>\n",
       "  </tbody>\n",
       "</table>\n",
       "</div>"
      ],
      "text/plain": [
       "           NAME_CONTRACT_TYPE CODE_GENDER FLAG_OWN_CAR FLAG_OWN_REALTY  \\\n",
       "SK_ID_CURR                                                               \n",
       "100002             Cash loans           M            N               Y   \n",
       "100003             Cash loans           F            N               N   \n",
       "100004        Revolving loans           M            Y               Y   \n",
       "100006             Cash loans           F            N               Y   \n",
       "100007             Cash loans           M            N               Y   \n",
       "\n",
       "           NAME_TYPE_SUITE NAME_INCOME_TYPE            NAME_EDUCATION_TYPE  \\\n",
       "SK_ID_CURR                                                                   \n",
       "100002       Unaccompanied          Working  Secondary / secondary special   \n",
       "100003              Family    State servant               Higher education   \n",
       "100004       Unaccompanied          Working  Secondary / secondary special   \n",
       "100006       Unaccompanied          Working  Secondary / secondary special   \n",
       "100007       Unaccompanied          Working  Secondary / secondary special   \n",
       "\n",
       "              NAME_FAMILY_STATUS  NAME_HOUSING_TYPE OCCUPATION_TYPE  \\\n",
       "SK_ID_CURR                                                            \n",
       "100002      Single / not married  House / apartment        Laborers   \n",
       "100003                   Married  House / apartment      Core staff   \n",
       "100004      Single / not married  House / apartment        Laborers   \n",
       "100006            Civil marriage  House / apartment        Laborers   \n",
       "100007      Single / not married  House / apartment      Core staff   \n",
       "\n",
       "           WEEKDAY_APPR_PROCESS_START       ORGANIZATION_TYPE  \\\n",
       "SK_ID_CURR                                                      \n",
       "100002                      WEDNESDAY  Business Entity Type 3   \n",
       "100003                         MONDAY                  School   \n",
       "100004                         MONDAY              Government   \n",
       "100006                      WEDNESDAY  Business Entity Type 3   \n",
       "100007                       THURSDAY                Religion   \n",
       "\n",
       "           FONDKAPREMONT_MODE  HOUSETYPE_MODE WALLSMATERIAL_MODE  \\\n",
       "SK_ID_CURR                                                         \n",
       "100002       reg oper account  block of flats       Stone, brick   \n",
       "100003       reg oper account  block of flats              Block   \n",
       "100004                    NaN             NaN                NaN   \n",
       "100006                    NaN             NaN                NaN   \n",
       "100007                    NaN             NaN                NaN   \n",
       "\n",
       "           EMERGENCYSTATE_MODE  \n",
       "SK_ID_CURR                      \n",
       "100002                      No  \n",
       "100003                      No  \n",
       "100004                     NaN  \n",
       "100006                     NaN  \n",
       "100007                     NaN  "
      ]
     },
     "execution_count": 7,
     "metadata": {},
     "output_type": "execute_result"
    }
   ],
   "source": [
    "data[object_cols].head()"
   ]
  },
  {
   "cell_type": "code",
   "execution_count": 8,
   "metadata": {},
   "outputs": [
    {
     "data": {
      "text/html": [
       "<div>\n",
       "<style scoped>\n",
       "    .dataframe tbody tr th:only-of-type {\n",
       "        vertical-align: middle;\n",
       "    }\n",
       "\n",
       "    .dataframe tbody tr th {\n",
       "        vertical-align: top;\n",
       "    }\n",
       "\n",
       "    .dataframe thead th {\n",
       "        text-align: right;\n",
       "    }\n",
       "</style>\n",
       "<table border=\"1\" class=\"dataframe\">\n",
       "  <thead>\n",
       "    <tr style=\"text-align: right;\">\n",
       "      <th></th>\n",
       "      <th>CNT_CHILDREN</th>\n",
       "      <th>AMT_INCOME_TOTAL</th>\n",
       "      <th>AMT_CREDIT</th>\n",
       "      <th>AMT_ANNUITY</th>\n",
       "      <th>AMT_GOODS_PRICE</th>\n",
       "      <th>REGION_POPULATION_RELATIVE</th>\n",
       "      <th>DAYS_BIRTH</th>\n",
       "      <th>DAYS_EMPLOYED</th>\n",
       "      <th>DAYS_REGISTRATION</th>\n",
       "      <th>DAYS_ID_PUBLISH</th>\n",
       "      <th>...</th>\n",
       "      <th>FLAG_DOCUMENT_8</th>\n",
       "      <th>FLAG_DOCUMENT_9</th>\n",
       "      <th>FLAG_DOCUMENT_10</th>\n",
       "      <th>FLAG_DOCUMENT_11</th>\n",
       "      <th>FLAG_DOCUMENT_12</th>\n",
       "      <th>FLAG_DOCUMENT_13</th>\n",
       "      <th>FLAG_DOCUMENT_14</th>\n",
       "      <th>FLAG_DOCUMENT_15</th>\n",
       "      <th>FLAG_DOCUMENT_16</th>\n",
       "      <th>FLAG_DOCUMENT_17</th>\n",
       "    </tr>\n",
       "  </thead>\n",
       "  <tbody>\n",
       "    <tr>\n",
       "      <th>count</th>\n",
       "      <td>307511.000000</td>\n",
       "      <td>3.075110e+05</td>\n",
       "      <td>3.075110e+05</td>\n",
       "      <td>307499.000000</td>\n",
       "      <td>3.072330e+05</td>\n",
       "      <td>307511.000000</td>\n",
       "      <td>307511.000000</td>\n",
       "      <td>307511.000000</td>\n",
       "      <td>307511.000000</td>\n",
       "      <td>307511.000000</td>\n",
       "      <td>...</td>\n",
       "      <td>307511.000000</td>\n",
       "      <td>307511.000000</td>\n",
       "      <td>307511.000000</td>\n",
       "      <td>307511.000000</td>\n",
       "      <td>307511.000000</td>\n",
       "      <td>307511.000000</td>\n",
       "      <td>307511.000000</td>\n",
       "      <td>307511.00000</td>\n",
       "      <td>307511.000000</td>\n",
       "      <td>307511.000000</td>\n",
       "    </tr>\n",
       "    <tr>\n",
       "      <th>mean</th>\n",
       "      <td>0.417052</td>\n",
       "      <td>1.687979e+05</td>\n",
       "      <td>5.990260e+05</td>\n",
       "      <td>27108.573909</td>\n",
       "      <td>5.383962e+05</td>\n",
       "      <td>0.020868</td>\n",
       "      <td>-16036.995067</td>\n",
       "      <td>63815.045904</td>\n",
       "      <td>-4986.120328</td>\n",
       "      <td>-2994.202373</td>\n",
       "      <td>...</td>\n",
       "      <td>0.081376</td>\n",
       "      <td>0.003896</td>\n",
       "      <td>0.000023</td>\n",
       "      <td>0.003912</td>\n",
       "      <td>0.000007</td>\n",
       "      <td>0.003525</td>\n",
       "      <td>0.002936</td>\n",
       "      <td>0.00121</td>\n",
       "      <td>0.009928</td>\n",
       "      <td>0.000267</td>\n",
       "    </tr>\n",
       "    <tr>\n",
       "      <th>std</th>\n",
       "      <td>0.722121</td>\n",
       "      <td>2.371231e+05</td>\n",
       "      <td>4.024908e+05</td>\n",
       "      <td>14493.737315</td>\n",
       "      <td>3.694465e+05</td>\n",
       "      <td>0.013831</td>\n",
       "      <td>4363.988632</td>\n",
       "      <td>141275.766519</td>\n",
       "      <td>3522.886321</td>\n",
       "      <td>1509.450419</td>\n",
       "      <td>...</td>\n",
       "      <td>0.273412</td>\n",
       "      <td>0.062295</td>\n",
       "      <td>0.004771</td>\n",
       "      <td>0.062424</td>\n",
       "      <td>0.002550</td>\n",
       "      <td>0.059268</td>\n",
       "      <td>0.054110</td>\n",
       "      <td>0.03476</td>\n",
       "      <td>0.099144</td>\n",
       "      <td>0.016327</td>\n",
       "    </tr>\n",
       "    <tr>\n",
       "      <th>min</th>\n",
       "      <td>0.000000</td>\n",
       "      <td>2.565000e+04</td>\n",
       "      <td>4.500000e+04</td>\n",
       "      <td>1615.500000</td>\n",
       "      <td>4.050000e+04</td>\n",
       "      <td>0.000290</td>\n",
       "      <td>-25229.000000</td>\n",
       "      <td>-17912.000000</td>\n",
       "      <td>-24672.000000</td>\n",
       "      <td>-7197.000000</td>\n",
       "      <td>...</td>\n",
       "      <td>0.000000</td>\n",
       "      <td>0.000000</td>\n",
       "      <td>0.000000</td>\n",
       "      <td>0.000000</td>\n",
       "      <td>0.000000</td>\n",
       "      <td>0.000000</td>\n",
       "      <td>0.000000</td>\n",
       "      <td>0.00000</td>\n",
       "      <td>0.000000</td>\n",
       "      <td>0.000000</td>\n",
       "    </tr>\n",
       "    <tr>\n",
       "      <th>25%</th>\n",
       "      <td>0.000000</td>\n",
       "      <td>1.125000e+05</td>\n",
       "      <td>2.700000e+05</td>\n",
       "      <td>16524.000000</td>\n",
       "      <td>2.385000e+05</td>\n",
       "      <td>0.010006</td>\n",
       "      <td>-19682.000000</td>\n",
       "      <td>-2760.000000</td>\n",
       "      <td>-7479.500000</td>\n",
       "      <td>-4299.000000</td>\n",
       "      <td>...</td>\n",
       "      <td>0.000000</td>\n",
       "      <td>0.000000</td>\n",
       "      <td>0.000000</td>\n",
       "      <td>0.000000</td>\n",
       "      <td>0.000000</td>\n",
       "      <td>0.000000</td>\n",
       "      <td>0.000000</td>\n",
       "      <td>0.00000</td>\n",
       "      <td>0.000000</td>\n",
       "      <td>0.000000</td>\n",
       "    </tr>\n",
       "    <tr>\n",
       "      <th>50%</th>\n",
       "      <td>0.000000</td>\n",
       "      <td>1.471500e+05</td>\n",
       "      <td>5.135310e+05</td>\n",
       "      <td>24903.000000</td>\n",
       "      <td>4.500000e+05</td>\n",
       "      <td>0.018850</td>\n",
       "      <td>-15750.000000</td>\n",
       "      <td>-1213.000000</td>\n",
       "      <td>-4504.000000</td>\n",
       "      <td>-3254.000000</td>\n",
       "      <td>...</td>\n",
       "      <td>0.000000</td>\n",
       "      <td>0.000000</td>\n",
       "      <td>0.000000</td>\n",
       "      <td>0.000000</td>\n",
       "      <td>0.000000</td>\n",
       "      <td>0.000000</td>\n",
       "      <td>0.000000</td>\n",
       "      <td>0.00000</td>\n",
       "      <td>0.000000</td>\n",
       "      <td>0.000000</td>\n",
       "    </tr>\n",
       "    <tr>\n",
       "      <th>75%</th>\n",
       "      <td>1.000000</td>\n",
       "      <td>2.025000e+05</td>\n",
       "      <td>8.086500e+05</td>\n",
       "      <td>34596.000000</td>\n",
       "      <td>6.795000e+05</td>\n",
       "      <td>0.028663</td>\n",
       "      <td>-12413.000000</td>\n",
       "      <td>-289.000000</td>\n",
       "      <td>-2010.000000</td>\n",
       "      <td>-1720.000000</td>\n",
       "      <td>...</td>\n",
       "      <td>0.000000</td>\n",
       "      <td>0.000000</td>\n",
       "      <td>0.000000</td>\n",
       "      <td>0.000000</td>\n",
       "      <td>0.000000</td>\n",
       "      <td>0.000000</td>\n",
       "      <td>0.000000</td>\n",
       "      <td>0.00000</td>\n",
       "      <td>0.000000</td>\n",
       "      <td>0.000000</td>\n",
       "    </tr>\n",
       "    <tr>\n",
       "      <th>max</th>\n",
       "      <td>19.000000</td>\n",
       "      <td>1.170000e+08</td>\n",
       "      <td>4.050000e+06</td>\n",
       "      <td>258025.500000</td>\n",
       "      <td>4.050000e+06</td>\n",
       "      <td>0.072508</td>\n",
       "      <td>-7489.000000</td>\n",
       "      <td>365243.000000</td>\n",
       "      <td>0.000000</td>\n",
       "      <td>0.000000</td>\n",
       "      <td>...</td>\n",
       "      <td>1.000000</td>\n",
       "      <td>1.000000</td>\n",
       "      <td>1.000000</td>\n",
       "      <td>1.000000</td>\n",
       "      <td>1.000000</td>\n",
       "      <td>1.000000</td>\n",
       "      <td>1.000000</td>\n",
       "      <td>1.00000</td>\n",
       "      <td>1.000000</td>\n",
       "      <td>1.000000</td>\n",
       "    </tr>\n",
       "  </tbody>\n",
       "</table>\n",
       "<p>8 rows × 94 columns</p>\n",
       "</div>"
      ],
      "text/plain": [
       "        CNT_CHILDREN  AMT_INCOME_TOTAL    AMT_CREDIT    AMT_ANNUITY  \\\n",
       "count  307511.000000      3.075110e+05  3.075110e+05  307499.000000   \n",
       "mean        0.417052      1.687979e+05  5.990260e+05   27108.573909   \n",
       "std         0.722121      2.371231e+05  4.024908e+05   14493.737315   \n",
       "min         0.000000      2.565000e+04  4.500000e+04    1615.500000   \n",
       "25%         0.000000      1.125000e+05  2.700000e+05   16524.000000   \n",
       "50%         0.000000      1.471500e+05  5.135310e+05   24903.000000   \n",
       "75%         1.000000      2.025000e+05  8.086500e+05   34596.000000   \n",
       "max        19.000000      1.170000e+08  4.050000e+06  258025.500000   \n",
       "\n",
       "       AMT_GOODS_PRICE  REGION_POPULATION_RELATIVE     DAYS_BIRTH  \\\n",
       "count     3.072330e+05               307511.000000  307511.000000   \n",
       "mean      5.383962e+05                    0.020868  -16036.995067   \n",
       "std       3.694465e+05                    0.013831    4363.988632   \n",
       "min       4.050000e+04                    0.000290  -25229.000000   \n",
       "25%       2.385000e+05                    0.010006  -19682.000000   \n",
       "50%       4.500000e+05                    0.018850  -15750.000000   \n",
       "75%       6.795000e+05                    0.028663  -12413.000000   \n",
       "max       4.050000e+06                    0.072508   -7489.000000   \n",
       "\n",
       "       DAYS_EMPLOYED  DAYS_REGISTRATION  DAYS_ID_PUBLISH        ...         \\\n",
       "count  307511.000000      307511.000000    307511.000000        ...          \n",
       "mean    63815.045904       -4986.120328     -2994.202373        ...          \n",
       "std    141275.766519        3522.886321      1509.450419        ...          \n",
       "min    -17912.000000      -24672.000000     -7197.000000        ...          \n",
       "25%     -2760.000000       -7479.500000     -4299.000000        ...          \n",
       "50%     -1213.000000       -4504.000000     -3254.000000        ...          \n",
       "75%      -289.000000       -2010.000000     -1720.000000        ...          \n",
       "max    365243.000000           0.000000         0.000000        ...          \n",
       "\n",
       "       FLAG_DOCUMENT_8  FLAG_DOCUMENT_9  FLAG_DOCUMENT_10  FLAG_DOCUMENT_11  \\\n",
       "count    307511.000000    307511.000000     307511.000000     307511.000000   \n",
       "mean          0.081376         0.003896          0.000023          0.003912   \n",
       "std           0.273412         0.062295          0.004771          0.062424   \n",
       "min           0.000000         0.000000          0.000000          0.000000   \n",
       "25%           0.000000         0.000000          0.000000          0.000000   \n",
       "50%           0.000000         0.000000          0.000000          0.000000   \n",
       "75%           0.000000         0.000000          0.000000          0.000000   \n",
       "max           1.000000         1.000000          1.000000          1.000000   \n",
       "\n",
       "       FLAG_DOCUMENT_12  FLAG_DOCUMENT_13  FLAG_DOCUMENT_14  FLAG_DOCUMENT_15  \\\n",
       "count     307511.000000     307511.000000     307511.000000      307511.00000   \n",
       "mean           0.000007          0.003525          0.002936           0.00121   \n",
       "std            0.002550          0.059268          0.054110           0.03476   \n",
       "min            0.000000          0.000000          0.000000           0.00000   \n",
       "25%            0.000000          0.000000          0.000000           0.00000   \n",
       "50%            0.000000          0.000000          0.000000           0.00000   \n",
       "75%            0.000000          0.000000          0.000000           0.00000   \n",
       "max            1.000000          1.000000          1.000000           1.00000   \n",
       "\n",
       "       FLAG_DOCUMENT_16  FLAG_DOCUMENT_17  \n",
       "count     307511.000000     307511.000000  \n",
       "mean           0.009928          0.000267  \n",
       "std            0.099144          0.016327  \n",
       "min            0.000000          0.000000  \n",
       "25%            0.000000          0.000000  \n",
       "50%            0.000000          0.000000  \n",
       "75%            0.000000          0.000000  \n",
       "max            1.000000          1.000000  \n",
       "\n",
       "[8 rows x 94 columns]"
      ]
     },
     "execution_count": 8,
     "metadata": {},
     "output_type": "execute_result"
    }
   ],
   "source": [
    "data.describe()"
   ]
  },
  {
   "cell_type": "code",
   "execution_count": 9,
   "metadata": {},
   "outputs": [],
   "source": [
    "add = data.describe().iloc[:, 60:73].columns"
   ]
  },
  {
   "cell_type": "code",
   "execution_count": 10,
   "metadata": {},
   "outputs": [],
   "source": [
    "numerical = ['AMT_INCOME_TOTAL', 'AMT_CREDIT', 'AMT_ANNUITY', 'AMT_GOODS_PRICE',\n",
    "             'REGION_POPULATION_RELATIVE', 'DAYS_BIRTH', 'DAYS_EMPLOYED',\n",
    "             'DAYS_REGISTRATION', 'DAYS_ID_PUBLISH', 'OWN_CAR_AGE', 'CNT_FAM_MEMBERS',\n",
    "             'HOUR_APPR_PROCESS_START', 'EXT_SOURCE_1', 'EXT_SOURCE_2', 'EXT_SOURCE_3',\n",
    "             'APARTMENTS_AVG', 'BASEMENTAREA_AVG', 'YEARS_BEGINEXPLUATATION_AVG',\n",
    "             'YEARS_BUILD_AVG', 'COMMONAREA_AVG', 'ELEVATORS_AVG', 'ENTRANCES_AVG',\n",
    "             'FLOORSMAX_AVG', 'FLOORSMIN_AVG', 'LANDAREA_AVG', 'LIVINGAPARTMENTS_AVG',\n",
    "             'LIVINGAREA_AVG', 'NONLIVINGAPARTMENTS_AVG', 'NONLIVINGAREA_AVG', \n",
    "             'APARTMENTS_MODE', 'BASEMENTAREA_MODE', 'YEARS_BEGINEXPLUATATION_MODE',\n",
    "             'YEARS_BUILD_MODE', 'COMMONAREA_MODE', 'ELEVATORS_MODE', 'ENTRANCES_MODE',\n",
    "             'FLOORSMAX_MODE', 'FLOORSMIN_MODE', 'LANDAREA_MODE',\n",
    "             'LIVINGAPARTMENTS_MODE', 'LIVINGAREA_MODE', 'NONLIVINGAPARTMENTS_MODE',\n",
    "             'NONLIVINGAREA_MODE', 'APARTMENTS_MEDI', 'BASEMENTAREA_MEDI',\n",
    "             'DAYS_LAST_PHONE_CHANGE']"
   ]
  },
  {
   "cell_type": "code",
   "execution_count": 11,
   "metadata": {},
   "outputs": [],
   "source": [
    "numerical = np.concatenate((numerical, add.values))"
   ]
  },
  {
   "cell_type": "markdown",
   "metadata": {},
   "source": [
    "#### Признаки, принимающие вещественные значения"
   ]
  },
  {
   "cell_type": "code",
   "execution_count": 12,
   "metadata": {},
   "outputs": [
    {
     "data": {
      "text/plain": [
       "array(['AMT_INCOME_TOTAL', 'AMT_CREDIT', 'AMT_ANNUITY', 'AMT_GOODS_PRICE',\n",
       "       'REGION_POPULATION_RELATIVE', 'DAYS_BIRTH', 'DAYS_EMPLOYED',\n",
       "       'DAYS_REGISTRATION', 'DAYS_ID_PUBLISH', 'OWN_CAR_AGE',\n",
       "       'CNT_FAM_MEMBERS', 'HOUR_APPR_PROCESS_START', 'EXT_SOURCE_1',\n",
       "       'EXT_SOURCE_2', 'EXT_SOURCE_3', 'APARTMENTS_AVG',\n",
       "       'BASEMENTAREA_AVG', 'YEARS_BEGINEXPLUATATION_AVG',\n",
       "       'YEARS_BUILD_AVG', 'COMMONAREA_AVG', 'ELEVATORS_AVG',\n",
       "       'ENTRANCES_AVG', 'FLOORSMAX_AVG', 'FLOORSMIN_AVG', 'LANDAREA_AVG',\n",
       "       'LIVINGAPARTMENTS_AVG', 'LIVINGAREA_AVG',\n",
       "       'NONLIVINGAPARTMENTS_AVG', 'NONLIVINGAREA_AVG', 'APARTMENTS_MODE',\n",
       "       'BASEMENTAREA_MODE', 'YEARS_BEGINEXPLUATATION_MODE',\n",
       "       'YEARS_BUILD_MODE', 'COMMONAREA_MODE', 'ELEVATORS_MODE',\n",
       "       'ENTRANCES_MODE', 'FLOORSMAX_MODE', 'FLOORSMIN_MODE',\n",
       "       'LANDAREA_MODE', 'LIVINGAPARTMENTS_MODE', 'LIVINGAREA_MODE',\n",
       "       'NONLIVINGAPARTMENTS_MODE', 'NONLIVINGAREA_MODE',\n",
       "       'APARTMENTS_MEDI', 'BASEMENTAREA_MEDI', 'DAYS_LAST_PHONE_CHANGE',\n",
       "       'YEARS_BEGINEXPLUATATION_MEDI', 'YEARS_BUILD_MEDI',\n",
       "       'COMMONAREA_MEDI', 'ELEVATORS_MEDI', 'ENTRANCES_MEDI',\n",
       "       'FLOORSMAX_MEDI', 'FLOORSMIN_MEDI', 'LANDAREA_MEDI',\n",
       "       'LIVINGAPARTMENTS_MEDI', 'LIVINGAREA_MEDI',\n",
       "       'NONLIVINGAPARTMENTS_MEDI', 'NONLIVINGAREA_MEDI', 'TOTALAREA_MODE'],\n",
       "      dtype=object)"
      ]
     },
     "execution_count": 12,
     "metadata": {},
     "output_type": "execute_result"
    }
   ],
   "source": [
    "numerical"
   ]
  },
  {
   "cell_type": "markdown",
   "metadata": {},
   "source": [
    "#### Категориальные числовые вместе со стринговыми"
   ]
  },
  {
   "cell_type": "code",
   "execution_count": 13,
   "metadata": {},
   "outputs": [
    {
     "data": {
      "text/plain": [
       "Index(['NAME_CONTRACT_TYPE', 'CODE_GENDER', 'FLAG_OWN_CAR', 'FLAG_OWN_REALTY',\n",
       "       'CNT_CHILDREN', 'NAME_TYPE_SUITE', 'NAME_INCOME_TYPE',\n",
       "       'NAME_EDUCATION_TYPE', 'NAME_FAMILY_STATUS', 'NAME_HOUSING_TYPE',\n",
       "       'FLAG_MOBIL', 'FLAG_EMP_PHONE', 'FLAG_WORK_PHONE', 'FLAG_CONT_MOBILE',\n",
       "       'FLAG_PHONE', 'FLAG_EMAIL', 'OCCUPATION_TYPE', 'REGION_RATING_CLIENT',\n",
       "       'REGION_RATING_CLIENT_W_CITY', 'WEEKDAY_APPR_PROCESS_START',\n",
       "       'REG_REGION_NOT_LIVE_REGION', 'REG_REGION_NOT_WORK_REGION',\n",
       "       'LIVE_REGION_NOT_WORK_REGION', 'REG_CITY_NOT_LIVE_CITY',\n",
       "       'REG_CITY_NOT_WORK_CITY', 'LIVE_CITY_NOT_WORK_CITY',\n",
       "       'ORGANIZATION_TYPE', 'FONDKAPREMONT_MODE', 'HOUSETYPE_MODE',\n",
       "       'WALLSMATERIAL_MODE', 'EMERGENCYSTATE_MODE', 'OBS_30_CNT_SOCIAL_CIRCLE',\n",
       "       'DEF_30_CNT_SOCIAL_CIRCLE', 'OBS_60_CNT_SOCIAL_CIRCLE',\n",
       "       'DEF_60_CNT_SOCIAL_CIRCLE', 'FLAG_DOCUMENT_2', 'FLAG_DOCUMENT_3',\n",
       "       'FLAG_DOCUMENT_4', 'FLAG_DOCUMENT_5', 'FLAG_DOCUMENT_6',\n",
       "       'FLAG_DOCUMENT_7', 'FLAG_DOCUMENT_8', 'FLAG_DOCUMENT_9',\n",
       "       'FLAG_DOCUMENT_10', 'FLAG_DOCUMENT_11', 'FLAG_DOCUMENT_12',\n",
       "       'FLAG_DOCUMENT_13', 'FLAG_DOCUMENT_14', 'FLAG_DOCUMENT_15',\n",
       "       'FLAG_DOCUMENT_16', 'FLAG_DOCUMENT_17'],\n",
       "      dtype='object')"
      ]
     },
     "execution_count": 13,
     "metadata": {},
     "output_type": "execute_result"
    }
   ],
   "source": [
    "categorical = data.columns[~data.columns.isin(numerical)]\n",
    "categorical"
   ]
  },
  {
   "cell_type": "markdown",
   "metadata": {},
   "source": [
    "#### Делим выборку на обучающую и тестовую"
   ]
  },
  {
   "cell_type": "code",
   "execution_count": 14,
   "metadata": {},
   "outputs": [],
   "source": [
    "from sklearn.model_selection import train_test_split"
   ]
  },
  {
   "cell_type": "code",
   "execution_count": 15,
   "metadata": {},
   "outputs": [],
   "source": [
    "X_train, X_test, y_train, y_test = train_test_split(data, Y, test_size=0.3, random_state=0)"
   ]
  },
  {
   "cell_type": "markdown",
   "metadata": {},
   "source": [
    "#### Заполним пропуски в данных"
   ]
  },
  {
   "cell_type": "code",
   "execution_count": 16,
   "metadata": {},
   "outputs": [],
   "source": [
    "from sklearn.impute import SimpleImputer"
   ]
  },
  {
   "cell_type": "code",
   "execution_count": 17,
   "metadata": {},
   "outputs": [],
   "source": [
    "cat_imputer = SimpleImputer(strategy='most_frequent')\n",
    "cont_imputer = SimpleImputer(strategy='mean')\n",
    "\n",
    "train_cat_imputed = cat_imputer.fit_transform(X_train[categorical])\n",
    "test_cat_imputed = cat_imputer.transform(X_test[categorical])\n",
    "\n",
    "train_cont_imputed = cont_imputer.fit_transform(X_train[numerical])\n",
    "test_cont_imputed = cont_imputer.transform(X_test[numerical])"
   ]
  },
  {
   "cell_type": "markdown",
   "metadata": {},
   "source": [
    "#### Нормировка вещественных признаков и one-hot кодирование категориальных"
   ]
  },
  {
   "cell_type": "code",
   "execution_count": 18,
   "metadata": {},
   "outputs": [],
   "source": [
    "from sklearn.preprocessing import OneHotEncoder\n",
    "from sklearn.preprocessing import StandardScaler"
   ]
  },
  {
   "cell_type": "code",
   "execution_count": 19,
   "metadata": {},
   "outputs": [],
   "source": [
    "ohe = OneHotEncoder(handle_unknown='ignore')\n",
    "std_scaler = StandardScaler()\n",
    "\n",
    "train_cat_encoded = ohe.fit_transform(train_cat_imputed)\n",
    "test_cat_encoded = ohe.transform(test_cat_imputed)\n",
    "\n",
    "train_cont_scaled = std_scaler.fit_transform(train_cont_imputed)\n",
    "test_cont_scaled = std_scaler.transform(test_cont_imputed)"
   ]
  },
  {
   "cell_type": "markdown",
   "metadata": {},
   "source": [
    "__Задание 2. (1.5 балла)__\n",
    "\n",
    "Обучите реализации градиентного бустинга LightGBM и Catboost на вещественных признаках без подбора параметров. \n",
    "Почему получилась заметная разница в качестве? \n",
    "\n",
    "В этом и последующих экспериментах необходимо измерять время обучения моделей."
   ]
  },
  {
   "cell_type": "code",
   "execution_count": 20,
   "metadata": {},
   "outputs": [],
   "source": [
    "import lightgbm\n",
    "from sklearn.metrics import average_precision_score"
   ]
  },
  {
   "cell_type": "code",
   "execution_count": 29,
   "metadata": {},
   "outputs": [
    {
     "name": "stdout",
     "output_type": "stream",
     "text": [
      "0.2245578167160446\n",
      "CPU times: user 16.1 s, sys: 75.8 ms, total: 16.2 s\n",
      "Wall time: 4.18 s\n"
     ]
    }
   ],
   "source": [
    "%%time\n",
    "lgb = lightgbm.LGBMClassifier(random_state=0)\n",
    "lgb.fit(train_cont_scaled, y_train)\n",
    "preds = lgb.predict_proba(test_cont_scaled)\n",
    "print(average_precision_score(y_test, preds[:, 1]))"
   ]
  },
  {
   "cell_type": "code",
   "execution_count": 21,
   "metadata": {},
   "outputs": [],
   "source": [
    "import catboost"
   ]
  },
  {
   "cell_type": "code",
   "execution_count": 31,
   "metadata": {},
   "outputs": [
    {
     "name": "stdout",
     "output_type": "stream",
     "text": [
      "0.22817533263018488\n",
      "CPU times: user 5min 30s, sys: 7.76 s, total: 5min 38s\n",
      "Wall time: 1min 30s\n"
     ]
    }
   ],
   "source": [
    "%%time\n",
    "ctb = catboost.CatBoostClassifier(random_seed=0, silent=True)\n",
    "ctb.fit(train_cont_scaled, y_train)\n",
    "preds = ctb.predict_proba(test_cont_scaled)\n",
    "print(average_precision_score(y_test, preds[:, 1]))"
   ]
  },
  {
   "cell_type": "markdown",
   "metadata": {},
   "source": [
    "#### Качество получилось немного лучше у catboost'a, так как он является менее чувствительным к подбору гиперпараметров, чем lightgbm, который к тому же и делает разбиение не по значениям признаков, а по их гистограмам."
   ]
  },
  {
   "cell_type": "markdown",
   "metadata": {},
   "source": [
    "__Задание 3. (2 балла)__\n",
    "\n",
    "Подберите с CV=3 оптимальные параметры алгоритмов, изменяя:\n",
    "\n",
    "* глубину деревьев;\n",
    "* количество деревьев;\n",
    "* темп обучения;\n",
    "* оптимизируемый функционал.\n",
    "\n",
    "Проанализируйте соотношения глубины и количества деревьев в зависимости от алгоритма."
   ]
  },
  {
   "cell_type": "code",
   "execution_count": 22,
   "metadata": {},
   "outputs": [],
   "source": [
    "from sklearn.model_selection import GridSearchCV\n",
    "from sklearn.metrics import make_scorer"
   ]
  },
  {
   "cell_type": "code",
   "execution_count": 23,
   "metadata": {},
   "outputs": [],
   "source": [
    "lgb = lightgbm.LGBMClassifier(random_state=0)\n",
    "ctb = catboost.CatBoostClassifier(random_seed=0, silent=True)\n",
    "\n",
    "data = np.concatenate((train_cont_scaled, test_cont_scaled))\n",
    "target = np.concatenate((y_train, y_test))\n",
    "\n",
    "scorer = make_scorer(average_precision_score, needs_proba=True)"
   ]
  },
  {
   "cell_type": "code",
   "execution_count": 93,
   "metadata": {},
   "outputs": [],
   "source": [
    "lgb_params = {'max_depth': [3, 5, 7],\n",
    "              'n_estimators': [100, 200, 400],\n",
    "              'learning_rate': [0.01, 0.1, 0.3],\n",
    "              'objective': ['binary', 'cross_entropy']}\n",
    "\n",
    "lgb_gs = GridSearchCV(lgb, lgb_params, scoring=scorer, cv=3)"
   ]
  },
  {
   "cell_type": "code",
   "execution_count": 94,
   "metadata": {
    "scrolled": true
   },
   "outputs": [
    {
     "name": "stdout",
     "output_type": "stream",
     "text": [
      "CPU times: user 1h 30min 2s, sys: 30.2 s, total: 1h 30min 32s\n",
      "Wall time: 23min 28s\n"
     ]
    },
    {
     "data": {
      "text/plain": [
       "GridSearchCV(cv=3, error_score='raise-deprecating',\n",
       "       estimator=LGBMClassifier(boosting_type='gbdt', class_weight=None, colsample_bytree=1.0,\n",
       "        importance_type='split', learning_rate=0.1, max_depth=-1,\n",
       "        min_child_samples=20, min_child_weight=0.001, min_split_gain=0.0,\n",
       "        n_estimators=100, n_jobs=-1, num_leaves=31, objective=None,\n",
       "        random_state=0, reg_alpha=0.0, reg_lambda=0.0, silent=True,\n",
       "        subsample=1.0, subsample_for_bin=200000, subsample_freq=0),\n",
       "       fit_params=None, iid='warn', n_jobs=None,\n",
       "       param_grid={'max_depth': [3, 5, 7], 'n_estimators': [100, 200, 400], 'learning_rate': [0.01, 0.1, 0.3], 'objective': ['binary', 'cross_entropy']},\n",
       "       pre_dispatch='2*n_jobs', refit=True, return_train_score='warn',\n",
       "       scoring=make_scorer(average_precision_score, needs_proba=True),\n",
       "       verbose=0)"
      ]
     },
     "execution_count": 94,
     "metadata": {},
     "output_type": "execute_result"
    }
   ],
   "source": [
    "%%time\n",
    "lgb_gs.fit(data, target)"
   ]
  },
  {
   "cell_type": "code",
   "execution_count": 95,
   "metadata": {},
   "outputs": [
    {
     "data": {
      "text/plain": [
       "LGBMClassifier(boosting_type='gbdt', class_weight=None, colsample_bytree=1.0,\n",
       "        importance_type='split', learning_rate=0.1, max_depth=3,\n",
       "        min_child_samples=20, min_child_weight=0.001, min_split_gain=0.0,\n",
       "        n_estimators=400, n_jobs=-1, num_leaves=31, objective='binary',\n",
       "        random_state=0, reg_alpha=0.0, reg_lambda=0.0, silent=True,\n",
       "        subsample=1.0, subsample_for_bin=200000, subsample_freq=0)"
      ]
     },
     "execution_count": 95,
     "metadata": {},
     "output_type": "execute_result"
    }
   ],
   "source": [
    "lgb_gs.best_estimator_"
   ]
  },
  {
   "cell_type": "code",
   "execution_count": 96,
   "metadata": {},
   "outputs": [
    {
     "data": {
      "text/plain": [
       "0.23259026150295653"
      ]
     },
     "execution_count": 96,
     "metadata": {},
     "output_type": "execute_result"
    }
   ],
   "source": [
    "lgb_gs.best_score_"
   ]
  },
  {
   "cell_type": "code",
   "execution_count": 97,
   "metadata": {},
   "outputs": [],
   "source": [
    "lgb_params = {'max_depth': [3],\n",
    "              'n_estimators': [400, 700, 1000],\n",
    "              'learning_rate': [0.1],\n",
    "              'objective': ['binary']}\n",
    "\n",
    "lgb_gs = GridSearchCV(lgb, lgb_params, scoring=scorer, cv=3)"
   ]
  },
  {
   "cell_type": "code",
   "execution_count": 98,
   "metadata": {},
   "outputs": [
    {
     "name": "stdout",
     "output_type": "stream",
     "text": [
      "CPU times: user 10min 52s, sys: 1.73 s, total: 10min 54s\n",
      "Wall time: 2min 46s\n"
     ]
    },
    {
     "data": {
      "text/plain": [
       "GridSearchCV(cv=3, error_score='raise-deprecating',\n",
       "       estimator=LGBMClassifier(boosting_type='gbdt', class_weight=None, colsample_bytree=1.0,\n",
       "        importance_type='split', learning_rate=0.1, max_depth=-1,\n",
       "        min_child_samples=20, min_child_weight=0.001, min_split_gain=0.0,\n",
       "        n_estimators=100, n_jobs=-1, num_leaves=31, objective=None,\n",
       "        random_state=0, reg_alpha=0.0, reg_lambda=0.0, silent=True,\n",
       "        subsample=1.0, subsample_for_bin=200000, subsample_freq=0),\n",
       "       fit_params=None, iid='warn', n_jobs=None,\n",
       "       param_grid={'max_depth': [3], 'n_estimators': [400, 700, 1000], 'learning_rate': [0.1], 'objective': ['binary']},\n",
       "       pre_dispatch='2*n_jobs', refit=True, return_train_score='warn',\n",
       "       scoring=make_scorer(average_precision_score, needs_proba=True),\n",
       "       verbose=0)"
      ]
     },
     "execution_count": 98,
     "metadata": {},
     "output_type": "execute_result"
    }
   ],
   "source": [
    "%%time\n",
    "lgb_gs.fit(data, target)"
   ]
  },
  {
   "cell_type": "code",
   "execution_count": 99,
   "metadata": {},
   "outputs": [
    {
     "data": {
      "text/plain": [
       "LGBMClassifier(boosting_type='gbdt', class_weight=None, colsample_bytree=1.0,\n",
       "        importance_type='split', learning_rate=0.1, max_depth=3,\n",
       "        min_child_samples=20, min_child_weight=0.001, min_split_gain=0.0,\n",
       "        n_estimators=700, n_jobs=-1, num_leaves=31, objective='binary',\n",
       "        random_state=0, reg_alpha=0.0, reg_lambda=0.0, silent=True,\n",
       "        subsample=1.0, subsample_for_bin=200000, subsample_freq=0)"
      ]
     },
     "execution_count": 99,
     "metadata": {},
     "output_type": "execute_result"
    }
   ],
   "source": [
    "lgb_gs.best_estimator_"
   ]
  },
  {
   "cell_type": "code",
   "execution_count": 100,
   "metadata": {},
   "outputs": [
    {
     "data": {
      "text/plain": [
       "0.2327022614262429"
      ]
     },
     "execution_count": 100,
     "metadata": {},
     "output_type": "execute_result"
    }
   ],
   "source": [
    "lgb_gs.best_score_"
   ]
  },
  {
   "cell_type": "code",
   "execution_count": 101,
   "metadata": {},
   "outputs": [],
   "source": [
    "ctb_params = {'depth': [3, 4, 5],\n",
    "              'num_trees': [100, 200, 400],\n",
    "              'learning_rate': [0.01, 0.1],\n",
    "              'loss_function': ['Logloss', 'CrossEntropy']}\n",
    "\n",
    "ctb_gs = GridSearchCV(ctb, ctb_params, scoring=scorer, cv=3)"
   ]
  },
  {
   "cell_type": "code",
   "execution_count": 102,
   "metadata": {},
   "outputs": [
    {
     "name": "stdout",
     "output_type": "stream",
     "text": [
      "CPU times: user 2h 14min 10s, sys: 3min 14s, total: 2h 17min 25s\n",
      "Wall time: 48min 20s\n"
     ]
    },
    {
     "data": {
      "text/plain": [
       "GridSearchCV(cv=3, error_score='raise-deprecating',\n",
       "       estimator=<catboost.core.CatBoostClassifier object at 0x7fd1217372b0>,\n",
       "       fit_params=None, iid='warn', n_jobs=None,\n",
       "       param_grid={'depth': [3, 4, 5], 'num_trees': [100, 200, 400], 'learning_rate': [0.01, 0.1], 'loss_function': ['Logloss', 'CrossEntropy']},\n",
       "       pre_dispatch='2*n_jobs', refit=True, return_train_score='warn',\n",
       "       scoring=make_scorer(average_precision_score, needs_proba=True),\n",
       "       verbose=0)"
      ]
     },
     "execution_count": 102,
     "metadata": {},
     "output_type": "execute_result"
    }
   ],
   "source": [
    "%%time\n",
    "ctb_gs.fit(data, target)"
   ]
  },
  {
   "cell_type": "code",
   "execution_count": 104,
   "metadata": {},
   "outputs": [
    {
     "data": {
      "text/plain": [
       "{'loss_function': 'Logloss',\n",
       " 'random_seed': 0,\n",
       " 'silent': True,\n",
       " 'depth': 5,\n",
       " 'learning_rate': 0.1,\n",
       " 'num_trees': 400}"
      ]
     },
     "execution_count": 104,
     "metadata": {},
     "output_type": "execute_result"
    }
   ],
   "source": [
    "ctb_gs.best_estimator_.get_params()"
   ]
  },
  {
   "cell_type": "code",
   "execution_count": 105,
   "metadata": {},
   "outputs": [
    {
     "data": {
      "text/plain": [
       "0.23222946064425387"
      ]
     },
     "execution_count": 105,
     "metadata": {},
     "output_type": "execute_result"
    }
   ],
   "source": [
    "ctb_gs.best_score_"
   ]
  },
  {
   "cell_type": "code",
   "execution_count": 107,
   "metadata": {},
   "outputs": [],
   "source": [
    "ctb_params = {'depth': [5],\n",
    "              'num_trees': [400, 700, 1000],\n",
    "              'learning_rate': [0.1],\n",
    "              'loss_function': ['Logloss']}\n",
    "\n",
    "ctb_gs = GridSearchCV(ctb, ctb_params, scoring=scorer, cv=3)"
   ]
  },
  {
   "cell_type": "code",
   "execution_count": 108,
   "metadata": {},
   "outputs": [
    {
     "name": "stdout",
     "output_type": "stream",
     "text": [
      "CPU times: user 32min 26s, sys: 48.8 s, total: 33min 15s\n",
      "Wall time: 2h 52min 35s\n"
     ]
    },
    {
     "data": {
      "text/plain": [
       "GridSearchCV(cv=3, error_score='raise-deprecating',\n",
       "       estimator=<catboost.core.CatBoostClassifier object at 0x7fd1217372b0>,\n",
       "       fit_params=None, iid='warn', n_jobs=None,\n",
       "       param_grid={'depth': [5], 'num_trees': [400, 700, 1000], 'learning_rate': [0.1], 'loss_function': ['Logloss']},\n",
       "       pre_dispatch='2*n_jobs', refit=True, return_train_score='warn',\n",
       "       scoring=make_scorer(average_precision_score, needs_proba=True),\n",
       "       verbose=0)"
      ]
     },
     "execution_count": 108,
     "metadata": {},
     "output_type": "execute_result"
    }
   ],
   "source": [
    "%%time\n",
    "ctb_gs.fit(data, target)"
   ]
  },
  {
   "cell_type": "code",
   "execution_count": 109,
   "metadata": {},
   "outputs": [
    {
     "data": {
      "text/plain": [
       "{'loss_function': 'Logloss',\n",
       " 'random_seed': 0,\n",
       " 'silent': True,\n",
       " 'depth': 5,\n",
       " 'learning_rate': 0.1,\n",
       " 'num_trees': 400}"
      ]
     },
     "execution_count": 109,
     "metadata": {},
     "output_type": "execute_result"
    }
   ],
   "source": [
    "ctb_gs.best_estimator_.get_params()"
   ]
  },
  {
   "cell_type": "code",
   "execution_count": 110,
   "metadata": {},
   "outputs": [
    {
     "data": {
      "text/plain": [
       "0.23222946064425387"
      ]
     },
     "execution_count": 110,
     "metadata": {},
     "output_type": "execute_result"
    }
   ],
   "source": [
    "ctb_gs.best_score_"
   ]
  },
  {
   "cell_type": "markdown",
   "metadata": {},
   "source": [
    "#### Присутствует следующая тенденция: lightgbm строит большее количество деревьев, чем catboost. Однако у реализации градиентного бустинга от Яндекса деревья получаются глубже, чем у lightgbm'a."
   ]
  },
  {
   "cell_type": "markdown",
   "metadata": {},
   "source": [
    "__Задание 4. (3.5 балла)__\n",
    "\n",
    "Добавьте категориальные признаки к вещественным следующими способами:\n",
    "\n",
    "* как OHE признаки;\n",
    "* как счетчики со сглаживанием.\n",
    "\n",
    "При подсчете счетчиков запрещается использование циклов. \n",
    "\n",
    "На получившихся датасетах подберите параметры у каждого из алгоритмов. Как меняется время, необходимое для обучения модели в зависимости от способа кодирования? Сравните полученные результаты с встроенными методами обработки категориальных признаков. "
   ]
  },
  {
   "cell_type": "code",
   "execution_count": 24,
   "metadata": {},
   "outputs": [
    {
     "data": {
      "text/plain": [
       "(215257, 59)"
      ]
     },
     "execution_count": 24,
     "metadata": {},
     "output_type": "execute_result"
    }
   ],
   "source": [
    "train_cont_scaled.shape"
   ]
  },
  {
   "cell_type": "code",
   "execution_count": 25,
   "metadata": {},
   "outputs": [
    {
     "data": {
      "text/plain": [
       "(215257, 294)"
      ]
     },
     "execution_count": 25,
     "metadata": {},
     "output_type": "execute_result"
    }
   ],
   "source": [
    "train_cat_encoded.shape"
   ]
  },
  {
   "cell_type": "code",
   "execution_count": 26,
   "metadata": {},
   "outputs": [],
   "source": [
    "from scipy.sparse import hstack\n",
    "from scipy.sparse import vstack"
   ]
  },
  {
   "cell_type": "code",
   "execution_count": 27,
   "metadata": {},
   "outputs": [
    {
     "data": {
      "text/plain": [
       "<215257x353 sparse matrix of type '<class 'numpy.float64'>'\n",
       "\twith 21462701 stored elements in COOrdinate format>"
      ]
     },
     "execution_count": 27,
     "metadata": {},
     "output_type": "execute_result"
    }
   ],
   "source": [
    "train = hstack((train_cont_scaled, train_cat_encoded))\n",
    "train"
   ]
  },
  {
   "cell_type": "code",
   "execution_count": 28,
   "metadata": {},
   "outputs": [
    {
     "data": {
      "text/plain": [
       "<92254x353 sparse matrix of type '<class 'numpy.float64'>'\n",
       "\twith 9201185 stored elements in COOrdinate format>"
      ]
     },
     "execution_count": 28,
     "metadata": {},
     "output_type": "execute_result"
    }
   ],
   "source": [
    "test = hstack((test_cont_scaled, test_cat_encoded))\n",
    "test"
   ]
  },
  {
   "cell_type": "code",
   "execution_count": 29,
   "metadata": {},
   "outputs": [
    {
     "data": {
      "text/plain": [
       "<307511x353 sparse matrix of type '<class 'numpy.float64'>'\n",
       "\twith 30663886 stored elements in COOrdinate format>"
      ]
     },
     "execution_count": 29,
     "metadata": {},
     "output_type": "execute_result"
    }
   ],
   "source": [
    "data = vstack((train, test))\n",
    "data"
   ]
  },
  {
   "cell_type": "markdown",
   "metadata": {},
   "source": [
    "#### One-Hot Encoded признаки"
   ]
  },
  {
   "cell_type": "code",
   "execution_count": 41,
   "metadata": {},
   "outputs": [],
   "source": [
    "lgb = lightgbm.LGBMClassifier(random_state=0, learning_rate=0.1)"
   ]
  },
  {
   "cell_type": "code",
   "execution_count": 42,
   "metadata": {},
   "outputs": [],
   "source": [
    "lgb_params = {'max_depth': [3, 5],\n",
    "              'n_estimators': [200, 400, 700, 1000]}\n",
    "\n",
    "lgb_gs = GridSearchCV(lgb, lgb_params, scoring=scorer, cv=3)"
   ]
  },
  {
   "cell_type": "code",
   "execution_count": 43,
   "metadata": {},
   "outputs": [
    {
     "name": "stdout",
     "output_type": "stream",
     "text": [
      "CPU times: user 28min 46s, sys: 3.2 s, total: 28min 49s\n",
      "Wall time: 7min 33s\n"
     ]
    },
    {
     "data": {
      "text/plain": [
       "GridSearchCV(cv=3, error_score='raise-deprecating',\n",
       "       estimator=LGBMClassifier(boosting_type='gbdt', class_weight=None, colsample_bytree=1.0,\n",
       "        importance_type='split', learning_rate=0.1, max_depth=-1,\n",
       "        min_child_samples=20, min_child_weight=0.001, min_split_gain=0.0,\n",
       "        n_estimators=100, n_jobs=-1, num_leaves=31, objective=None,\n",
       "        random_state=0, reg_alpha=0.0, reg_lambda=0.0, silent=True,\n",
       "        subsample=1.0, subsample_for_bin=200000, subsample_freq=0),\n",
       "       fit_params=None, iid='warn', n_jobs=None,\n",
       "       param_grid={'max_depth': [3, 5], 'n_estimators': [200, 400, 700, 1000]},\n",
       "       pre_dispatch='2*n_jobs', refit=True, return_train_score='warn',\n",
       "       scoring=make_scorer(average_precision_score, needs_proba=True),\n",
       "       verbose=0)"
      ]
     },
     "execution_count": 43,
     "metadata": {},
     "output_type": "execute_result"
    }
   ],
   "source": [
    "%%time\n",
    "lgb_gs.fit(train, y_train)"
   ]
  },
  {
   "cell_type": "code",
   "execution_count": 44,
   "metadata": {},
   "outputs": [
    {
     "data": {
      "text/plain": [
       "LGBMClassifier(boosting_type='gbdt', class_weight=None, colsample_bytree=1.0,\n",
       "        importance_type='split', learning_rate=0.1, max_depth=3,\n",
       "        min_child_samples=20, min_child_weight=0.001, min_split_gain=0.0,\n",
       "        n_estimators=400, n_jobs=-1, num_leaves=31, objective=None,\n",
       "        random_state=0, reg_alpha=0.0, reg_lambda=0.0, silent=True,\n",
       "        subsample=1.0, subsample_for_bin=200000, subsample_freq=0)"
      ]
     },
     "execution_count": 44,
     "metadata": {},
     "output_type": "execute_result"
    }
   ],
   "source": [
    "lgb_gs.best_estimator_"
   ]
  },
  {
   "cell_type": "code",
   "execution_count": 84,
   "metadata": {},
   "outputs": [
    {
     "data": {
      "text/plain": [
       "0.24194282116153823"
      ]
     },
     "execution_count": 84,
     "metadata": {},
     "output_type": "execute_result"
    }
   ],
   "source": [
    "lgb_gs.best_score_"
   ]
  },
  {
   "cell_type": "code",
   "execution_count": 46,
   "metadata": {},
   "outputs": [],
   "source": [
    "ctb = catboost.CatBoostClassifier(random_seed=0, silent=True, learning_rate=0.1)"
   ]
  },
  {
   "cell_type": "code",
   "execution_count": 47,
   "metadata": {},
   "outputs": [],
   "source": [
    "ctb_params = {'depth': [3, 5],\n",
    "              'num_trees': [200, 400, 700]}\n",
    "\n",
    "ctb_gs = GridSearchCV(ctb, ctb_params, scoring=scorer, cv=3)"
   ]
  },
  {
   "cell_type": "code",
   "execution_count": 48,
   "metadata": {},
   "outputs": [
    {
     "name": "stdout",
     "output_type": "stream",
     "text": [
      "CPU times: user 39min 10s, sys: 57.7 s, total: 40min 8s\n",
      "Wall time: 15min 1s\n"
     ]
    },
    {
     "data": {
      "text/plain": [
       "GridSearchCV(cv=3, error_score='raise-deprecating',\n",
       "       estimator=<catboost.core.CatBoostClassifier object at 0x7fec1acedcf8>,\n",
       "       fit_params=None, iid='warn', n_jobs=None,\n",
       "       param_grid={'depth': [3, 5], 'num_trees': [200, 400, 700]},\n",
       "       pre_dispatch='2*n_jobs', refit=True, return_train_score='warn',\n",
       "       scoring=make_scorer(average_precision_score, needs_proba=True),\n",
       "       verbose=0)"
      ]
     },
     "execution_count": 48,
     "metadata": {},
     "output_type": "execute_result"
    }
   ],
   "source": [
    "%%time\n",
    "ctb_gs.fit(train.toarray(), y_train)"
   ]
  },
  {
   "cell_type": "code",
   "execution_count": 91,
   "metadata": {},
   "outputs": [
    {
     "data": {
      "text/plain": [
       "{'learning_rate': 0.1,\n",
       " 'loss_function': 'Logloss',\n",
       " 'random_seed': 0,\n",
       " 'silent': True,\n",
       " 'depth': 3,\n",
       " 'num_trees': 700}"
      ]
     },
     "execution_count": 91,
     "metadata": {},
     "output_type": "execute_result"
    }
   ],
   "source": [
    "ctb_gs.best_estimator_.get_params()"
   ]
  },
  {
   "cell_type": "code",
   "execution_count": 93,
   "metadata": {},
   "outputs": [
    {
     "data": {
      "text/plain": [
       "0.24072578200619968"
      ]
     },
     "execution_count": 93,
     "metadata": {},
     "output_type": "execute_result"
    }
   ],
   "source": [
    "ctb_gs.best_score_"
   ]
  },
  {
   "cell_type": "code",
   "execution_count": 188,
   "metadata": {},
   "outputs": [],
   "source": [
    "def calc_smooth_mean(b, y, m):\n",
    "    \n",
    "    b_s = pd.Series(b, name='col')\n",
    "    y_s = pd.Series(y, name='targ')\n",
    "    df = pd.concat((b_s, y_s), axis=1)\n",
    "    \n",
    "    mean = df['targ'].mean()\n",
    "    agg = df.groupby('col')['targ'].agg(['count', 'mean'])\n",
    "    \n",
    "    counts = agg['count']\n",
    "    means = agg['mean']\n",
    "    smooth = (counts * means + m * mean) / (counts + m)\n",
    "\n",
    "    return df['col'].map(smooth).values"
   ]
  },
  {
   "cell_type": "markdown",
   "metadata": {},
   "source": [
    "#### Smoothed Mean-Target encoding"
   ]
  },
  {
   "cell_type": "code",
   "execution_count": 32,
   "metadata": {},
   "outputs": [],
   "source": [
    "import category_encoders as ce"
   ]
  },
  {
   "cell_type": "code",
   "execution_count": 33,
   "metadata": {},
   "outputs": [],
   "source": [
    "target_encoder = ce.target_encoder.TargetEncoder(cols=np.arange(51), smoothing=2, return_df=False)\n",
    "\n",
    "train_target = target_encoder.fit_transform(train_cat_imputed, y_train)\n",
    "test_target = target_encoder.transform(test_cat_imputed)"
   ]
  },
  {
   "cell_type": "code",
   "execution_count": 34,
   "metadata": {},
   "outputs": [],
   "source": [
    "new_train = np.concatenate((train_cont_scaled, train_target), axis=1)\n",
    "new_test = np.concatenate((test_cont_scaled, test_target), axis=1)"
   ]
  },
  {
   "cell_type": "code",
   "execution_count": 218,
   "metadata": {},
   "outputs": [],
   "source": [
    "lgb_2 = lightgbm.LGBMClassifier(random_state=0, learning_rate=0.1)"
   ]
  },
  {
   "cell_type": "code",
   "execution_count": 219,
   "metadata": {},
   "outputs": [],
   "source": [
    "lgb_params = {'max_depth': [3, 4],\n",
    "              'n_estimators': [600, 700, 800]}\n",
    "\n",
    "lgb_gs_2 = GridSearchCV(lgb_2, lgb_params, scoring=scorer, cv=3)"
   ]
  },
  {
   "cell_type": "code",
   "execution_count": 220,
   "metadata": {},
   "outputs": [
    {
     "name": "stdout",
     "output_type": "stream",
     "text": [
      "CPU times: user 22min 48s, sys: 3.64 s, total: 22min 52s\n",
      "Wall time: 6min 11s\n"
     ]
    },
    {
     "data": {
      "text/plain": [
       "GridSearchCV(cv=3, error_score='raise-deprecating',\n",
       "       estimator=LGBMClassifier(boosting_type='gbdt', class_weight=None, colsample_bytree=1.0,\n",
       "        importance_type='split', learning_rate=0.1, max_depth=-1,\n",
       "        min_child_samples=20, min_child_weight=0.001, min_split_gain=0.0,\n",
       "        n_estimators=100, n_jobs=-1, num_leaves=31, objective=None,\n",
       "        random_state=0, reg_alpha=0.0, reg_lambda=0.0, silent=True,\n",
       "        subsample=1.0, subsample_for_bin=200000, subsample_freq=0),\n",
       "       fit_params=None, iid='warn', n_jobs=None,\n",
       "       param_grid={'max_depth': [3, 4], 'n_estimators': [600, 700, 800]},\n",
       "       pre_dispatch='2*n_jobs', refit=True, return_train_score='warn',\n",
       "       scoring=make_scorer(average_precision_score, needs_proba=True),\n",
       "       verbose=0)"
      ]
     },
     "execution_count": 220,
     "metadata": {},
     "output_type": "execute_result"
    }
   ],
   "source": [
    "%%time\n",
    "lgb_gs_2.fit(new_train, y_train)"
   ]
  },
  {
   "cell_type": "code",
   "execution_count": 221,
   "metadata": {},
   "outputs": [
    {
     "data": {
      "text/plain": [
       "LGBMClassifier(boosting_type='gbdt', class_weight=None, colsample_bytree=1.0,\n",
       "        importance_type='split', learning_rate=0.1, max_depth=3,\n",
       "        min_child_samples=20, min_child_weight=0.001, min_split_gain=0.0,\n",
       "        n_estimators=600, n_jobs=-1, num_leaves=31, objective=None,\n",
       "        random_state=0, reg_alpha=0.0, reg_lambda=0.0, silent=True,\n",
       "        subsample=1.0, subsample_for_bin=200000, subsample_freq=0)"
      ]
     },
     "execution_count": 221,
     "metadata": {},
     "output_type": "execute_result"
    }
   ],
   "source": [
    "lgb_gs_2.best_estimator_"
   ]
  },
  {
   "cell_type": "code",
   "execution_count": 222,
   "metadata": {},
   "outputs": [
    {
     "data": {
      "text/plain": [
       "0.23996874738351673"
      ]
     },
     "execution_count": 222,
     "metadata": {},
     "output_type": "execute_result"
    }
   ],
   "source": [
    "lgb_gs_2.best_score_"
   ]
  },
  {
   "cell_type": "code",
   "execution_count": 226,
   "metadata": {},
   "outputs": [
    {
     "data": {
      "text/plain": [
       "0.23823243274445627"
      ]
     },
     "execution_count": 226,
     "metadata": {},
     "output_type": "execute_result"
    }
   ],
   "source": [
    "average_precision_score(y_test, lgb_gs_2.best_estimator_.predict_proba(new_test)[:, 1])"
   ]
  },
  {
   "cell_type": "code",
   "execution_count": 227,
   "metadata": {},
   "outputs": [],
   "source": [
    "ctb_params = {'depth': [3, 4],\n",
    "              'num_trees': [500, 700, 1000]}\n",
    "\n",
    "ctb_gs_2 = GridSearchCV(ctb, ctb_params, scoring=scorer, cv=3)"
   ]
  },
  {
   "cell_type": "code",
   "execution_count": 228,
   "metadata": {},
   "outputs": [
    {
     "name": "stdout",
     "output_type": "stream",
     "text": [
      "CPU times: user 52min 12s, sys: 1min 28s, total: 53min 40s\n",
      "Wall time: 15min 55s\n"
     ]
    },
    {
     "data": {
      "text/plain": [
       "GridSearchCV(cv=3, error_score='raise-deprecating',\n",
       "       estimator=<catboost.core.CatBoostClassifier object at 0x7f7f49cc89e8>,\n",
       "       fit_params=None, iid='warn', n_jobs=None,\n",
       "       param_grid={'depth': [3, 4], 'num_trees': [500, 700, 1000]},\n",
       "       pre_dispatch='2*n_jobs', refit=True, return_train_score='warn',\n",
       "       scoring=make_scorer(average_precision_score, needs_proba=True),\n",
       "       verbose=0)"
      ]
     },
     "execution_count": 228,
     "metadata": {},
     "output_type": "execute_result"
    }
   ],
   "source": [
    "%%time\n",
    "ctb_gs_2.fit(new_train, y_train)"
   ]
  },
  {
   "cell_type": "code",
   "execution_count": 230,
   "metadata": {},
   "outputs": [
    {
     "data": {
      "text/plain": [
       "{'learning_rate': 0.1,\n",
       " 'loss_function': 'Logloss',\n",
       " 'random_seed': 0,\n",
       " 'silent': True,\n",
       " 'depth': 3,\n",
       " 'num_trees': 1000}"
      ]
     },
     "execution_count": 230,
     "metadata": {},
     "output_type": "execute_result"
    }
   ],
   "source": [
    "ctb_gs_2.best_estimator_.get_params()"
   ]
  },
  {
   "cell_type": "code",
   "execution_count": 231,
   "metadata": {},
   "outputs": [
    {
     "data": {
      "text/plain": [
       "0.24055595513917116"
      ]
     },
     "execution_count": 231,
     "metadata": {},
     "output_type": "execute_result"
    }
   ],
   "source": [
    "ctb_gs_2.best_score_"
   ]
  },
  {
   "cell_type": "code",
   "execution_count": 232,
   "metadata": {},
   "outputs": [
    {
     "data": {
      "text/plain": [
       "0.23754768615949076"
      ]
     },
     "execution_count": 232,
     "metadata": {},
     "output_type": "execute_result"
    }
   ],
   "source": [
    "average_precision_score(y_test, ctb_gs_2.best_estimator_.predict_proba(new_test)[:, 1])"
   ]
  },
  {
   "cell_type": "markdown",
   "metadata": {},
   "source": [
    "#### Время, необходимое для построения моделей, заметно различается в зависимости от выбора кодирования категориальных признаков. При использовании One-Hot encoding'a появляется больше признаков для обучения, поэтому модели обучаются дольше, чем при использовании Mean-Target кодирования, который оставляет количество признаков неизменным."
   ]
  },
  {
   "cell_type": "code",
   "execution_count": 234,
   "metadata": {},
   "outputs": [
    {
     "data": {
      "text/plain": [
       "(215257, 59)"
      ]
     },
     "execution_count": 234,
     "metadata": {},
     "output_type": "execute_result"
    }
   ],
   "source": [
    "train_cont_scaled.shape"
   ]
  },
  {
   "cell_type": "code",
   "execution_count": 237,
   "metadata": {},
   "outputs": [
    {
     "data": {
      "text/plain": [
       "(215257, 110)"
      ]
     },
     "execution_count": 237,
     "metadata": {},
     "output_type": "execute_result"
    }
   ],
   "source": [
    "new_train.shape"
   ]
  },
  {
   "cell_type": "code",
   "execution_count": 240,
   "metadata": {},
   "outputs": [
    {
     "data": {
      "text/plain": [
       "array([ 59,  60,  61,  62,  63,  64,  65,  66,  67,  68,  69,  70,  71,\n",
       "        72,  73,  74,  75,  76,  77,  78,  79,  80,  81,  82,  83,  84,\n",
       "        85,  86,  87,  88,  89,  90,  91,  92,  93,  94,  95,  96,  97,\n",
       "        98,  99, 100, 101, 102, 103, 104, 105, 106, 107, 108, 109])"
      ]
     },
     "execution_count": 240,
     "metadata": {},
     "output_type": "execute_result"
    }
   ],
   "source": [
    "np.arange(59, 110)"
   ]
  },
  {
   "cell_type": "code",
   "execution_count": 236,
   "metadata": {},
   "outputs": [],
   "source": [
    "lgb = lightgbm.LGBMClassifier(random_state=0, learning_rate=0.1)"
   ]
  },
  {
   "cell_type": "code",
   "execution_count": 249,
   "metadata": {},
   "outputs": [],
   "source": [
    "lgb_params = {'max_depth': [3, 4],\n",
    "              'n_estimators': [500, 600, 700]}\n",
    "\n",
    "lgb_gs_3 = GridSearchCV(lgb, lgb_params, scoring=scorer, cv=3)"
   ]
  },
  {
   "cell_type": "code",
   "execution_count": 250,
   "metadata": {},
   "outputs": [
    {
     "data": {
      "text/plain": [
       "109"
      ]
     },
     "execution_count": 250,
     "metadata": {},
     "output_type": "execute_result"
    }
   ],
   "source": [
    "train_df = pd.DataFrame(new_train)\n",
    "train_df.columns[-1]"
   ]
  },
  {
   "cell_type": "code",
   "execution_count": 251,
   "metadata": {},
   "outputs": [
    {
     "name": "stderr",
     "output_type": "stream",
     "text": [
      "/home/neeveermoree/anaconda3/envs/myenv/lib/python3.7/site-packages/lightgbm/basic.py:1190: UserWarning: categorical_feature in Dataset is overridden.\n",
      "New categorical_feature is [59, 60, 61, 62, 63, 64, 65, 66, 67, 68, 69, 70, 71, 72, 73, 74, 75, 76, 77, 78, 79, 80, 81, 82, 83, 84, 85, 86, 87, 88, 89, 90, 91, 92, 93, 94, 95, 96, 97, 98, 99, 100, 101, 102, 103, 104, 105, 106, 107, 108, 109]\n",
      "  'New categorical_feature is {}'.format(sorted(list(categorical_feature))))\n"
     ]
    },
    {
     "name": "stdout",
     "output_type": "stream",
     "text": [
      "CPU times: user 13min 45s, sys: 10 s, total: 13min 56s\n",
      "Wall time: 3min 36s\n"
     ]
    },
    {
     "data": {
      "text/plain": [
       "GridSearchCV(cv=3, error_score='raise-deprecating',\n",
       "       estimator=LGBMClassifier(boosting_type='gbdt', class_weight=None, colsample_bytree=1.0,\n",
       "        importance_type='split', learning_rate=0.1, max_depth=-1,\n",
       "        min_child_samples=20, min_child_weight=0.001, min_split_gain=0.0,\n",
       "        n_estimators=100, n_jobs=-1, num_leaves=31, objective=None,\n",
       "        random_state=0, reg_alpha=0.0, reg_lambda=0.0, silent=True,\n",
       "        subsample=1.0, subsample_for_bin=200000, subsample_freq=0),\n",
       "       fit_params=None, iid='warn', n_jobs=None,\n",
       "       param_grid={'max_depth': [3, 4], 'n_estimators': [500, 600, 700]},\n",
       "       pre_dispatch='2*n_jobs', refit=True, return_train_score='warn',\n",
       "       scoring=make_scorer(average_precision_score, needs_proba=True),\n",
       "       verbose=0)"
      ]
     },
     "execution_count": 251,
     "metadata": {},
     "output_type": "execute_result"
    }
   ],
   "source": [
    "%%time\n",
    "lgb_gs_3.fit(train_df, y_train, **{'categorical_feature':list(range(59, 110))})"
   ]
  },
  {
   "cell_type": "code",
   "execution_count": 252,
   "metadata": {},
   "outputs": [
    {
     "data": {
      "text/plain": [
       "LGBMClassifier(boosting_type='gbdt', class_weight=None, colsample_bytree=1.0,\n",
       "        importance_type='split', learning_rate=0.1, max_depth=3,\n",
       "        min_child_samples=20, min_child_weight=0.001, min_split_gain=0.0,\n",
       "        n_estimators=500, n_jobs=-1, num_leaves=31, objective=None,\n",
       "        random_state=0, reg_alpha=0.0, reg_lambda=0.0, silent=True,\n",
       "        subsample=1.0, subsample_for_bin=200000, subsample_freq=0)"
      ]
     },
     "execution_count": 252,
     "metadata": {},
     "output_type": "execute_result"
    }
   ],
   "source": [
    "lgb_gs_3.best_estimator_"
   ]
  },
  {
   "cell_type": "code",
   "execution_count": 253,
   "metadata": {},
   "outputs": [
    {
     "data": {
      "text/plain": [
       "0.2334053187592689"
      ]
     },
     "execution_count": 253,
     "metadata": {},
     "output_type": "execute_result"
    }
   ],
   "source": [
    "lgb_gs_3.best_score_"
   ]
  },
  {
   "cell_type": "code",
   "execution_count": 35,
   "metadata": {},
   "outputs": [],
   "source": [
    "ctb_params = {'depth': [3, 4],\n",
    "              'num_trees': [600, 700, 800]}\n",
    "\n",
    "ctb_gs_3 = GridSearchCV(ctb, ctb_params, scoring=scorer, cv=3)"
   ]
  },
  {
   "cell_type": "code",
   "execution_count": 36,
   "metadata": {},
   "outputs": [
    {
     "name": "stdout",
     "output_type": "stream",
     "text": [
      "CPU times: user 55min 35s, sys: 1min 19s, total: 56min 55s\n",
      "Wall time: 19min 46s\n"
     ]
    },
    {
     "data": {
      "text/plain": [
       "GridSearchCV(cv=3, error_score='raise-deprecating',\n",
       "       estimator=<catboost.core.CatBoostClassifier object at 0x7fec115f38d0>,\n",
       "       fit_params=None, iid='warn', n_jobs=None,\n",
       "       param_grid={'depth': [3, 4], 'num_trees': [600, 700, 800]},\n",
       "       pre_dispatch='2*n_jobs', refit=True, return_train_score='warn',\n",
       "       scoring=make_scorer(average_precision_score, needs_proba=True),\n",
       "       verbose=0)"
      ]
     },
     "execution_count": 36,
     "metadata": {},
     "output_type": "execute_result"
    }
   ],
   "source": [
    "%%time\n",
    "ctb_gs_3.fit(train.toarray(), y_train, **{'cat_features':list(range(59, 110))})"
   ]
  },
  {
   "cell_type": "code",
   "execution_count": 38,
   "metadata": {},
   "outputs": [
    {
     "data": {
      "text/plain": [
       "{'learning_rate': 0.1,\n",
       " 'loss_function': 'Logloss',\n",
       " 'random_seed': 0,\n",
       " 'silent': True,\n",
       " 'depth': 3,\n",
       " 'num_trees': 800}"
      ]
     },
     "execution_count": 38,
     "metadata": {},
     "output_type": "execute_result"
    }
   ],
   "source": [
    "ctb_gs_3.best_estimator_.get_params()"
   ]
  },
  {
   "cell_type": "code",
   "execution_count": 39,
   "metadata": {},
   "outputs": [
    {
     "data": {
      "text/plain": [
       "0.24140621923382577"
      ]
     },
     "execution_count": 39,
     "metadata": {},
     "output_type": "execute_result"
    }
   ],
   "source": [
    "ctb_gs_3.best_score_"
   ]
  },
  {
   "cell_type": "markdown",
   "metadata": {},
   "source": [
    "#### Модели, обученные на встроенных методах библиотек Lightgbm и CatBoost для эффективной обработки категориальных признаков, имеют качество лучше, чем модели, обученные только на данных, без указания категориальных признаков."
   ]
  },
  {
   "cell_type": "markdown",
   "metadata": {},
   "source": [
    "__Задание 5. (1 балл)__\n",
    "\n",
    "Реализуйте блендинг (получение ответов нескольких моделей и взятие их с весами (их нужно подбирать на обучающей выборке)) подобранных в предыдущем задании моделей и сравните качество."
   ]
  },
  {
   "cell_type": "code",
   "execution_count": 49,
   "metadata": {},
   "outputs": [],
   "source": [
    "voting_clf = VotingClassifier(estimators=[\n",
    "    ('lgb_1', lgb_gs.best_estimator_),\n",
    "    ('ctb_1', ctb_gs.best_estimator_),\n",
    "    ('ctb_2', ctb_gs_3.best_estimator_)\n",
    "])"
   ]
  },
  {
   "cell_type": "code",
   "execution_count": 56,
   "metadata": {},
   "outputs": [],
   "source": [
    "inp_1 = lgb_gs.best_estimator_.predict_proba(train.toarray())[:, 1]\n",
    "inp_2 = ctb_gs.best_estimator_.predict_proba(train.toarray())[:, 1]\n",
    "inp_3 = ctb_gs_3.best_estimator_.predict_proba(train.toarray())[:, 1]"
   ]
  },
  {
   "cell_type": "code",
   "execution_count": 57,
   "metadata": {},
   "outputs": [],
   "source": [
    "from sklearn.linear_model import LogisticRegression"
   ]
  },
  {
   "cell_type": "code",
   "execution_count": 61,
   "metadata": {},
   "outputs": [],
   "source": [
    "data = np.vstack((inp_1, inp_2, inp_3))"
   ]
  },
  {
   "cell_type": "code",
   "execution_count": 62,
   "metadata": {},
   "outputs": [],
   "source": [
    "clf = LogisticRegression(random_state=0)"
   ]
  },
  {
   "cell_type": "code",
   "execution_count": 67,
   "metadata": {},
   "outputs": [
    {
     "name": "stderr",
     "output_type": "stream",
     "text": [
      "/home/neeveermoree/anaconda3/envs/myenv/lib/python3.7/site-packages/sklearn/linear_model/logistic.py:433: FutureWarning: Default solver will be changed to 'lbfgs' in 0.22. Specify a solver to silence this warning.\n",
      "  FutureWarning)\n"
     ]
    },
    {
     "data": {
      "text/plain": [
       "LogisticRegression(C=1.0, class_weight=None, dual=False, fit_intercept=True,\n",
       "          intercept_scaling=1, max_iter=100, multi_class='warn',\n",
       "          n_jobs=None, penalty='l2', random_state=0, solver='warn',\n",
       "          tol=0.0001, verbose=0, warm_start=False)"
      ]
     },
     "execution_count": 67,
     "metadata": {},
     "output_type": "execute_result"
    }
   ],
   "source": [
    "clf.fit(data.T, y_train)"
   ]
  },
  {
   "cell_type": "code",
   "execution_count": 68,
   "metadata": {},
   "outputs": [],
   "source": [
    "inp_1_t = lgb_gs.best_estimator_.predict_proba(test.toarray())[:, 1]\n",
    "inp_2_t = ctb_gs.best_estimator_.predict_proba(test.toarray())[:, 1]\n",
    "inp_3_t = ctb_gs_3.best_estimator_.predict_proba(test.toarray())[:, 1]"
   ]
  },
  {
   "cell_type": "code",
   "execution_count": 69,
   "metadata": {},
   "outputs": [],
   "source": [
    "data = np.vstack((inp_1, inp_2, inp_3)).T"
   ]
  },
  {
   "cell_type": "code",
   "execution_count": 70,
   "metadata": {},
   "outputs": [
    {
     "data": {
      "text/plain": [
       "0.2854698413761158"
      ]
     },
     "execution_count": 70,
     "metadata": {},
     "output_type": "execute_result"
    }
   ],
   "source": [
    "preds = clf.predict_proba(data)[:, 1]\n",
    "average_precision_score(y_train, preds)"
   ]
  },
  {
   "cell_type": "markdown",
   "metadata": {},
   "source": [
    "#### Как видно из оценки качества выше, блэндинг моделей существенно увеличивает обобщающую способность модели (был достигнут прирост в ~25%). Это означает, что корреляция между моделями достаточно мала, чтобы был значительный прирост метрики."
   ]
  },
  {
   "cell_type": "markdown",
   "metadata": {},
   "source": [
    "__Задание 6. (1.5 балла)__\n",
    "\n",
    "В задании 3 вы подобрали гиперпараметры для LightGBM и CatBoost на вещественных признаках. Визуализируйте важности признаков, посчитанные этими алгоритмами, в виде горизонтального bar-plot (отсортируйте признаки по убыванию важности, подпишите названия признаков по оси y).\n",
    "\n",
    "Для каждого из двух алгоритмов удалите неважные признаки (обычно по bar-plot хорошо видно порог на важность, с которого начинается хвост неважных признаков) и обучите ту же модель на получившихся данных. Сильно ли упало качество при удалении признаков, которые модель считает неважными?"
   ]
  },
  {
   "cell_type": "code",
   "execution_count": 83,
   "metadata": {},
   "outputs": [],
   "source": [
    "import matplotlib.pyplot as plt\n",
    "import seaborn as sns"
   ]
  },
  {
   "cell_type": "code",
   "execution_count": 92,
   "metadata": {},
   "outputs": [],
   "source": [
    "feature_imp = pd.DataFrame(sorted(zip(lgb_gs.best_estimator_.feature_importances_,np.hstack((numerical, categorical)))), columns=['Value','Feature'])"
   ]
  },
  {
   "cell_type": "code",
   "execution_count": 93,
   "metadata": {},
   "outputs": [],
   "source": [
    "to_plot_lgb = feature_imp.sort_values(by=\"Value\", ascending=False)[:50]"
   ]
  },
  {
   "cell_type": "code",
   "execution_count": 94,
   "metadata": {},
   "outputs": [
    {
     "data": {
      "image/png": "[encoded data removed]",
      "text/plain": [
       "<Figure size 1440x720 with 1 Axes>"
      ]
     },
     "metadata": {
      "needs_background": "light"
     },
     "output_type": "display_data"
    }
   ],
   "source": [
    "plt.figure(figsize=(20, 10))\n",
    "sns.barplot(x=\"Value\", y=\"Feature\", data=to_plot_lgb)\n",
    "plt.title('LightGBM Feature Importance')\n",
    "plt.tight_layout()\n",
    "plt.show()"
   ]
  },
  {
   "cell_type": "code",
   "execution_count": 95,
   "metadata": {},
   "outputs": [
    {
     "data": {
      "image/png": "[encoded data removed]",
      "text/plain": [
       "<Figure size 1440x720 with 1 Axes>"
      ]
     },
     "metadata": {
      "needs_background": "light"
     },
     "output_type": "display_data"
    }
   ],
   "source": [
    "feature_imp = pd.DataFrame(sorted(zip(ctb_gs.best_estimator_.feature_importances_,np.hstack((numerical, categorical)))), columns=['Value','Feature'])\n",
    "to_plot = feature_imp.sort_values(by=\"Value\", ascending=False)[:20]\n",
    "plt.figure(figsize=(20, 10))\n",
    "sns.barplot(x=\"Value\", y=\"Feature\", data=to_plot)\n",
    "plt.title('CatBoost Feature Importance')\n",
    "plt.tight_layout()\n",
    "plt.show()"
   ]
  },
  {
   "cell_type": "code",
   "execution_count": 110,
   "metadata": {
    "scrolled": true
   },
   "outputs": [
    {
     "data": {
      "text/html": [
       "<div>\n",
       "<style scoped>\n",
       "    .dataframe tbody tr th:only-of-type {\n",
       "        vertical-align: middle;\n",
       "    }\n",
       "\n",
       "    .dataframe tbody tr th {\n",
       "        vertical-align: top;\n",
       "    }\n",
       "\n",
       "    .dataframe thead th {\n",
       "        text-align: right;\n",
       "    }\n",
       "</style>\n",
       "<table border=\"1\" class=\"dataframe\">\n",
       "  <thead>\n",
       "    <tr style=\"text-align: right;\">\n",
       "      <th></th>\n",
       "      <th>EXT_SOURCE_1</th>\n",
       "      <th>EXT_SOURCE_3</th>\n",
       "      <th>AMT_CREDIT</th>\n",
       "      <th>DAYS_BIRTH</th>\n",
       "      <th>AMT_ANNUITY</th>\n",
       "      <th>AMT_GOODS_PRICE</th>\n",
       "      <th>EXT_SOURCE_2</th>\n",
       "      <th>DAYS_ID_PUBLISH</th>\n",
       "      <th>DAYS_EMPLOYED</th>\n",
       "      <th>DAYS_LAST_PHONE_CHANGE</th>\n",
       "      <th>DAYS_REGISTRATION</th>\n",
       "      <th>AMT_INCOME_TOTAL</th>\n",
       "      <th>REGION_POPULATION_RELATIVE</th>\n",
       "      <th>HOUR_APPR_PROCESS_START</th>\n",
       "      <th>OWN_CAR_AGE</th>\n",
       "      <th>NAME_CONTRACT_TYPE</th>\n",
       "      <th>TOTALAREA_MODE</th>\n",
       "      <th>APARTMENTS_MODE</th>\n",
       "      <th>FLAG_OWN_REALTY</th>\n",
       "      <th>NAME_TYPE_SUITE</th>\n",
       "    </tr>\n",
       "    <tr>\n",
       "      <th>SK_ID_CURR</th>\n",
       "      <th></th>\n",
       "      <th></th>\n",
       "      <th></th>\n",
       "      <th></th>\n",
       "      <th></th>\n",
       "      <th></th>\n",
       "      <th></th>\n",
       "      <th></th>\n",
       "      <th></th>\n",
       "      <th></th>\n",
       "      <th></th>\n",
       "      <th></th>\n",
       "      <th></th>\n",
       "      <th></th>\n",
       "      <th></th>\n",
       "      <th></th>\n",
       "      <th></th>\n",
       "      <th></th>\n",
       "      <th></th>\n",
       "      <th></th>\n",
       "    </tr>\n",
       "  </thead>\n",
       "  <tbody>\n",
       "    <tr>\n",
       "      <th>100002</th>\n",
       "      <td>0.083037</td>\n",
       "      <td>0.139376</td>\n",
       "      <td>406597.5</td>\n",
       "      <td>-9461</td>\n",
       "      <td>24700.5</td>\n",
       "      <td>351000.0</td>\n",
       "      <td>0.262949</td>\n",
       "      <td>-2120</td>\n",
       "      <td>-637</td>\n",
       "      <td>-1134.0</td>\n",
       "      <td>-3648.0</td>\n",
       "      <td>202500.000</td>\n",
       "      <td>0.018801</td>\n",
       "      <td>10</td>\n",
       "      <td>NaN</td>\n",
       "      <td>Cash loans</td>\n",
       "      <td>0.0149</td>\n",
       "      <td>0.0252</td>\n",
       "      <td>Y</td>\n",
       "      <td>Unaccompanied</td>\n",
       "    </tr>\n",
       "    <tr>\n",
       "      <th>100003</th>\n",
       "      <td>0.311267</td>\n",
       "      <td>NaN</td>\n",
       "      <td>1293502.5</td>\n",
       "      <td>-16765</td>\n",
       "      <td>35698.5</td>\n",
       "      <td>1129500.0</td>\n",
       "      <td>0.622246</td>\n",
       "      <td>-291</td>\n",
       "      <td>-1188</td>\n",
       "      <td>-828.0</td>\n",
       "      <td>-1186.0</td>\n",
       "      <td>270000.000</td>\n",
       "      <td>0.003541</td>\n",
       "      <td>11</td>\n",
       "      <td>NaN</td>\n",
       "      <td>Cash loans</td>\n",
       "      <td>0.0714</td>\n",
       "      <td>0.0924</td>\n",
       "      <td>N</td>\n",
       "      <td>Family</td>\n",
       "    </tr>\n",
       "    <tr>\n",
       "      <th>100004</th>\n",
       "      <td>NaN</td>\n",
       "      <td>0.729567</td>\n",
       "      <td>135000.0</td>\n",
       "      <td>-19046</td>\n",
       "      <td>6750.0</td>\n",
       "      <td>135000.0</td>\n",
       "      <td>0.555912</td>\n",
       "      <td>-2531</td>\n",
       "      <td>-225</td>\n",
       "      <td>-815.0</td>\n",
       "      <td>-4260.0</td>\n",
       "      <td>67500.000</td>\n",
       "      <td>0.010032</td>\n",
       "      <td>9</td>\n",
       "      <td>26.0</td>\n",
       "      <td>Revolving loans</td>\n",
       "      <td>NaN</td>\n",
       "      <td>NaN</td>\n",
       "      <td>Y</td>\n",
       "      <td>Unaccompanied</td>\n",
       "    </tr>\n",
       "    <tr>\n",
       "      <th>100006</th>\n",
       "      <td>NaN</td>\n",
       "      <td>NaN</td>\n",
       "      <td>312682.5</td>\n",
       "      <td>-19005</td>\n",
       "      <td>29686.5</td>\n",
       "      <td>297000.0</td>\n",
       "      <td>0.650442</td>\n",
       "      <td>-2437</td>\n",
       "      <td>-3039</td>\n",
       "      <td>-617.0</td>\n",
       "      <td>-9833.0</td>\n",
       "      <td>135000.000</td>\n",
       "      <td>0.008019</td>\n",
       "      <td>17</td>\n",
       "      <td>NaN</td>\n",
       "      <td>Cash loans</td>\n",
       "      <td>NaN</td>\n",
       "      <td>NaN</td>\n",
       "      <td>Y</td>\n",
       "      <td>Unaccompanied</td>\n",
       "    </tr>\n",
       "    <tr>\n",
       "      <th>100007</th>\n",
       "      <td>NaN</td>\n",
       "      <td>NaN</td>\n",
       "      <td>513000.0</td>\n",
       "      <td>-19932</td>\n",
       "      <td>21865.5</td>\n",
       "      <td>513000.0</td>\n",
       "      <td>0.322738</td>\n",
       "      <td>-3458</td>\n",
       "      <td>-3038</td>\n",
       "      <td>-1106.0</td>\n",
       "      <td>-4311.0</td>\n",
       "      <td>121500.000</td>\n",
       "      <td>0.028663</td>\n",
       "      <td>11</td>\n",
       "      <td>NaN</td>\n",
       "      <td>Cash loans</td>\n",
       "      <td>NaN</td>\n",
       "      <td>NaN</td>\n",
       "      <td>Y</td>\n",
       "      <td>Unaccompanied</td>\n",
       "    </tr>\n",
       "    <tr>\n",
       "      <th>100008</th>\n",
       "      <td>NaN</td>\n",
       "      <td>0.621226</td>\n",
       "      <td>490495.5</td>\n",
       "      <td>-16941</td>\n",
       "      <td>27517.5</td>\n",
       "      <td>454500.0</td>\n",
       "      <td>0.354225</td>\n",
       "      <td>-477</td>\n",
       "      <td>-1588</td>\n",
       "      <td>-2536.0</td>\n",
       "      <td>-4970.0</td>\n",
       "      <td>99000.000</td>\n",
       "      <td>0.035792</td>\n",
       "      <td>16</td>\n",
       "      <td>NaN</td>\n",
       "      <td>Cash loans</td>\n",
       "      <td>NaN</td>\n",
       "      <td>NaN</td>\n",
       "      <td>Y</td>\n",
       "      <td>Spouse, partner</td>\n",
       "    </tr>\n",
       "    <tr>\n",
       "      <th>100009</th>\n",
       "      <td>0.774761</td>\n",
       "      <td>0.492060</td>\n",
       "      <td>1560726.0</td>\n",
       "      <td>-13778</td>\n",
       "      <td>41301.0</td>\n",
       "      <td>1395000.0</td>\n",
       "      <td>0.724000</td>\n",
       "      <td>-619</td>\n",
       "      <td>-3130</td>\n",
       "      <td>-1562.0</td>\n",
       "      <td>-1213.0</td>\n",
       "      <td>171000.000</td>\n",
       "      <td>0.035792</td>\n",
       "      <td>16</td>\n",
       "      <td>17.0</td>\n",
       "      <td>Cash loans</td>\n",
       "      <td>NaN</td>\n",
       "      <td>NaN</td>\n",
       "      <td>Y</td>\n",
       "      <td>Unaccompanied</td>\n",
       "    </tr>\n",
       "    <tr>\n",
       "      <th>100010</th>\n",
       "      <td>NaN</td>\n",
       "      <td>0.540654</td>\n",
       "      <td>1530000.0</td>\n",
       "      <td>-18850</td>\n",
       "      <td>42075.0</td>\n",
       "      <td>1530000.0</td>\n",
       "      <td>0.714279</td>\n",
       "      <td>-2379</td>\n",
       "      <td>-449</td>\n",
       "      <td>-1070.0</td>\n",
       "      <td>-4597.0</td>\n",
       "      <td>360000.000</td>\n",
       "      <td>0.003122</td>\n",
       "      <td>16</td>\n",
       "      <td>8.0</td>\n",
       "      <td>Cash loans</td>\n",
       "      <td>NaN</td>\n",
       "      <td>NaN</td>\n",
       "      <td>Y</td>\n",
       "      <td>Unaccompanied</td>\n",
       "    </tr>\n",
       "    <tr>\n",
       "      <th>100011</th>\n",
       "      <td>0.587334</td>\n",
       "      <td>0.751724</td>\n",
       "      <td>1019610.0</td>\n",
       "      <td>-20099</td>\n",
       "      <td>33826.5</td>\n",
       "      <td>913500.0</td>\n",
       "      <td>0.205747</td>\n",
       "      <td>-3514</td>\n",
       "      <td>365243</td>\n",
       "      <td>0.0</td>\n",
       "      <td>-7427.0</td>\n",
       "      <td>112500.000</td>\n",
       "      <td>0.018634</td>\n",
       "      <td>14</td>\n",
       "      <td>NaN</td>\n",
       "      <td>Cash loans</td>\n",
       "      <td>NaN</td>\n",
       "      <td>NaN</td>\n",
       "      <td>Y</td>\n",
       "      <td>Children</td>\n",
       "    </tr>\n",
       "    <tr>\n",
       "      <th>100012</th>\n",
       "      <td>NaN</td>\n",
       "      <td>NaN</td>\n",
       "      <td>405000.0</td>\n",
       "      <td>-14469</td>\n",
       "      <td>20250.0</td>\n",
       "      <td>405000.0</td>\n",
       "      <td>0.746644</td>\n",
       "      <td>-3992</td>\n",
       "      <td>-2019</td>\n",
       "      <td>-1673.0</td>\n",
       "      <td>-14437.0</td>\n",
       "      <td>135000.000</td>\n",
       "      <td>0.019689</td>\n",
       "      <td>8</td>\n",
       "      <td>NaN</td>\n",
       "      <td>Revolving loans</td>\n",
       "      <td>NaN</td>\n",
       "      <td>NaN</td>\n",
       "      <td>Y</td>\n",
       "      <td>Unaccompanied</td>\n",
       "    </tr>\n",
       "    <tr>\n",
       "      <th>100014</th>\n",
       "      <td>0.319760</td>\n",
       "      <td>0.363945</td>\n",
       "      <td>652500.0</td>\n",
       "      <td>-10197</td>\n",
       "      <td>21177.0</td>\n",
       "      <td>652500.0</td>\n",
       "      <td>0.651862</td>\n",
       "      <td>-738</td>\n",
       "      <td>-679</td>\n",
       "      <td>-844.0</td>\n",
       "      <td>-4427.0</td>\n",
       "      <td>112500.000</td>\n",
       "      <td>0.022800</td>\n",
       "      <td>15</td>\n",
       "      <td>NaN</td>\n",
       "      <td>Cash loans</td>\n",
       "      <td>NaN</td>\n",
       "      <td>NaN</td>\n",
       "      <td>Y</td>\n",
       "      <td>Unaccompanied</td>\n",
       "    </tr>\n",
       "    <tr>\n",
       "      <th>100015</th>\n",
       "      <td>0.722044</td>\n",
       "      <td>0.652897</td>\n",
       "      <td>148365.0</td>\n",
       "      <td>-20417</td>\n",
       "      <td>10678.5</td>\n",
       "      <td>135000.0</td>\n",
       "      <td>0.555183</td>\n",
       "      <td>-2512</td>\n",
       "      <td>365243</td>\n",
       "      <td>-2396.0</td>\n",
       "      <td>-5246.0</td>\n",
       "      <td>38419.155</td>\n",
       "      <td>0.015221</td>\n",
       "      <td>7</td>\n",
       "      <td>NaN</td>\n",
       "      <td>Cash loans</td>\n",
       "      <td>NaN</td>\n",
       "      <td>NaN</td>\n",
       "      <td>Y</td>\n",
       "      <td>Children</td>\n",
       "    </tr>\n",
       "    <tr>\n",
       "      <th>100016</th>\n",
       "      <td>0.464831</td>\n",
       "      <td>0.176653</td>\n",
       "      <td>80865.0</td>\n",
       "      <td>-13439</td>\n",
       "      <td>5881.5</td>\n",
       "      <td>67500.0</td>\n",
       "      <td>0.715042</td>\n",
       "      <td>-3227</td>\n",
       "      <td>-2717</td>\n",
       "      <td>-2370.0</td>\n",
       "      <td>-311.0</td>\n",
       "      <td>67500.000</td>\n",
       "      <td>0.031329</td>\n",
       "      <td>10</td>\n",
       "      <td>NaN</td>\n",
       "      <td>Cash loans</td>\n",
       "      <td>0.0612</td>\n",
       "      <td>0.0840</td>\n",
       "      <td>Y</td>\n",
       "      <td>Unaccompanied</td>\n",
       "    </tr>\n",
       "    <tr>\n",
       "      <th>100017</th>\n",
       "      <td>NaN</td>\n",
       "      <td>0.770087</td>\n",
       "      <td>918468.0</td>\n",
       "      <td>-14086</td>\n",
       "      <td>28966.5</td>\n",
       "      <td>697500.0</td>\n",
       "      <td>0.566907</td>\n",
       "      <td>-4911</td>\n",
       "      <td>-3028</td>\n",
       "      <td>-4.0</td>\n",
       "      <td>-643.0</td>\n",
       "      <td>225000.000</td>\n",
       "      <td>0.016612</td>\n",
       "      <td>13</td>\n",
       "      <td>23.0</td>\n",
       "      <td>Cash loans</td>\n",
       "      <td>0.1417</td>\n",
       "      <td>0.1502</td>\n",
       "      <td>N</td>\n",
       "      <td>Unaccompanied</td>\n",
       "    </tr>\n",
       "    <tr>\n",
       "      <th>100018</th>\n",
       "      <td>0.721940</td>\n",
       "      <td>NaN</td>\n",
       "      <td>773680.5</td>\n",
       "      <td>-14583</td>\n",
       "      <td>32778.0</td>\n",
       "      <td>679500.0</td>\n",
       "      <td>0.642656</td>\n",
       "      <td>-2056</td>\n",
       "      <td>-203</td>\n",
       "      <td>-188.0</td>\n",
       "      <td>-615.0</td>\n",
       "      <td>189000.000</td>\n",
       "      <td>0.010006</td>\n",
       "      <td>9</td>\n",
       "      <td>NaN</td>\n",
       "      <td>Cash loans</td>\n",
       "      <td>0.3811</td>\n",
       "      <td>0.3561</td>\n",
       "      <td>Y</td>\n",
       "      <td>Unaccompanied</td>\n",
       "    </tr>\n",
       "    <tr>\n",
       "      <th>100019</th>\n",
       "      <td>0.115634</td>\n",
       "      <td>0.678568</td>\n",
       "      <td>299772.0</td>\n",
       "      <td>-8728</td>\n",
       "      <td>20160.0</td>\n",
       "      <td>247500.0</td>\n",
       "      <td>0.346634</td>\n",
       "      <td>-1368</td>\n",
       "      <td>-1157</td>\n",
       "      <td>-925.0</td>\n",
       "      <td>-3494.0</td>\n",
       "      <td>157500.000</td>\n",
       "      <td>0.020713</td>\n",
       "      <td>6</td>\n",
       "      <td>17.0</td>\n",
       "      <td>Cash loans</td>\n",
       "      <td>NaN</td>\n",
       "      <td>NaN</td>\n",
       "      <td>Y</td>\n",
       "      <td>Family</td>\n",
       "    </tr>\n",
       "    <tr>\n",
       "      <th>100020</th>\n",
       "      <td>NaN</td>\n",
       "      <td>0.062103</td>\n",
       "      <td>509602.5</td>\n",
       "      <td>-12931</td>\n",
       "      <td>26149.5</td>\n",
       "      <td>387000.0</td>\n",
       "      <td>0.236378</td>\n",
       "      <td>-3866</td>\n",
       "      <td>-1317</td>\n",
       "      <td>-3.0</td>\n",
       "      <td>-6392.0</td>\n",
       "      <td>108000.000</td>\n",
       "      <td>0.018634</td>\n",
       "      <td>12</td>\n",
       "      <td>NaN</td>\n",
       "      <td>Cash loans</td>\n",
       "      <td>NaN</td>\n",
       "      <td>NaN</td>\n",
       "      <td>N</td>\n",
       "      <td>Unaccompanied</td>\n",
       "    </tr>\n",
       "    <tr>\n",
       "      <th>100021</th>\n",
       "      <td>NaN</td>\n",
       "      <td>NaN</td>\n",
       "      <td>270000.0</td>\n",
       "      <td>-9776</td>\n",
       "      <td>13500.0</td>\n",
       "      <td>270000.0</td>\n",
       "      <td>0.683513</td>\n",
       "      <td>-2427</td>\n",
       "      <td>-191</td>\n",
       "      <td>-2811.0</td>\n",
       "      <td>-4143.0</td>\n",
       "      <td>81000.000</td>\n",
       "      <td>0.010966</td>\n",
       "      <td>10</td>\n",
       "      <td>NaN</td>\n",
       "      <td>Revolving loans</td>\n",
       "      <td>NaN</td>\n",
       "      <td>NaN</td>\n",
       "      <td>Y</td>\n",
       "      <td>Unaccompanied</td>\n",
       "    </tr>\n",
       "    <tr>\n",
       "      <th>100022</th>\n",
       "      <td>NaN</td>\n",
       "      <td>0.556727</td>\n",
       "      <td>157500.0</td>\n",
       "      <td>-17718</td>\n",
       "      <td>7875.0</td>\n",
       "      <td>157500.0</td>\n",
       "      <td>0.706428</td>\n",
       "      <td>-1259</td>\n",
       "      <td>-7804</td>\n",
       "      <td>-239.0</td>\n",
       "      <td>-8751.0</td>\n",
       "      <td>112500.000</td>\n",
       "      <td>0.046220</td>\n",
       "      <td>13</td>\n",
       "      <td>NaN</td>\n",
       "      <td>Revolving loans</td>\n",
       "      <td>0.0238</td>\n",
       "      <td>0.0284</td>\n",
       "      <td>Y</td>\n",
       "      <td>Other_A</td>\n",
       "    </tr>\n",
       "    <tr>\n",
       "      <th>100023</th>\n",
       "      <td>NaN</td>\n",
       "      <td>0.477649</td>\n",
       "      <td>544491.0</td>\n",
       "      <td>-11348</td>\n",
       "      <td>17563.5</td>\n",
       "      <td>454500.0</td>\n",
       "      <td>0.586617</td>\n",
       "      <td>-3964</td>\n",
       "      <td>-2038</td>\n",
       "      <td>-1850.0</td>\n",
       "      <td>-1021.0</td>\n",
       "      <td>90000.000</td>\n",
       "      <td>0.015221</td>\n",
       "      <td>12</td>\n",
       "      <td>NaN</td>\n",
       "      <td>Cash loans</td>\n",
       "      <td>NaN</td>\n",
       "      <td>NaN</td>\n",
       "      <td>Y</td>\n",
       "      <td>Unaccompanied</td>\n",
       "    </tr>\n",
       "    <tr>\n",
       "      <th>100024</th>\n",
       "      <td>0.565655</td>\n",
       "      <td>NaN</td>\n",
       "      <td>427500.0</td>\n",
       "      <td>-18252</td>\n",
       "      <td>21375.0</td>\n",
       "      <td>427500.0</td>\n",
       "      <td>0.113375</td>\n",
       "      <td>-1800</td>\n",
       "      <td>-4286</td>\n",
       "      <td>-296.0</td>\n",
       "      <td>-298.0</td>\n",
       "      <td>135000.000</td>\n",
       "      <td>0.015221</td>\n",
       "      <td>13</td>\n",
       "      <td>7.0</td>\n",
       "      <td>Revolving loans</td>\n",
       "      <td>0.0530</td>\n",
       "      <td>0.0735</td>\n",
       "      <td>Y</td>\n",
       "      <td>Unaccompanied</td>\n",
       "    </tr>\n",
       "    <tr>\n",
       "      <th>100025</th>\n",
       "      <td>0.437709</td>\n",
       "      <td>0.542445</td>\n",
       "      <td>1132573.5</td>\n",
       "      <td>-14815</td>\n",
       "      <td>37561.5</td>\n",
       "      <td>927000.0</td>\n",
       "      <td>0.233767</td>\n",
       "      <td>-2299</td>\n",
       "      <td>-1652</td>\n",
       "      <td>0.0</td>\n",
       "      <td>-2299.0</td>\n",
       "      <td>202500.000</td>\n",
       "      <td>0.025164</td>\n",
       "      <td>9</td>\n",
       "      <td>14.0</td>\n",
       "      <td>Cash loans</td>\n",
       "      <td>NaN</td>\n",
       "      <td>NaN</td>\n",
       "      <td>Y</td>\n",
       "      <td>Unaccompanied</td>\n",
       "    </tr>\n",
       "    <tr>\n",
       "      <th>100026</th>\n",
       "      <td>NaN</td>\n",
       "      <td>0.358951</td>\n",
       "      <td>497520.0</td>\n",
       "      <td>-11146</td>\n",
       "      <td>32521.5</td>\n",
       "      <td>450000.0</td>\n",
       "      <td>0.457143</td>\n",
       "      <td>-2518</td>\n",
       "      <td>-4306</td>\n",
       "      <td>-468.0</td>\n",
       "      <td>-114.0</td>\n",
       "      <td>450000.000</td>\n",
       "      <td>0.020713</td>\n",
       "      <td>6</td>\n",
       "      <td>NaN</td>\n",
       "      <td>Cash loans</td>\n",
       "      <td>0.0696</td>\n",
       "      <td>0.0924</td>\n",
       "      <td>N</td>\n",
       "      <td>Unaccompanied</td>\n",
       "    </tr>\n",
       "    <tr>\n",
       "      <th>100027</th>\n",
       "      <td>NaN</td>\n",
       "      <td>0.669057</td>\n",
       "      <td>239850.0</td>\n",
       "      <td>-24827</td>\n",
       "      <td>23850.0</td>\n",
       "      <td>225000.0</td>\n",
       "      <td>0.624305</td>\n",
       "      <td>-3684</td>\n",
       "      <td>365243</td>\n",
       "      <td>-795.0</td>\n",
       "      <td>-9012.0</td>\n",
       "      <td>83250.000</td>\n",
       "      <td>0.006296</td>\n",
       "      <td>12</td>\n",
       "      <td>NaN</td>\n",
       "      <td>Cash loans</td>\n",
       "      <td>0.1640</td>\n",
       "      <td>0.1261</td>\n",
       "      <td>Y</td>\n",
       "      <td>Unaccompanied</td>\n",
       "    </tr>\n",
       "    <tr>\n",
       "      <th>100029</th>\n",
       "      <td>NaN</td>\n",
       "      <td>0.565608</td>\n",
       "      <td>247500.0</td>\n",
       "      <td>-11286</td>\n",
       "      <td>12703.5</td>\n",
       "      <td>247500.0</td>\n",
       "      <td>0.786179</td>\n",
       "      <td>-3729</td>\n",
       "      <td>-746</td>\n",
       "      <td>-4.0</td>\n",
       "      <td>-108.0</td>\n",
       "      <td>135000.000</td>\n",
       "      <td>0.026392</td>\n",
       "      <td>14</td>\n",
       "      <td>7.0</td>\n",
       "      <td>Cash loans</td>\n",
       "      <td>0.0967</td>\n",
       "      <td>0.1460</td>\n",
       "      <td>N</td>\n",
       "      <td>Unaccompanied</td>\n",
       "    </tr>\n",
       "    <tr>\n",
       "      <th>100030</th>\n",
       "      <td>0.561948</td>\n",
       "      <td>0.461482</td>\n",
       "      <td>225000.0</td>\n",
       "      <td>-19334</td>\n",
       "      <td>11074.5</td>\n",
       "      <td>225000.0</td>\n",
       "      <td>0.651406</td>\n",
       "      <td>-2893</td>\n",
       "      <td>-3494</td>\n",
       "      <td>0.0</td>\n",
       "      <td>-2419.0</td>\n",
       "      <td>90000.000</td>\n",
       "      <td>0.028663</td>\n",
       "      <td>8</td>\n",
       "      <td>NaN</td>\n",
       "      <td>Cash loans</td>\n",
       "      <td>0.0533</td>\n",
       "      <td>0.0735</td>\n",
       "      <td>Y</td>\n",
       "      <td>Unaccompanied</td>\n",
       "    </tr>\n",
       "    <tr>\n",
       "      <th>100031</th>\n",
       "      <td>NaN</td>\n",
       "      <td>0.190706</td>\n",
       "      <td>979992.0</td>\n",
       "      <td>-18724</td>\n",
       "      <td>27076.5</td>\n",
       "      <td>702000.0</td>\n",
       "      <td>0.548477</td>\n",
       "      <td>-1827</td>\n",
       "      <td>-2628</td>\n",
       "      <td>-161.0</td>\n",
       "      <td>-6573.0</td>\n",
       "      <td>112500.000</td>\n",
       "      <td>0.018029</td>\n",
       "      <td>9</td>\n",
       "      <td>NaN</td>\n",
       "      <td>Cash loans</td>\n",
       "      <td>0.0085</td>\n",
       "      <td>0.0168</td>\n",
       "      <td>Y</td>\n",
       "      <td>Unaccompanied</td>\n",
       "    </tr>\n",
       "    <tr>\n",
       "      <th>100032</th>\n",
       "      <td>NaN</td>\n",
       "      <td>0.659406</td>\n",
       "      <td>327024.0</td>\n",
       "      <td>-15948</td>\n",
       "      <td>23827.5</td>\n",
       "      <td>270000.0</td>\n",
       "      <td>0.541124</td>\n",
       "      <td>-3153</td>\n",
       "      <td>-1234</td>\n",
       "      <td>-2.0</td>\n",
       "      <td>-5782.0</td>\n",
       "      <td>112500.000</td>\n",
       "      <td>0.019101</td>\n",
       "      <td>10</td>\n",
       "      <td>NaN</td>\n",
       "      <td>Cash loans</td>\n",
       "      <td>NaN</td>\n",
       "      <td>NaN</td>\n",
       "      <td>Y</td>\n",
       "      <td>Family</td>\n",
       "    </tr>\n",
       "    <tr>\n",
       "      <th>100033</th>\n",
       "      <td>0.600396</td>\n",
       "      <td>0.524496</td>\n",
       "      <td>790830.0</td>\n",
       "      <td>-9994</td>\n",
       "      <td>57676.5</td>\n",
       "      <td>675000.0</td>\n",
       "      <td>0.685011</td>\n",
       "      <td>-2661</td>\n",
       "      <td>-1796</td>\n",
       "      <td>-849.0</td>\n",
       "      <td>-4668.0</td>\n",
       "      <td>270000.000</td>\n",
       "      <td>0.046220</td>\n",
       "      <td>11</td>\n",
       "      <td>1.0</td>\n",
       "      <td>Cash loans</td>\n",
       "      <td>NaN</td>\n",
       "      <td>NaN</td>\n",
       "      <td>Y</td>\n",
       "      <td>Unaccompanied</td>\n",
       "    </tr>\n",
       "    <tr>\n",
       "      <th>100034</th>\n",
       "      <td>0.297914</td>\n",
       "      <td>NaN</td>\n",
       "      <td>180000.0</td>\n",
       "      <td>-10341</td>\n",
       "      <td>9000.0</td>\n",
       "      <td>180000.0</td>\n",
       "      <td>0.502779</td>\n",
       "      <td>-3015</td>\n",
       "      <td>-1010</td>\n",
       "      <td>-599.0</td>\n",
       "      <td>-4799.0</td>\n",
       "      <td>90000.000</td>\n",
       "      <td>0.030755</td>\n",
       "      <td>16</td>\n",
       "      <td>NaN</td>\n",
       "      <td>Revolving loans</td>\n",
       "      <td>0.1227</td>\n",
       "      <td>0.1534</td>\n",
       "      <td>Y</td>\n",
       "      <td>Unaccompanied</td>\n",
       "    </tr>\n",
       "    <tr>\n",
       "      <th>...</th>\n",
       "      <td>...</td>\n",
       "      <td>...</td>\n",
       "      <td>...</td>\n",
       "      <td>...</td>\n",
       "      <td>...</td>\n",
       "      <td>...</td>\n",
       "      <td>...</td>\n",
       "      <td>...</td>\n",
       "      <td>...</td>\n",
       "      <td>...</td>\n",
       "      <td>...</td>\n",
       "      <td>...</td>\n",
       "      <td>...</td>\n",
       "      <td>...</td>\n",
       "      <td>...</td>\n",
       "      <td>...</td>\n",
       "      <td>...</td>\n",
       "      <td>...</td>\n",
       "      <td>...</td>\n",
       "      <td>...</td>\n",
       "    </tr>\n",
       "    <tr>\n",
       "      <th>456225</th>\n",
       "      <td>NaN</td>\n",
       "      <td>0.511892</td>\n",
       "      <td>297000.0</td>\n",
       "      <td>-20644</td>\n",
       "      <td>19975.5</td>\n",
       "      <td>297000.0</td>\n",
       "      <td>0.713524</td>\n",
       "      <td>-3832</td>\n",
       "      <td>-3147</td>\n",
       "      <td>-2941.0</td>\n",
       "      <td>-8921.0</td>\n",
       "      <td>225000.000</td>\n",
       "      <td>0.008575</td>\n",
       "      <td>15</td>\n",
       "      <td>NaN</td>\n",
       "      <td>Cash loans</td>\n",
       "      <td>NaN</td>\n",
       "      <td>NaN</td>\n",
       "      <td>Y</td>\n",
       "      <td>Family</td>\n",
       "    </tr>\n",
       "    <tr>\n",
       "      <th>456226</th>\n",
       "      <td>0.470808</td>\n",
       "      <td>0.394495</td>\n",
       "      <td>500566.5</td>\n",
       "      <td>-14106</td>\n",
       "      <td>34969.5</td>\n",
       "      <td>472500.0</td>\n",
       "      <td>0.737905</td>\n",
       "      <td>-933</td>\n",
       "      <td>-226</td>\n",
       "      <td>-611.0</td>\n",
       "      <td>-2463.0</td>\n",
       "      <td>225000.000</td>\n",
       "      <td>0.031329</td>\n",
       "      <td>15</td>\n",
       "      <td>11.0</td>\n",
       "      <td>Cash loans</td>\n",
       "      <td>0.0272</td>\n",
       "      <td>0.0399</td>\n",
       "      <td>Y</td>\n",
       "      <td>Unaccompanied</td>\n",
       "    </tr>\n",
       "    <tr>\n",
       "      <th>456227</th>\n",
       "      <td>NaN</td>\n",
       "      <td>0.520898</td>\n",
       "      <td>247275.0</td>\n",
       "      <td>-24911</td>\n",
       "      <td>16479.0</td>\n",
       "      <td>225000.0</td>\n",
       "      <td>0.589906</td>\n",
       "      <td>-4213</td>\n",
       "      <td>365243</td>\n",
       "      <td>-1775.0</td>\n",
       "      <td>-11211.0</td>\n",
       "      <td>99000.000</td>\n",
       "      <td>0.007330</td>\n",
       "      <td>12</td>\n",
       "      <td>NaN</td>\n",
       "      <td>Cash loans</td>\n",
       "      <td>0.0067</td>\n",
       "      <td>0.0084</td>\n",
       "      <td>Y</td>\n",
       "      <td>Unaccompanied</td>\n",
       "    </tr>\n",
       "    <tr>\n",
       "      <th>456228</th>\n",
       "      <td>NaN</td>\n",
       "      <td>NaN</td>\n",
       "      <td>545040.0</td>\n",
       "      <td>-12847</td>\n",
       "      <td>35617.5</td>\n",
       "      <td>450000.0</td>\n",
       "      <td>0.739703</td>\n",
       "      <td>-35</td>\n",
       "      <td>-328</td>\n",
       "      <td>-1578.0</td>\n",
       "      <td>-2531.0</td>\n",
       "      <td>540000.000</td>\n",
       "      <td>0.032561</td>\n",
       "      <td>13</td>\n",
       "      <td>1.0</td>\n",
       "      <td>Cash loans</td>\n",
       "      <td>NaN</td>\n",
       "      <td>NaN</td>\n",
       "      <td>N</td>\n",
       "      <td>Unaccompanied</td>\n",
       "    </tr>\n",
       "    <tr>\n",
       "      <th>456229</th>\n",
       "      <td>0.426391</td>\n",
       "      <td>0.865896</td>\n",
       "      <td>180000.0</td>\n",
       "      <td>-11973</td>\n",
       "      <td>9000.0</td>\n",
       "      <td>180000.0</td>\n",
       "      <td>0.702403</td>\n",
       "      <td>-626</td>\n",
       "      <td>-670</td>\n",
       "      <td>-336.0</td>\n",
       "      <td>-1926.0</td>\n",
       "      <td>270000.000</td>\n",
       "      <td>0.003813</td>\n",
       "      <td>18</td>\n",
       "      <td>NaN</td>\n",
       "      <td>Revolving loans</td>\n",
       "      <td>NaN</td>\n",
       "      <td>NaN</td>\n",
       "      <td>Y</td>\n",
       "      <td>Family</td>\n",
       "    </tr>\n",
       "    <tr>\n",
       "      <th>456230</th>\n",
       "      <td>NaN</td>\n",
       "      <td>0.199771</td>\n",
       "      <td>355536.0</td>\n",
       "      <td>-16010</td>\n",
       "      <td>18283.5</td>\n",
       "      <td>270000.0</td>\n",
       "      <td>0.661025</td>\n",
       "      <td>-4392</td>\n",
       "      <td>-1185</td>\n",
       "      <td>0.0</td>\n",
       "      <td>-5034.0</td>\n",
       "      <td>292500.000</td>\n",
       "      <td>0.072508</td>\n",
       "      <td>17</td>\n",
       "      <td>9.0</td>\n",
       "      <td>Cash loans</td>\n",
       "      <td>0.1976</td>\n",
       "      <td>0.2006</td>\n",
       "      <td>Y</td>\n",
       "      <td>Unaccompanied</td>\n",
       "    </tr>\n",
       "    <tr>\n",
       "      <th>456231</th>\n",
       "      <td>NaN</td>\n",
       "      <td>0.255332</td>\n",
       "      <td>1071909.0</td>\n",
       "      <td>-23125</td>\n",
       "      <td>31473.0</td>\n",
       "      <td>936000.0</td>\n",
       "      <td>0.307082</td>\n",
       "      <td>-4115</td>\n",
       "      <td>365243</td>\n",
       "      <td>-846.0</td>\n",
       "      <td>-5485.0</td>\n",
       "      <td>117000.000</td>\n",
       "      <td>0.010147</td>\n",
       "      <td>10</td>\n",
       "      <td>NaN</td>\n",
       "      <td>Cash loans</td>\n",
       "      <td>NaN</td>\n",
       "      <td>NaN</td>\n",
       "      <td>Y</td>\n",
       "      <td>Unaccompanied</td>\n",
       "    </tr>\n",
       "    <tr>\n",
       "      <th>456232</th>\n",
       "      <td>0.479458</td>\n",
       "      <td>0.529890</td>\n",
       "      <td>135000.0</td>\n",
       "      <td>-10092</td>\n",
       "      <td>13351.5</td>\n",
       "      <td>135000.0</td>\n",
       "      <td>0.619662</td>\n",
       "      <td>-2783</td>\n",
       "      <td>-1218</td>\n",
       "      <td>-610.0</td>\n",
       "      <td>-4158.0</td>\n",
       "      <td>157500.000</td>\n",
       "      <td>0.004960</td>\n",
       "      <td>18</td>\n",
       "      <td>NaN</td>\n",
       "      <td>Cash loans</td>\n",
       "      <td>0.0407</td>\n",
       "      <td>NaN</td>\n",
       "      <td>N</td>\n",
       "      <td>Unaccompanied</td>\n",
       "    </tr>\n",
       "    <tr>\n",
       "      <th>456233</th>\n",
       "      <td>NaN</td>\n",
       "      <td>0.397946</td>\n",
       "      <td>521280.0</td>\n",
       "      <td>-16471</td>\n",
       "      <td>23089.5</td>\n",
       "      <td>450000.0</td>\n",
       "      <td>0.615261</td>\n",
       "      <td>-9</td>\n",
       "      <td>-286</td>\n",
       "      <td>-307.0</td>\n",
       "      <td>-8291.0</td>\n",
       "      <td>225000.000</td>\n",
       "      <td>0.014464</td>\n",
       "      <td>5</td>\n",
       "      <td>NaN</td>\n",
       "      <td>Cash loans</td>\n",
       "      <td>0.0024</td>\n",
       "      <td>0.0116</td>\n",
       "      <td>Y</td>\n",
       "      <td>Unaccompanied</td>\n",
       "    </tr>\n",
       "    <tr>\n",
       "      <th>456234</th>\n",
       "      <td>0.245623</td>\n",
       "      <td>0.495666</td>\n",
       "      <td>135000.0</td>\n",
       "      <td>-9874</td>\n",
       "      <td>9148.5</td>\n",
       "      <td>135000.0</td>\n",
       "      <td>0.378421</td>\n",
       "      <td>-2557</td>\n",
       "      <td>-1928</td>\n",
       "      <td>-439.0</td>\n",
       "      <td>-9445.0</td>\n",
       "      <td>81000.000</td>\n",
       "      <td>0.010147</td>\n",
       "      <td>12</td>\n",
       "      <td>NaN</td>\n",
       "      <td>Cash loans</td>\n",
       "      <td>NaN</td>\n",
       "      <td>NaN</td>\n",
       "      <td>Y</td>\n",
       "      <td>Unaccompanied</td>\n",
       "    </tr>\n",
       "    <tr>\n",
       "      <th>456235</th>\n",
       "      <td>0.532858</td>\n",
       "      <td>0.716570</td>\n",
       "      <td>1078200.0</td>\n",
       "      <td>-10976</td>\n",
       "      <td>31522.5</td>\n",
       "      <td>900000.0</td>\n",
       "      <td>0.561158</td>\n",
       "      <td>-3369</td>\n",
       "      <td>-1953</td>\n",
       "      <td>-1357.0</td>\n",
       "      <td>-5048.0</td>\n",
       "      <td>90000.000</td>\n",
       "      <td>0.019101</td>\n",
       "      <td>10</td>\n",
       "      <td>15.0</td>\n",
       "      <td>Cash loans</td>\n",
       "      <td>NaN</td>\n",
       "      <td>NaN</td>\n",
       "      <td>Y</td>\n",
       "      <td>Unaccompanied</td>\n",
       "    </tr>\n",
       "    <tr>\n",
       "      <th>456236</th>\n",
       "      <td>NaN</td>\n",
       "      <td>0.365617</td>\n",
       "      <td>1575000.0</td>\n",
       "      <td>-20965</td>\n",
       "      <td>43443.0</td>\n",
       "      <td>1575000.0</td>\n",
       "      <td>0.599173</td>\n",
       "      <td>-4410</td>\n",
       "      <td>-1618</td>\n",
       "      <td>0.0</td>\n",
       "      <td>-1764.0</td>\n",
       "      <td>585000.000</td>\n",
       "      <td>0.028663</td>\n",
       "      <td>10</td>\n",
       "      <td>2.0</td>\n",
       "      <td>Cash loans</td>\n",
       "      <td>NaN</td>\n",
       "      <td>NaN</td>\n",
       "      <td>Y</td>\n",
       "      <td>Unaccompanied</td>\n",
       "    </tr>\n",
       "    <tr>\n",
       "      <th>456237</th>\n",
       "      <td>NaN</td>\n",
       "      <td>0.728141</td>\n",
       "      <td>946764.0</td>\n",
       "      <td>-17533</td>\n",
       "      <td>37678.5</td>\n",
       "      <td>765000.0</td>\n",
       "      <td>0.424683</td>\n",
       "      <td>-1094</td>\n",
       "      <td>-2306</td>\n",
       "      <td>-249.0</td>\n",
       "      <td>-5032.0</td>\n",
       "      <td>135000.000</td>\n",
       "      <td>0.019689</td>\n",
       "      <td>12</td>\n",
       "      <td>NaN</td>\n",
       "      <td>Cash loans</td>\n",
       "      <td>NaN</td>\n",
       "      <td>NaN</td>\n",
       "      <td>Y</td>\n",
       "      <td>Unaccompanied</td>\n",
       "    </tr>\n",
       "    <tr>\n",
       "      <th>456238</th>\n",
       "      <td>0.531969</td>\n",
       "      <td>0.511892</td>\n",
       "      <td>479700.0</td>\n",
       "      <td>-14958</td>\n",
       "      <td>46858.5</td>\n",
       "      <td>450000.0</td>\n",
       "      <td>0.699727</td>\n",
       "      <td>-4519</td>\n",
       "      <td>-6573</td>\n",
       "      <td>-367.0</td>\n",
       "      <td>-1438.0</td>\n",
       "      <td>270000.000</td>\n",
       "      <td>0.035792</td>\n",
       "      <td>9</td>\n",
       "      <td>15.0</td>\n",
       "      <td>Cash loans</td>\n",
       "      <td>NaN</td>\n",
       "      <td>NaN</td>\n",
       "      <td>N</td>\n",
       "      <td>Family</td>\n",
       "    </tr>\n",
       "    <tr>\n",
       "      <th>456239</th>\n",
       "      <td>NaN</td>\n",
       "      <td>0.597192</td>\n",
       "      <td>808650.0</td>\n",
       "      <td>-20922</td>\n",
       "      <td>23773.5</td>\n",
       "      <td>675000.0</td>\n",
       "      <td>0.267834</td>\n",
       "      <td>-4440</td>\n",
       "      <td>-7438</td>\n",
       "      <td>-2919.0</td>\n",
       "      <td>-9596.0</td>\n",
       "      <td>180000.000</td>\n",
       "      <td>0.025164</td>\n",
       "      <td>14</td>\n",
       "      <td>2.0</td>\n",
       "      <td>Cash loans</td>\n",
       "      <td>0.0700</td>\n",
       "      <td>0.0756</td>\n",
       "      <td>N</td>\n",
       "      <td>Unaccompanied</td>\n",
       "    </tr>\n",
       "    <tr>\n",
       "      <th>456240</th>\n",
       "      <td>0.644797</td>\n",
       "      <td>0.486653</td>\n",
       "      <td>337500.0</td>\n",
       "      <td>-17345</td>\n",
       "      <td>16875.0</td>\n",
       "      <td>337500.0</td>\n",
       "      <td>0.512081</td>\n",
       "      <td>-876</td>\n",
       "      <td>-2178</td>\n",
       "      <td>-826.0</td>\n",
       "      <td>-4262.0</td>\n",
       "      <td>360000.000</td>\n",
       "      <td>0.004960</td>\n",
       "      <td>13</td>\n",
       "      <td>NaN</td>\n",
       "      <td>Revolving loans</td>\n",
       "      <td>NaN</td>\n",
       "      <td>NaN</td>\n",
       "      <td>N</td>\n",
       "      <td>Family</td>\n",
       "    </tr>\n",
       "    <tr>\n",
       "      <th>456241</th>\n",
       "      <td>0.251096</td>\n",
       "      <td>0.524496</td>\n",
       "      <td>270126.0</td>\n",
       "      <td>-16679</td>\n",
       "      <td>12028.5</td>\n",
       "      <td>193500.0</td>\n",
       "      <td>0.651306</td>\n",
       "      <td>-222</td>\n",
       "      <td>-1222</td>\n",
       "      <td>-1344.0</td>\n",
       "      <td>-1916.0</td>\n",
       "      <td>180000.000</td>\n",
       "      <td>0.007020</td>\n",
       "      <td>13</td>\n",
       "      <td>0.0</td>\n",
       "      <td>Cash loans</td>\n",
       "      <td>NaN</td>\n",
       "      <td>NaN</td>\n",
       "      <td>Y</td>\n",
       "      <td>Unaccompanied</td>\n",
       "    </tr>\n",
       "    <tr>\n",
       "      <th>456242</th>\n",
       "      <td>NaN</td>\n",
       "      <td>0.406617</td>\n",
       "      <td>1312110.0</td>\n",
       "      <td>-19102</td>\n",
       "      <td>52168.5</td>\n",
       "      <td>1125000.0</td>\n",
       "      <td>0.746259</td>\n",
       "      <td>-2650</td>\n",
       "      <td>-3689</td>\n",
       "      <td>-734.0</td>\n",
       "      <td>-746.0</td>\n",
       "      <td>198000.000</td>\n",
       "      <td>0.072508</td>\n",
       "      <td>10</td>\n",
       "      <td>10.0</td>\n",
       "      <td>Cash loans</td>\n",
       "      <td>0.1778</td>\n",
       "      <td>0.2101</td>\n",
       "      <td>Y</td>\n",
       "      <td>Unaccompanied</td>\n",
       "    </tr>\n",
       "    <tr>\n",
       "      <th>456243</th>\n",
       "      <td>0.665343</td>\n",
       "      <td>0.206779</td>\n",
       "      <td>225000.0</td>\n",
       "      <td>-16988</td>\n",
       "      <td>12694.5</td>\n",
       "      <td>225000.0</td>\n",
       "      <td>0.649123</td>\n",
       "      <td>-509</td>\n",
       "      <td>-8694</td>\n",
       "      <td>-1511.0</td>\n",
       "      <td>-5396.0</td>\n",
       "      <td>81000.000</td>\n",
       "      <td>0.007020</td>\n",
       "      <td>15</td>\n",
       "      <td>NaN</td>\n",
       "      <td>Cash loans</td>\n",
       "      <td>NaN</td>\n",
       "      <td>NaN</td>\n",
       "      <td>Y</td>\n",
       "      <td>Unaccompanied</td>\n",
       "    </tr>\n",
       "    <tr>\n",
       "      <th>456244</th>\n",
       "      <td>0.896042</td>\n",
       "      <td>0.337673</td>\n",
       "      <td>1303812.0</td>\n",
       "      <td>-20390</td>\n",
       "      <td>35982.0</td>\n",
       "      <td>1138500.0</td>\n",
       "      <td>0.789389</td>\n",
       "      <td>-3906</td>\n",
       "      <td>-5326</td>\n",
       "      <td>-1459.0</td>\n",
       "      <td>-157.0</td>\n",
       "      <td>261000.000</td>\n",
       "      <td>0.031329</td>\n",
       "      <td>10</td>\n",
       "      <td>NaN</td>\n",
       "      <td>Cash loans</td>\n",
       "      <td>0.0890</td>\n",
       "      <td>0.1324</td>\n",
       "      <td>Y</td>\n",
       "      <td>Unaccompanied</td>\n",
       "    </tr>\n",
       "    <tr>\n",
       "      <th>456245</th>\n",
       "      <td>NaN</td>\n",
       "      <td>NaN</td>\n",
       "      <td>269550.0</td>\n",
       "      <td>-12961</td>\n",
       "      <td>11871.0</td>\n",
       "      <td>225000.0</td>\n",
       "      <td>0.575481</td>\n",
       "      <td>-3780</td>\n",
       "      <td>-1046</td>\n",
       "      <td>-448.0</td>\n",
       "      <td>-1398.0</td>\n",
       "      <td>81000.000</td>\n",
       "      <td>0.009175</td>\n",
       "      <td>14</td>\n",
       "      <td>NaN</td>\n",
       "      <td>Cash loans</td>\n",
       "      <td>0.0149</td>\n",
       "      <td>0.0399</td>\n",
       "      <td>Y</td>\n",
       "      <td>Unaccompanied</td>\n",
       "    </tr>\n",
       "    <tr>\n",
       "      <th>456246</th>\n",
       "      <td>NaN</td>\n",
       "      <td>0.735221</td>\n",
       "      <td>225000.0</td>\n",
       "      <td>-16063</td>\n",
       "      <td>10620.0</td>\n",
       "      <td>225000.0</td>\n",
       "      <td>0.313334</td>\n",
       "      <td>-4531</td>\n",
       "      <td>-8736</td>\n",
       "      <td>-1516.0</td>\n",
       "      <td>-8672.0</td>\n",
       "      <td>94500.000</td>\n",
       "      <td>0.010966</td>\n",
       "      <td>16</td>\n",
       "      <td>NaN</td>\n",
       "      <td>Cash loans</td>\n",
       "      <td>NaN</td>\n",
       "      <td>NaN</td>\n",
       "      <td>Y</td>\n",
       "      <td>Unaccompanied</td>\n",
       "    </tr>\n",
       "    <tr>\n",
       "      <th>456247</th>\n",
       "      <td>0.243466</td>\n",
       "      <td>0.609276</td>\n",
       "      <td>345510.0</td>\n",
       "      <td>-11870</td>\n",
       "      <td>17770.5</td>\n",
       "      <td>247500.0</td>\n",
       "      <td>0.501221</td>\n",
       "      <td>-3936</td>\n",
       "      <td>-399</td>\n",
       "      <td>-2315.0</td>\n",
       "      <td>-675.0</td>\n",
       "      <td>112500.000</td>\n",
       "      <td>0.022800</td>\n",
       "      <td>11</td>\n",
       "      <td>NaN</td>\n",
       "      <td>Cash loans</td>\n",
       "      <td>NaN</td>\n",
       "      <td>NaN</td>\n",
       "      <td>Y</td>\n",
       "      <td>Unaccompanied</td>\n",
       "    </tr>\n",
       "    <tr>\n",
       "      <th>456248</th>\n",
       "      <td>NaN</td>\n",
       "      <td>NaN</td>\n",
       "      <td>331920.0</td>\n",
       "      <td>-16705</td>\n",
       "      <td>16096.5</td>\n",
       "      <td>225000.0</td>\n",
       "      <td>0.530725</td>\n",
       "      <td>-259</td>\n",
       "      <td>-7258</td>\n",
       "      <td>0.0</td>\n",
       "      <td>-9798.0</td>\n",
       "      <td>153000.000</td>\n",
       "      <td>0.022625</td>\n",
       "      <td>11</td>\n",
       "      <td>NaN</td>\n",
       "      <td>Cash loans</td>\n",
       "      <td>NaN</td>\n",
       "      <td>NaN</td>\n",
       "      <td>Y</td>\n",
       "      <td>Unaccompanied</td>\n",
       "    </tr>\n",
       "    <tr>\n",
       "      <th>456249</th>\n",
       "      <td>NaN</td>\n",
       "      <td>0.742182</td>\n",
       "      <td>225000.0</td>\n",
       "      <td>-24384</td>\n",
       "      <td>22050.0</td>\n",
       "      <td>225000.0</td>\n",
       "      <td>0.346391</td>\n",
       "      <td>-2357</td>\n",
       "      <td>365243</td>\n",
       "      <td>0.0</td>\n",
       "      <td>-7369.0</td>\n",
       "      <td>112500.000</td>\n",
       "      <td>0.022800</td>\n",
       "      <td>15</td>\n",
       "      <td>NaN</td>\n",
       "      <td>Cash loans</td>\n",
       "      <td>0.2611</td>\n",
       "      <td>0.2248</td>\n",
       "      <td>Y</td>\n",
       "      <td>Unaccompanied</td>\n",
       "    </tr>\n",
       "    <tr>\n",
       "      <th>456251</th>\n",
       "      <td>0.145570</td>\n",
       "      <td>NaN</td>\n",
       "      <td>254700.0</td>\n",
       "      <td>-9327</td>\n",
       "      <td>27558.0</td>\n",
       "      <td>225000.0</td>\n",
       "      <td>0.681632</td>\n",
       "      <td>-1982</td>\n",
       "      <td>-236</td>\n",
       "      <td>-273.0</td>\n",
       "      <td>-8456.0</td>\n",
       "      <td>157500.000</td>\n",
       "      <td>0.032561</td>\n",
       "      <td>15</td>\n",
       "      <td>NaN</td>\n",
       "      <td>Cash loans</td>\n",
       "      <td>0.2898</td>\n",
       "      <td>0.1008</td>\n",
       "      <td>N</td>\n",
       "      <td>Unaccompanied</td>\n",
       "    </tr>\n",
       "    <tr>\n",
       "      <th>456252</th>\n",
       "      <td>NaN</td>\n",
       "      <td>NaN</td>\n",
       "      <td>269550.0</td>\n",
       "      <td>-20775</td>\n",
       "      <td>12001.5</td>\n",
       "      <td>225000.0</td>\n",
       "      <td>0.115992</td>\n",
       "      <td>-4090</td>\n",
       "      <td>365243</td>\n",
       "      <td>0.0</td>\n",
       "      <td>-4388.0</td>\n",
       "      <td>72000.000</td>\n",
       "      <td>0.025164</td>\n",
       "      <td>8</td>\n",
       "      <td>NaN</td>\n",
       "      <td>Cash loans</td>\n",
       "      <td>0.0214</td>\n",
       "      <td>0.0252</td>\n",
       "      <td>Y</td>\n",
       "      <td>Unaccompanied</td>\n",
       "    </tr>\n",
       "    <tr>\n",
       "      <th>456253</th>\n",
       "      <td>0.744026</td>\n",
       "      <td>0.218859</td>\n",
       "      <td>677664.0</td>\n",
       "      <td>-14966</td>\n",
       "      <td>29979.0</td>\n",
       "      <td>585000.0</td>\n",
       "      <td>0.535722</td>\n",
       "      <td>-5150</td>\n",
       "      <td>-7921</td>\n",
       "      <td>-1909.0</td>\n",
       "      <td>-6737.0</td>\n",
       "      <td>153000.000</td>\n",
       "      <td>0.005002</td>\n",
       "      <td>9</td>\n",
       "      <td>NaN</td>\n",
       "      <td>Cash loans</td>\n",
       "      <td>0.7970</td>\n",
       "      <td>0.1050</td>\n",
       "      <td>Y</td>\n",
       "      <td>Unaccompanied</td>\n",
       "    </tr>\n",
       "    <tr>\n",
       "      <th>456254</th>\n",
       "      <td>NaN</td>\n",
       "      <td>0.661024</td>\n",
       "      <td>370107.0</td>\n",
       "      <td>-11961</td>\n",
       "      <td>20205.0</td>\n",
       "      <td>319500.0</td>\n",
       "      <td>0.514163</td>\n",
       "      <td>-931</td>\n",
       "      <td>-4786</td>\n",
       "      <td>-322.0</td>\n",
       "      <td>-2562.0</td>\n",
       "      <td>171000.000</td>\n",
       "      <td>0.005313</td>\n",
       "      <td>9</td>\n",
       "      <td>NaN</td>\n",
       "      <td>Cash loans</td>\n",
       "      <td>0.0086</td>\n",
       "      <td>0.0126</td>\n",
       "      <td>Y</td>\n",
       "      <td>Unaccompanied</td>\n",
       "    </tr>\n",
       "    <tr>\n",
       "      <th>456255</th>\n",
       "      <td>0.734460</td>\n",
       "      <td>0.113922</td>\n",
       "      <td>675000.0</td>\n",
       "      <td>-16856</td>\n",
       "      <td>49117.5</td>\n",
       "      <td>675000.0</td>\n",
       "      <td>0.708569</td>\n",
       "      <td>-410</td>\n",
       "      <td>-1262</td>\n",
       "      <td>-787.0</td>\n",
       "      <td>-5128.0</td>\n",
       "      <td>157500.000</td>\n",
       "      <td>0.046220</td>\n",
       "      <td>20</td>\n",
       "      <td>NaN</td>\n",
       "      <td>Cash loans</td>\n",
       "      <td>0.0718</td>\n",
       "      <td>0.0756</td>\n",
       "      <td>N</td>\n",
       "      <td>Unaccompanied</td>\n",
       "    </tr>\n",
       "  </tbody>\n",
       "</table>\n",
       "<p>307511 rows × 20 columns</p>\n",
       "</div>"
      ],
      "text/plain": [
       "            EXT_SOURCE_1  EXT_SOURCE_3  AMT_CREDIT  DAYS_BIRTH  AMT_ANNUITY  \\\n",
       "SK_ID_CURR                                                                    \n",
       "100002          0.083037      0.139376    406597.5       -9461      24700.5   \n",
       "100003          0.311267           NaN   1293502.5      -16765      35698.5   \n",
       "100004               NaN      0.729567    135000.0      -19046       6750.0   \n",
       "100006               NaN           NaN    312682.5      -19005      29686.5   \n",
       "100007               NaN           NaN    513000.0      -19932      21865.5   \n",
       "100008               NaN      0.621226    490495.5      -16941      27517.5   \n",
       "100009          0.774761      0.492060   1560726.0      -13778      41301.0   \n",
       "100010               NaN      0.540654   1530000.0      -18850      42075.0   \n",
       "100011          0.587334      0.751724   1019610.0      -20099      33826.5   \n",
       "100012               NaN           NaN    405000.0      -14469      20250.0   \n",
       "100014          0.319760      0.363945    652500.0      -10197      21177.0   \n",
       "100015          0.722044      0.652897    148365.0      -20417      10678.5   \n",
       "100016          0.464831      0.176653     80865.0      -13439       5881.5   \n",
       "100017               NaN      0.770087    918468.0      -14086      28966.5   \n",
       "100018          0.721940           NaN    773680.5      -14583      32778.0   \n",
       "100019          0.115634      0.678568    299772.0       -8728      20160.0   \n",
       "100020               NaN      0.062103    509602.5      -12931      26149.5   \n",
       "100021               NaN           NaN    270000.0       -9776      13500.0   \n",
       "100022               NaN      0.556727    157500.0      -17718       7875.0   \n",
       "100023               NaN      0.477649    544491.0      -11348      17563.5   \n",
       "100024          0.565655           NaN    427500.0      -18252      21375.0   \n",
       "100025          0.437709      0.542445   1132573.5      -14815      37561.5   \n",
       "100026               NaN      0.358951    497520.0      -11146      32521.5   \n",
       "100027               NaN      0.669057    239850.0      -24827      23850.0   \n",
       "100029               NaN      0.565608    247500.0      -11286      12703.5   \n",
       "100030          0.561948      0.461482    225000.0      -19334      11074.5   \n",
       "100031               NaN      0.190706    979992.0      -18724      27076.5   \n",
       "100032               NaN      0.659406    327024.0      -15948      23827.5   \n",
       "100033          0.600396      0.524496    790830.0       -9994      57676.5   \n",
       "100034          0.297914           NaN    180000.0      -10341       9000.0   \n",
       "...                  ...           ...         ...         ...          ...   \n",
       "456225               NaN      0.511892    297000.0      -20644      19975.5   \n",
       "456226          0.470808      0.394495    500566.5      -14106      34969.5   \n",
       "456227               NaN      0.520898    247275.0      -24911      16479.0   \n",
       "456228               NaN           NaN    545040.0      -12847      35617.5   \n",
       "456229          0.426391      0.865896    180000.0      -11973       9000.0   \n",
       "456230               NaN      0.199771    355536.0      -16010      18283.5   \n",
       "456231               NaN      0.255332   1071909.0      -23125      31473.0   \n",
       "456232          0.479458      0.529890    135000.0      -10092      13351.5   \n",
       "456233               NaN      0.397946    521280.0      -16471      23089.5   \n",
       "456234          0.245623      0.495666    135000.0       -9874       9148.5   \n",
       "456235          0.532858      0.716570   1078200.0      -10976      31522.5   \n",
       "456236               NaN      0.365617   1575000.0      -20965      43443.0   \n",
       "456237               NaN      0.728141    946764.0      -17533      37678.5   \n",
       "456238          0.531969      0.511892    479700.0      -14958      46858.5   \n",
       "456239               NaN      0.597192    808650.0      -20922      23773.5   \n",
       "456240          0.644797      0.486653    337500.0      -17345      16875.0   \n",
       "456241          0.251096      0.524496    270126.0      -16679      12028.5   \n",
       "456242               NaN      0.406617   1312110.0      -19102      52168.5   \n",
       "456243          0.665343      0.206779    225000.0      -16988      12694.5   \n",
       "456244          0.896042      0.337673   1303812.0      -20390      35982.0   \n",
       "456245               NaN           NaN    269550.0      -12961      11871.0   \n",
       "456246               NaN      0.735221    225000.0      -16063      10620.0   \n",
       "456247          0.243466      0.609276    345510.0      -11870      17770.5   \n",
       "456248               NaN           NaN    331920.0      -16705      16096.5   \n",
       "456249               NaN      0.742182    225000.0      -24384      22050.0   \n",
       "456251          0.145570           NaN    254700.0       -9327      27558.0   \n",
       "456252               NaN           NaN    269550.0      -20775      12001.5   \n",
       "456253          0.744026      0.218859    677664.0      -14966      29979.0   \n",
       "456254               NaN      0.661024    370107.0      -11961      20205.0   \n",
       "456255          0.734460      0.113922    675000.0      -16856      49117.5   \n",
       "\n",
       "            AMT_GOODS_PRICE  EXT_SOURCE_2  DAYS_ID_PUBLISH  DAYS_EMPLOYED  \\\n",
       "SK_ID_CURR                                                                  \n",
       "100002             351000.0      0.262949            -2120           -637   \n",
       "100003            1129500.0      0.622246             -291          -1188   \n",
       "100004             135000.0      0.555912            -2531           -225   \n",
       "100006             297000.0      0.650442            -2437          -3039   \n",
       "100007             513000.0      0.322738            -3458          -3038   \n",
       "100008             454500.0      0.354225             -477          -1588   \n",
       "100009            1395000.0      0.724000             -619          -3130   \n",
       "100010            1530000.0      0.714279            -2379           -449   \n",
       "100011             913500.0      0.205747            -3514         365243   \n",
       "100012             405000.0      0.746644            -3992          -2019   \n",
       "100014             652500.0      0.651862             -738           -679   \n",
       "100015             135000.0      0.555183            -2512         365243   \n",
       "100016              67500.0      0.715042            -3227          -2717   \n",
       "100017             697500.0      0.566907            -4911          -3028   \n",
       "100018             679500.0      0.642656            -2056           -203   \n",
       "100019             247500.0      0.346634            -1368          -1157   \n",
       "100020             387000.0      0.236378            -3866          -1317   \n",
       "100021             270000.0      0.683513            -2427           -191   \n",
       "100022             157500.0      0.706428            -1259          -7804   \n",
       "100023             454500.0      0.586617            -3964          -2038   \n",
       "100024             427500.0      0.113375            -1800          -4286   \n",
       "100025             927000.0      0.233767            -2299          -1652   \n",
       "100026             450000.0      0.457143            -2518          -4306   \n",
       "100027             225000.0      0.624305            -3684         365243   \n",
       "100029             247500.0      0.786179            -3729           -746   \n",
       "100030             225000.0      0.651406            -2893          -3494   \n",
       "100031             702000.0      0.548477            -1827          -2628   \n",
       "100032             270000.0      0.541124            -3153          -1234   \n",
       "100033             675000.0      0.685011            -2661          -1796   \n",
       "100034             180000.0      0.502779            -3015          -1010   \n",
       "...                     ...           ...              ...            ...   \n",
       "456225             297000.0      0.713524            -3832          -3147   \n",
       "456226             472500.0      0.737905             -933           -226   \n",
       "456227             225000.0      0.589906            -4213         365243   \n",
       "456228             450000.0      0.739703              -35           -328   \n",
       "456229             180000.0      0.702403             -626           -670   \n",
       "456230             270000.0      0.661025            -4392          -1185   \n",
       "456231             936000.0      0.307082            -4115         365243   \n",
       "456232             135000.0      0.619662            -2783          -1218   \n",
       "456233             450000.0      0.615261               -9           -286   \n",
       "456234             135000.0      0.378421            -2557          -1928   \n",
       "456235             900000.0      0.561158            -3369          -1953   \n",
       "456236            1575000.0      0.599173            -4410          -1618   \n",
       "456237             765000.0      0.424683            -1094          -2306   \n",
       "456238             450000.0      0.699727            -4519          -6573   \n",
       "456239             675000.0      0.267834            -4440          -7438   \n",
       "456240             337500.0      0.512081             -876          -2178   \n",
       "456241             193500.0      0.651306             -222          -1222   \n",
       "456242            1125000.0      0.746259            -2650          -3689   \n",
       "456243             225000.0      0.649123             -509          -8694   \n",
       "456244            1138500.0      0.789389            -3906          -5326   \n",
       "456245             225000.0      0.575481            -3780          -1046   \n",
       "456246             225000.0      0.313334            -4531          -8736   \n",
       "456247             247500.0      0.501221            -3936           -399   \n",
       "456248             225000.0      0.530725             -259          -7258   \n",
       "456249             225000.0      0.346391            -2357         365243   \n",
       "456251             225000.0      0.681632            -1982           -236   \n",
       "456252             225000.0      0.115992            -4090         365243   \n",
       "456253             585000.0      0.535722            -5150          -7921   \n",
       "456254             319500.0      0.514163             -931          -4786   \n",
       "456255             675000.0      0.708569             -410          -1262   \n",
       "\n",
       "            DAYS_LAST_PHONE_CHANGE  DAYS_REGISTRATION  AMT_INCOME_TOTAL  \\\n",
       "SK_ID_CURR                                                                \n",
       "100002                     -1134.0            -3648.0        202500.000   \n",
       "100003                      -828.0            -1186.0        270000.000   \n",
       "100004                      -815.0            -4260.0         67500.000   \n",
       "100006                      -617.0            -9833.0        135000.000   \n",
       "100007                     -1106.0            -4311.0        121500.000   \n",
       "100008                     -2536.0            -4970.0         99000.000   \n",
       "100009                     -1562.0            -1213.0        171000.000   \n",
       "100010                     -1070.0            -4597.0        360000.000   \n",
       "100011                         0.0            -7427.0        112500.000   \n",
       "100012                     -1673.0           -14437.0        135000.000   \n",
       "100014                      -844.0            -4427.0        112500.000   \n",
       "100015                     -2396.0            -5246.0         38419.155   \n",
       "100016                     -2370.0             -311.0         67500.000   \n",
       "100017                        -4.0             -643.0        225000.000   \n",
       "100018                      -188.0             -615.0        189000.000   \n",
       "100019                      -925.0            -3494.0        157500.000   \n",
       "100020                        -3.0            -6392.0        108000.000   \n",
       "100021                     -2811.0            -4143.0         81000.000   \n",
       "100022                      -239.0            -8751.0        112500.000   \n",
       "100023                     -1850.0            -1021.0         90000.000   \n",
       "100024                      -296.0             -298.0        135000.000   \n",
       "100025                         0.0            -2299.0        202500.000   \n",
       "100026                      -468.0             -114.0        450000.000   \n",
       "100027                      -795.0            -9012.0         83250.000   \n",
       "100029                        -4.0             -108.0        135000.000   \n",
       "100030                         0.0            -2419.0         90000.000   \n",
       "100031                      -161.0            -6573.0        112500.000   \n",
       "100032                        -2.0            -5782.0        112500.000   \n",
       "100033                      -849.0            -4668.0        270000.000   \n",
       "100034                      -599.0            -4799.0         90000.000   \n",
       "...                            ...                ...               ...   \n",
       "456225                     -2941.0            -8921.0        225000.000   \n",
       "456226                      -611.0            -2463.0        225000.000   \n",
       "456227                     -1775.0           -11211.0         99000.000   \n",
       "456228                     -1578.0            -2531.0        540000.000   \n",
       "456229                      -336.0            -1926.0        270000.000   \n",
       "456230                         0.0            -5034.0        292500.000   \n",
       "456231                      -846.0            -5485.0        117000.000   \n",
       "456232                      -610.0            -4158.0        157500.000   \n",
       "456233                      -307.0            -8291.0        225000.000   \n",
       "456234                      -439.0            -9445.0         81000.000   \n",
       "456235                     -1357.0            -5048.0         90000.000   \n",
       "456236                         0.0            -1764.0        585000.000   \n",
       "456237                      -249.0            -5032.0        135000.000   \n",
       "456238                      -367.0            -1438.0        270000.000   \n",
       "456239                     -2919.0            -9596.0        180000.000   \n",
       "456240                      -826.0            -4262.0        360000.000   \n",
       "456241                     -1344.0            -1916.0        180000.000   \n",
       "456242                      -734.0             -746.0        198000.000   \n",
       "456243                     -1511.0            -5396.0         81000.000   \n",
       "456244                     -1459.0             -157.0        261000.000   \n",
       "456245                      -448.0            -1398.0         81000.000   \n",
       "456246                     -1516.0            -8672.0         94500.000   \n",
       "456247                     -2315.0             -675.0        112500.000   \n",
       "456248                         0.0            -9798.0        153000.000   \n",
       "456249                         0.0            -7369.0        112500.000   \n",
       "456251                      -273.0            -8456.0        157500.000   \n",
       "456252                         0.0            -4388.0         72000.000   \n",
       "456253                     -1909.0            -6737.0        153000.000   \n",
       "456254                      -322.0            -2562.0        171000.000   \n",
       "456255                      -787.0            -5128.0        157500.000   \n",
       "\n",
       "            REGION_POPULATION_RELATIVE  HOUR_APPR_PROCESS_START  OWN_CAR_AGE  \\\n",
       "SK_ID_CURR                                                                     \n",
       "100002                        0.018801                       10          NaN   \n",
       "100003                        0.003541                       11          NaN   \n",
       "100004                        0.010032                        9         26.0   \n",
       "100006                        0.008019                       17          NaN   \n",
       "100007                        0.028663                       11          NaN   \n",
       "100008                        0.035792                       16          NaN   \n",
       "100009                        0.035792                       16         17.0   \n",
       "100010                        0.003122                       16          8.0   \n",
       "100011                        0.018634                       14          NaN   \n",
       "100012                        0.019689                        8          NaN   \n",
       "100014                        0.022800                       15          NaN   \n",
       "100015                        0.015221                        7          NaN   \n",
       "100016                        0.031329                       10          NaN   \n",
       "100017                        0.016612                       13         23.0   \n",
       "100018                        0.010006                        9          NaN   \n",
       "100019                        0.020713                        6         17.0   \n",
       "100020                        0.018634                       12          NaN   \n",
       "100021                        0.010966                       10          NaN   \n",
       "100022                        0.046220                       13          NaN   \n",
       "100023                        0.015221                       12          NaN   \n",
       "100024                        0.015221                       13          7.0   \n",
       "100025                        0.025164                        9         14.0   \n",
       "100026                        0.020713                        6          NaN   \n",
       "100027                        0.006296                       12          NaN   \n",
       "100029                        0.026392                       14          7.0   \n",
       "100030                        0.028663                        8          NaN   \n",
       "100031                        0.018029                        9          NaN   \n",
       "100032                        0.019101                       10          NaN   \n",
       "100033                        0.046220                       11          1.0   \n",
       "100034                        0.030755                       16          NaN   \n",
       "...                                ...                      ...          ...   \n",
       "456225                        0.008575                       15          NaN   \n",
       "456226                        0.031329                       15         11.0   \n",
       "456227                        0.007330                       12          NaN   \n",
       "456228                        0.032561                       13          1.0   \n",
       "456229                        0.003813                       18          NaN   \n",
       "456230                        0.072508                       17          9.0   \n",
       "456231                        0.010147                       10          NaN   \n",
       "456232                        0.004960                       18          NaN   \n",
       "456233                        0.014464                        5          NaN   \n",
       "456234                        0.010147                       12          NaN   \n",
       "456235                        0.019101                       10         15.0   \n",
       "456236                        0.028663                       10          2.0   \n",
       "456237                        0.019689                       12          NaN   \n",
       "456238                        0.035792                        9         15.0   \n",
       "456239                        0.025164                       14          2.0   \n",
       "456240                        0.004960                       13          NaN   \n",
       "456241                        0.007020                       13          0.0   \n",
       "456242                        0.072508                       10         10.0   \n",
       "456243                        0.007020                       15          NaN   \n",
       "456244                        0.031329                       10          NaN   \n",
       "456245                        0.009175                       14          NaN   \n",
       "456246                        0.010966                       16          NaN   \n",
       "456247                        0.022800                       11          NaN   \n",
       "456248                        0.022625                       11          NaN   \n",
       "456249                        0.022800                       15          NaN   \n",
       "456251                        0.032561                       15          NaN   \n",
       "456252                        0.025164                        8          NaN   \n",
       "456253                        0.005002                        9          NaN   \n",
       "456254                        0.005313                        9          NaN   \n",
       "456255                        0.046220                       20          NaN   \n",
       "\n",
       "           NAME_CONTRACT_TYPE  TOTALAREA_MODE  APARTMENTS_MODE  \\\n",
       "SK_ID_CURR                                                       \n",
       "100002             Cash loans          0.0149           0.0252   \n",
       "100003             Cash loans          0.0714           0.0924   \n",
       "100004        Revolving loans             NaN              NaN   \n",
       "100006             Cash loans             NaN              NaN   \n",
       "100007             Cash loans             NaN              NaN   \n",
       "100008             Cash loans             NaN              NaN   \n",
       "100009             Cash loans             NaN              NaN   \n",
       "100010             Cash loans             NaN              NaN   \n",
       "100011             Cash loans             NaN              NaN   \n",
       "100012        Revolving loans             NaN              NaN   \n",
       "100014             Cash loans             NaN              NaN   \n",
       "100015             Cash loans             NaN              NaN   \n",
       "100016             Cash loans          0.0612           0.0840   \n",
       "100017             Cash loans          0.1417           0.1502   \n",
       "100018             Cash loans          0.3811           0.3561   \n",
       "100019             Cash loans             NaN              NaN   \n",
       "100020             Cash loans             NaN              NaN   \n",
       "100021        Revolving loans             NaN              NaN   \n",
       "100022        Revolving loans          0.0238           0.0284   \n",
       "100023             Cash loans             NaN              NaN   \n",
       "100024        Revolving loans          0.0530           0.0735   \n",
       "100025             Cash loans             NaN              NaN   \n",
       "100026             Cash loans          0.0696           0.0924   \n",
       "100027             Cash loans          0.1640           0.1261   \n",
       "100029             Cash loans          0.0967           0.1460   \n",
       "100030             Cash loans          0.0533           0.0735   \n",
       "100031             Cash loans          0.0085           0.0168   \n",
       "100032             Cash loans             NaN              NaN   \n",
       "100033             Cash loans             NaN              NaN   \n",
       "100034        Revolving loans          0.1227           0.1534   \n",
       "...                       ...             ...              ...   \n",
       "456225             Cash loans             NaN              NaN   \n",
       "456226             Cash loans          0.0272           0.0399   \n",
       "456227             Cash loans          0.0067           0.0084   \n",
       "456228             Cash loans             NaN              NaN   \n",
       "456229        Revolving loans             NaN              NaN   \n",
       "456230             Cash loans          0.1976           0.2006   \n",
       "456231             Cash loans             NaN              NaN   \n",
       "456232             Cash loans          0.0407              NaN   \n",
       "456233             Cash loans          0.0024           0.0116   \n",
       "456234             Cash loans             NaN              NaN   \n",
       "456235             Cash loans             NaN              NaN   \n",
       "456236             Cash loans             NaN              NaN   \n",
       "456237             Cash loans             NaN              NaN   \n",
       "456238             Cash loans             NaN              NaN   \n",
       "456239             Cash loans          0.0700           0.0756   \n",
       "456240        Revolving loans             NaN              NaN   \n",
       "456241             Cash loans             NaN              NaN   \n",
       "456242             Cash loans          0.1778           0.2101   \n",
       "456243             Cash loans             NaN              NaN   \n",
       "456244             Cash loans          0.0890           0.1324   \n",
       "456245             Cash loans          0.0149           0.0399   \n",
       "456246             Cash loans             NaN              NaN   \n",
       "456247             Cash loans             NaN              NaN   \n",
       "456248             Cash loans             NaN              NaN   \n",
       "456249             Cash loans          0.2611           0.2248   \n",
       "456251             Cash loans          0.2898           0.1008   \n",
       "456252             Cash loans          0.0214           0.0252   \n",
       "456253             Cash loans          0.7970           0.1050   \n",
       "456254             Cash loans          0.0086           0.0126   \n",
       "456255             Cash loans          0.0718           0.0756   \n",
       "\n",
       "           FLAG_OWN_REALTY  NAME_TYPE_SUITE  \n",
       "SK_ID_CURR                                   \n",
       "100002                   Y    Unaccompanied  \n",
       "100003                   N           Family  \n",
       "100004                   Y    Unaccompanied  \n",
       "100006                   Y    Unaccompanied  \n",
       "100007                   Y    Unaccompanied  \n",
       "100008                   Y  Spouse, partner  \n",
       "100009                   Y    Unaccompanied  \n",
       "100010                   Y    Unaccompanied  \n",
       "100011                   Y         Children  \n",
       "100012                   Y    Unaccompanied  \n",
       "100014                   Y    Unaccompanied  \n",
       "100015                   Y         Children  \n",
       "100016                   Y    Unaccompanied  \n",
       "100017                   N    Unaccompanied  \n",
       "100018                   Y    Unaccompanied  \n",
       "100019                   Y           Family  \n",
       "100020                   N    Unaccompanied  \n",
       "100021                   Y    Unaccompanied  \n",
       "100022                   Y          Other_A  \n",
       "100023                   Y    Unaccompanied  \n",
       "100024                   Y    Unaccompanied  \n",
       "100025                   Y    Unaccompanied  \n",
       "100026                   N    Unaccompanied  \n",
       "100027                   Y    Unaccompanied  \n",
       "100029                   N    Unaccompanied  \n",
       "100030                   Y    Unaccompanied  \n",
       "100031                   Y    Unaccompanied  \n",
       "100032                   Y           Family  \n",
       "100033                   Y    Unaccompanied  \n",
       "100034                   Y    Unaccompanied  \n",
       "...                    ...              ...  \n",
       "456225                   Y           Family  \n",
       "456226                   Y    Unaccompanied  \n",
       "456227                   Y    Unaccompanied  \n",
       "456228                   N    Unaccompanied  \n",
       "456229                   Y           Family  \n",
       "456230                   Y    Unaccompanied  \n",
       "456231                   Y    Unaccompanied  \n",
       "456232                   N    Unaccompanied  \n",
       "456233                   Y    Unaccompanied  \n",
       "456234                   Y    Unaccompanied  \n",
       "456235                   Y    Unaccompanied  \n",
       "456236                   Y    Unaccompanied  \n",
       "456237                   Y    Unaccompanied  \n",
       "456238                   N           Family  \n",
       "456239                   N    Unaccompanied  \n",
       "456240                   N           Family  \n",
       "456241                   Y    Unaccompanied  \n",
       "456242                   Y    Unaccompanied  \n",
       "456243                   Y    Unaccompanied  \n",
       "456244                   Y    Unaccompanied  \n",
       "456245                   Y    Unaccompanied  \n",
       "456246                   Y    Unaccompanied  \n",
       "456247                   Y    Unaccompanied  \n",
       "456248                   Y    Unaccompanied  \n",
       "456249                   Y    Unaccompanied  \n",
       "456251                   N    Unaccompanied  \n",
       "456252                   Y    Unaccompanied  \n",
       "456253                   Y    Unaccompanied  \n",
       "456254                   Y    Unaccompanied  \n",
       "456255                   N    Unaccompanied  \n",
       "\n",
       "[307511 rows x 20 columns]"
      ]
     },
     "execution_count": 110,
     "metadata": {},
     "output_type": "execute_result"
    }
   ],
   "source": [
    "data[to_plot_lgb['Feature'][:20]]"
   ]
  },
  {
   "cell_type": "code",
   "execution_count": 111,
   "metadata": {},
   "outputs": [],
   "source": [
    "cat = ['NAME_CONTRACT_TYPE', 'FLAG_OWN_REALTY', 'NAME_TYPE_SUITE']"
   ]
  },
  {
   "cell_type": "code",
   "execution_count": 123,
   "metadata": {},
   "outputs": [],
   "source": [
    "num = to_plot_lgb['Feature'][:20][~to_plot_lgb['Feature'][:20].isin(cat)].values"
   ]
  },
  {
   "cell_type": "code",
   "execution_count": 120,
   "metadata": {},
   "outputs": [],
   "source": [
    "cat_imp = SimpleImputer(strategy='most_frequent')\n",
    "num_imp = SimpleImputer(strategy='mean')"
   ]
  },
  {
   "cell_type": "code",
   "execution_count": 121,
   "metadata": {},
   "outputs": [],
   "source": [
    "train, test = train_test_split(data, test_size=0.3, random_state=0)"
   ]
  },
  {
   "cell_type": "code",
   "execution_count": 124,
   "metadata": {},
   "outputs": [],
   "source": [
    "train_cat = cat_imp.fit_transform(train[cat])\n",
    "train_num = num_imp.fit_transform(train[num])\n",
    "\n",
    "test_cat = cat_imp.transform(test[cat])\n",
    "test_num = num_imp.transform(test[num])"
   ]
  },
  {
   "cell_type": "code",
   "execution_count": 128,
   "metadata": {},
   "outputs": [],
   "source": [
    "ohe = OneHotEncoder(handle_unknown='ignore')\n",
    "std = StandardScaler()"
   ]
  },
  {
   "cell_type": "code",
   "execution_count": 129,
   "metadata": {},
   "outputs": [],
   "source": [
    "train_cat = ohe.fit_transform(train_cat)\n",
    "train_num = std.fit_transform(train_num)\n",
    "\n",
    "test_cat = ohe.transform(test_cat)\n",
    "test_num = std.transform(test_num)"
   ]
  },
  {
   "cell_type": "code",
   "execution_count": 131,
   "metadata": {},
   "outputs": [],
   "source": [
    "train = hstack((train_cat, train_num))\n",
    "test = hstack((test_cat, test_num))"
   ]
  },
  {
   "cell_type": "code",
   "execution_count": 135,
   "metadata": {},
   "outputs": [
    {
     "name": "stderr",
     "output_type": "stream",
     "text": [
      "/home/neeveermoree/anaconda3/envs/myenv/lib/python3.7/site-packages/lightgbm/basic.py:469: UserWarning: Converting data to scipy sparse matrix.\n",
      "  warnings.warn('Converting data to scipy sparse matrix.')\n"
     ]
    },
    {
     "data": {
      "text/plain": [
       "0.22755075680357686"
      ]
     },
     "execution_count": 135,
     "metadata": {},
     "output_type": "execute_result"
    }
   ],
   "source": [
    "lgb.fit(train, y_train)\n",
    "average_precision_score(y_test, lgb.predict_proba(test)[:, 1])"
   ]
  },
  {
   "cell_type": "code",
   "execution_count": 138,
   "metadata": {},
   "outputs": [
    {
     "data": {
      "text/plain": [
       "0.22817617934032375"
      ]
     },
     "execution_count": 138,
     "metadata": {},
     "output_type": "execute_result"
    }
   ],
   "source": [
    "ctb.fit(train.toarray(), y_train)\n",
    "average_precision_score(y_test, ctb.predict_proba(test.toarray())[:, 1])"
   ]
  },
  {
   "cell_type": "markdown",
   "metadata": {},
   "source": [
    "#### Качество упало незаметно по отношению к тому количеству данных, которое было убрано из первоначальной выборки, так как малозначащие признаки редко используются моделями для построений разбиений деревьев."
   ]
  },
  {
   "cell_type": "markdown",
   "metadata": {},
   "source": [
    "__Задание 7. (0.001 балла)__\n",
    "\n",
    "Приложите ссылку на любимое короткое видео на YouTube, чтобы поднять проверяющему настроение."
   ]
  },
  {
   "cell_type": "markdown",
   "metadata": {},
   "source": [
    "https://vk.com/video?q=taylor%20swift%20troubles&z=video20146525_171448601\n",
    "Не ютуб, но оно того стоит."
   ]
  }
 ],
 "metadata": {
  "kernelspec": {
   "display_name": "Python 3",
   "language": "python",
   "name": "python3"
  },
  "language_info": {
   "codemirror_mode": {
    "name": "ipython",
    "version": 3
   },
   "file_extension": ".py",
   "mimetype": "text/x-python",
   "name": "python",
   "nbconvert_exporter": "python",
   "pygments_lexer": "ipython3",
   "version": "3.7.1"
  }
 },
 "nbformat": 4,
 "nbformat_minor": 2
}
