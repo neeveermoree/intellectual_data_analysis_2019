{
 "cells": [
  {
   "cell_type": "markdown",
   "metadata": {},
   "source": [
    "## Введение в анализ данных, ИАД-1\n",
    "\n",
    "## НИУ ВШЭ, 2018-19 учебный год"
   ]
  },
  {
   "cell_type": "markdown",
   "metadata": {},
   "source": [
    "### Домашнее задание №2"
   ]
  },
  {
   "cell_type": "markdown",
   "metadata": {},
   "source": [
    "Задание выполнил(а): Ханаев Антон"
   ]
  },
  {
   "cell_type": "markdown",
   "metadata": {},
   "source": [
    "### Общая информация"
   ]
  },
  {
   "cell_type": "markdown",
   "metadata": {},
   "source": [
    "__Дата выдачи:__ 25.02.2019\n",
    "\n",
    "__Дедлайн:__ 23:59 5.03.2019"
   ]
  },
  {
   "cell_type": "markdown",
   "metadata": {},
   "source": [
    "### О задании"
   ]
  },
  {
   "cell_type": "markdown",
   "metadata": {},
   "source": [
    "В данном домашнем задании вы реализуете линейную регрессию своими руками и сравните её с версией в scikit-learn."
   ]
  },
  {
   "cell_type": "markdown",
   "metadata": {},
   "source": [
    "### Оценивание и штрафы\n",
    "\n",
    "За сдачу задания позже срока на итоговую оценку за задание накладывается штраф в размере 1 балл в день, но получить отрицательную оценку нельзя."
   ]
  },
  {
   "cell_type": "markdown",
   "metadata": {},
   "source": [
    "__Внимание!__ Домашнее задание выполняется самостоятельно. «Похожие» решения считаются плагиатом и все задействованные студенты (в том числе те, у кого списали) не могут получить за него больше 0 баллов."
   ]
  },
  {
   "cell_type": "markdown",
   "metadata": {},
   "source": [
    "### Формат сдачи"
   ]
  },
  {
   "cell_type": "markdown",
   "metadata": {},
   "source": [
    "__Стирать условия нельзя!__\n",
    "\n",
    "Загрузка файлов с решениями происходит в системе [Anytask](https://anytask.org/).\n",
    "\n",
    "Формат названия файла: homework_02_Фамилия_Имя.ipynb"
   ]
  },
  {
   "cell_type": "markdown",
   "metadata": {},
   "source": [
    "## Часть 1. Обыкновенная линейная регрессия"
   ]
  },
  {
   "cell_type": "code",
   "execution_count": 1,
   "metadata": {},
   "outputs": [],
   "source": [
    "import numpy as np\n",
    "import pandas as pd"
   ]
  },
  {
   "cell_type": "markdown",
   "metadata": {},
   "source": [
    "### 1 (4 балла). \n",
    "На семинаре мы начали реализовывать класс линейной регрессии; теперь необходимо его закончить. "
   ]
  },
  {
   "cell_type": "code",
   "execution_count": 2,
   "metadata": {},
   "outputs": [],
   "source": [
    "class LinReg():\n",
    "    def __init__(self, step_size=0.1, num_steps=20, eps=1e-6):\n",
    "        self.w = None\n",
    "        self.bias_w = None\n",
    "        self.b = None\n",
    "        self.step_size = step_size\n",
    "        self.num_steps = num_steps\n",
    "        self.eps = eps\n",
    "        self.mse = 0\n",
    "        \n",
    "        \n",
    "    def __calc_grad(self, X_train, y_train):\n",
    "        # Одна итерация градиента\n",
    "        dot_product = np.dot(X_train, self.w) + self.bias_w[0]\n",
    "        each_instances_error = dot_product.T - y_train\n",
    "        self.mse = np.mean(each_instances_error ** 2, axis=0)\n",
    "        dw = np.dot(2 / X_train.shape[0] * X_train.T, each_instances_error)\n",
    "        db = 2 / X_train.shape[0] * each_instances_error\n",
    "        # Обновление весов\n",
    "        self.w -= self.step_size * dw\n",
    "        self.b -= self.step_size * db\n",
    "    \n",
    "    def fit(self, X_train, y_train):\n",
    "        # Инициализация весов\n",
    "        np.random.seed(42)\n",
    "        self.w = np.random.randn(X_train.shape[1])\n",
    "        self.b = np.ones(X_train.shape[0])\n",
    "        self.bias_w = np.zeros(1)\n",
    "        \n",
    "        difference = np.ones(1)\n",
    "        step_id = 0\n",
    "        current = 0\n",
    "        \n",
    "        # Собственно сам градиентный спуск\n",
    "        while (difference > self.eps).all() and step_id < self.num_steps:\n",
    "            previous = self.w.copy()\n",
    "            self.__calc_grad(X_train, y_train)\n",
    "            print('Epoch: {}\\nMSE: {}\\n'.format((step_id + 1), self.mse))\n",
    "            difference = np.abs(self.w - previous)\n",
    "            step_id += 1\n",
    "\n",
    "        \n",
    "    def predict(self, X_test):\n",
    "        return np.dot(X_test, self.w) + self.b[0]"
   ]
  },
  {
   "cell_type": "markdown",
   "metadata": {},
   "source": [
    "### 2 (3 балла). \n",
    "Проверим корректность работы класса на датасете Boston Housing. \n",
    "* Загрузите его из sklearn\n",
    "* Проведите предобработку данных(нормализация вещественных признаков, one-hot encoding категориальных)\n",
    "* Разделите на обучение и контроль в соотношении 80:20 с random_seed 42 (самый популярный в прошлом задании)\n",
    "* Обучите собственную реализацию регрессии и сравните по метрикам MAE и RMSE с LinearRegression из sklearn."
   ]
  },
  {
   "cell_type": "code",
   "execution_count": 3,
   "metadata": {},
   "outputs": [],
   "source": [
    "from sklearn.datasets import load_boston\n",
    "data = load_boston()"
   ]
  },
  {
   "cell_type": "code",
   "execution_count": 4,
   "metadata": {},
   "outputs": [],
   "source": [
    "feat_names = data['feature_names']\n",
    "target = data['target']\n",
    "df = pd.DataFrame(data['data'], columns=feat_names)"
   ]
  },
  {
   "cell_type": "code",
   "execution_count": 5,
   "metadata": {},
   "outputs": [
    {
     "data": {
      "text/plain": [
       "(506, 13)"
      ]
     },
     "execution_count": 5,
     "metadata": {},
     "output_type": "execute_result"
    }
   ],
   "source": [
    "df.shape"
   ]
  },
  {
   "cell_type": "code",
   "execution_count": 6,
   "metadata": {},
   "outputs": [
    {
     "data": {
      "text/html": [
       "<div>\n",
       "<style scoped>\n",
       "    .dataframe tbody tr th:only-of-type {\n",
       "        vertical-align: middle;\n",
       "    }\n",
       "\n",
       "    .dataframe tbody tr th {\n",
       "        vertical-align: top;\n",
       "    }\n",
       "\n",
       "    .dataframe thead th {\n",
       "        text-align: right;\n",
       "    }\n",
       "</style>\n",
       "<table border=\"1\" class=\"dataframe\">\n",
       "  <thead>\n",
       "    <tr style=\"text-align: right;\">\n",
       "      <th></th>\n",
       "      <th>CRIM</th>\n",
       "      <th>ZN</th>\n",
       "      <th>INDUS</th>\n",
       "      <th>CHAS</th>\n",
       "      <th>NOX</th>\n",
       "      <th>RM</th>\n",
       "      <th>AGE</th>\n",
       "      <th>DIS</th>\n",
       "      <th>RAD</th>\n",
       "      <th>TAX</th>\n",
       "      <th>PTRATIO</th>\n",
       "      <th>B</th>\n",
       "      <th>LSTAT</th>\n",
       "    </tr>\n",
       "  </thead>\n",
       "  <tbody>\n",
       "    <tr>\n",
       "      <th>count</th>\n",
       "      <td>506.000000</td>\n",
       "      <td>506.000000</td>\n",
       "      <td>506.000000</td>\n",
       "      <td>506.000000</td>\n",
       "      <td>506.000000</td>\n",
       "      <td>506.000000</td>\n",
       "      <td>506.000000</td>\n",
       "      <td>506.000000</td>\n",
       "      <td>506.000000</td>\n",
       "      <td>506.000000</td>\n",
       "      <td>506.000000</td>\n",
       "      <td>506.000000</td>\n",
       "      <td>506.000000</td>\n",
       "    </tr>\n",
       "    <tr>\n",
       "      <th>mean</th>\n",
       "      <td>3.613524</td>\n",
       "      <td>11.363636</td>\n",
       "      <td>11.136779</td>\n",
       "      <td>0.069170</td>\n",
       "      <td>0.554695</td>\n",
       "      <td>6.284634</td>\n",
       "      <td>68.574901</td>\n",
       "      <td>3.795043</td>\n",
       "      <td>9.549407</td>\n",
       "      <td>408.237154</td>\n",
       "      <td>18.455534</td>\n",
       "      <td>356.674032</td>\n",
       "      <td>12.653063</td>\n",
       "    </tr>\n",
       "    <tr>\n",
       "      <th>std</th>\n",
       "      <td>8.601545</td>\n",
       "      <td>23.322453</td>\n",
       "      <td>6.860353</td>\n",
       "      <td>0.253994</td>\n",
       "      <td>0.115878</td>\n",
       "      <td>0.702617</td>\n",
       "      <td>28.148861</td>\n",
       "      <td>2.105710</td>\n",
       "      <td>8.707259</td>\n",
       "      <td>168.537116</td>\n",
       "      <td>2.164946</td>\n",
       "      <td>91.294864</td>\n",
       "      <td>7.141062</td>\n",
       "    </tr>\n",
       "    <tr>\n",
       "      <th>min</th>\n",
       "      <td>0.006320</td>\n",
       "      <td>0.000000</td>\n",
       "      <td>0.460000</td>\n",
       "      <td>0.000000</td>\n",
       "      <td>0.385000</td>\n",
       "      <td>3.561000</td>\n",
       "      <td>2.900000</td>\n",
       "      <td>1.129600</td>\n",
       "      <td>1.000000</td>\n",
       "      <td>187.000000</td>\n",
       "      <td>12.600000</td>\n",
       "      <td>0.320000</td>\n",
       "      <td>1.730000</td>\n",
       "    </tr>\n",
       "    <tr>\n",
       "      <th>25%</th>\n",
       "      <td>0.082045</td>\n",
       "      <td>0.000000</td>\n",
       "      <td>5.190000</td>\n",
       "      <td>0.000000</td>\n",
       "      <td>0.449000</td>\n",
       "      <td>5.885500</td>\n",
       "      <td>45.025000</td>\n",
       "      <td>2.100175</td>\n",
       "      <td>4.000000</td>\n",
       "      <td>279.000000</td>\n",
       "      <td>17.400000</td>\n",
       "      <td>375.377500</td>\n",
       "      <td>6.950000</td>\n",
       "    </tr>\n",
       "    <tr>\n",
       "      <th>50%</th>\n",
       "      <td>0.256510</td>\n",
       "      <td>0.000000</td>\n",
       "      <td>9.690000</td>\n",
       "      <td>0.000000</td>\n",
       "      <td>0.538000</td>\n",
       "      <td>6.208500</td>\n",
       "      <td>77.500000</td>\n",
       "      <td>3.207450</td>\n",
       "      <td>5.000000</td>\n",
       "      <td>330.000000</td>\n",
       "      <td>19.050000</td>\n",
       "      <td>391.440000</td>\n",
       "      <td>11.360000</td>\n",
       "    </tr>\n",
       "    <tr>\n",
       "      <th>75%</th>\n",
       "      <td>3.677083</td>\n",
       "      <td>12.500000</td>\n",
       "      <td>18.100000</td>\n",
       "      <td>0.000000</td>\n",
       "      <td>0.624000</td>\n",
       "      <td>6.623500</td>\n",
       "      <td>94.075000</td>\n",
       "      <td>5.188425</td>\n",
       "      <td>24.000000</td>\n",
       "      <td>666.000000</td>\n",
       "      <td>20.200000</td>\n",
       "      <td>396.225000</td>\n",
       "      <td>16.955000</td>\n",
       "    </tr>\n",
       "    <tr>\n",
       "      <th>max</th>\n",
       "      <td>88.976200</td>\n",
       "      <td>100.000000</td>\n",
       "      <td>27.740000</td>\n",
       "      <td>1.000000</td>\n",
       "      <td>0.871000</td>\n",
       "      <td>8.780000</td>\n",
       "      <td>100.000000</td>\n",
       "      <td>12.126500</td>\n",
       "      <td>24.000000</td>\n",
       "      <td>711.000000</td>\n",
       "      <td>22.000000</td>\n",
       "      <td>396.900000</td>\n",
       "      <td>37.970000</td>\n",
       "    </tr>\n",
       "  </tbody>\n",
       "</table>\n",
       "</div>"
      ],
      "text/plain": [
       "             CRIM          ZN       INDUS        CHAS         NOX          RM  \\\n",
       "count  506.000000  506.000000  506.000000  506.000000  506.000000  506.000000   \n",
       "mean     3.613524   11.363636   11.136779    0.069170    0.554695    6.284634   \n",
       "std      8.601545   23.322453    6.860353    0.253994    0.115878    0.702617   \n",
       "min      0.006320    0.000000    0.460000    0.000000    0.385000    3.561000   \n",
       "25%      0.082045    0.000000    5.190000    0.000000    0.449000    5.885500   \n",
       "50%      0.256510    0.000000    9.690000    0.000000    0.538000    6.208500   \n",
       "75%      3.677083   12.500000   18.100000    0.000000    0.624000    6.623500   \n",
       "max     88.976200  100.000000   27.740000    1.000000    0.871000    8.780000   \n",
       "\n",
       "              AGE         DIS         RAD         TAX     PTRATIO           B  \\\n",
       "count  506.000000  506.000000  506.000000  506.000000  506.000000  506.000000   \n",
       "mean    68.574901    3.795043    9.549407  408.237154   18.455534  356.674032   \n",
       "std     28.148861    2.105710    8.707259  168.537116    2.164946   91.294864   \n",
       "min      2.900000    1.129600    1.000000  187.000000   12.600000    0.320000   \n",
       "25%     45.025000    2.100175    4.000000  279.000000   17.400000  375.377500   \n",
       "50%     77.500000    3.207450    5.000000  330.000000   19.050000  391.440000   \n",
       "75%     94.075000    5.188425   24.000000  666.000000   20.200000  396.225000   \n",
       "max    100.000000   12.126500   24.000000  711.000000   22.000000  396.900000   \n",
       "\n",
       "            LSTAT  \n",
       "count  506.000000  \n",
       "mean    12.653063  \n",
       "std      7.141062  \n",
       "min      1.730000  \n",
       "25%      6.950000  \n",
       "50%     11.360000  \n",
       "75%     16.955000  \n",
       "max     37.970000  "
      ]
     },
     "execution_count": 6,
     "metadata": {},
     "output_type": "execute_result"
    }
   ],
   "source": [
    "df.describe()"
   ]
  },
  {
   "cell_type": "code",
   "execution_count": 7,
   "metadata": {},
   "outputs": [
    {
     "name": "stdout",
     "output_type": "stream",
     "text": [
      "<class 'pandas.core.frame.DataFrame'>\n",
      "RangeIndex: 506 entries, 0 to 505\n",
      "Data columns (total 13 columns):\n",
      "CRIM       506 non-null float64\n",
      "ZN         506 non-null float64\n",
      "INDUS      506 non-null float64\n",
      "CHAS       506 non-null float64\n",
      "NOX        506 non-null float64\n",
      "RM         506 non-null float64\n",
      "AGE        506 non-null float64\n",
      "DIS        506 non-null float64\n",
      "RAD        506 non-null float64\n",
      "TAX        506 non-null float64\n",
      "PTRATIO    506 non-null float64\n",
      "B          506 non-null float64\n",
      "LSTAT      506 non-null float64\n",
      "dtypes: float64(13)\n",
      "memory usage: 51.5 KB\n"
     ]
    }
   ],
   "source": [
    "df.info()"
   ]
  },
  {
   "cell_type": "code",
   "execution_count": 8,
   "metadata": {},
   "outputs": [
    {
     "data": {
      "text/html": [
       "<div>\n",
       "<style scoped>\n",
       "    .dataframe tbody tr th:only-of-type {\n",
       "        vertical-align: middle;\n",
       "    }\n",
       "\n",
       "    .dataframe tbody tr th {\n",
       "        vertical-align: top;\n",
       "    }\n",
       "\n",
       "    .dataframe thead th {\n",
       "        text-align: right;\n",
       "    }\n",
       "</style>\n",
       "<table border=\"1\" class=\"dataframe\">\n",
       "  <thead>\n",
       "    <tr style=\"text-align: right;\">\n",
       "      <th></th>\n",
       "      <th>CRIM</th>\n",
       "      <th>ZN</th>\n",
       "      <th>INDUS</th>\n",
       "      <th>CHAS</th>\n",
       "      <th>NOX</th>\n",
       "      <th>RM</th>\n",
       "      <th>AGE</th>\n",
       "      <th>DIS</th>\n",
       "      <th>RAD</th>\n",
       "      <th>TAX</th>\n",
       "      <th>PTRATIO</th>\n",
       "      <th>B</th>\n",
       "      <th>LSTAT</th>\n",
       "    </tr>\n",
       "  </thead>\n",
       "  <tbody>\n",
       "    <tr>\n",
       "      <th>0</th>\n",
       "      <td>0.00632</td>\n",
       "      <td>18.0</td>\n",
       "      <td>2.31</td>\n",
       "      <td>0.0</td>\n",
       "      <td>0.538</td>\n",
       "      <td>6.575</td>\n",
       "      <td>65.2</td>\n",
       "      <td>4.0900</td>\n",
       "      <td>1.0</td>\n",
       "      <td>296.0</td>\n",
       "      <td>15.3</td>\n",
       "      <td>396.90</td>\n",
       "      <td>4.98</td>\n",
       "    </tr>\n",
       "    <tr>\n",
       "      <th>1</th>\n",
       "      <td>0.02731</td>\n",
       "      <td>0.0</td>\n",
       "      <td>7.07</td>\n",
       "      <td>0.0</td>\n",
       "      <td>0.469</td>\n",
       "      <td>6.421</td>\n",
       "      <td>78.9</td>\n",
       "      <td>4.9671</td>\n",
       "      <td>2.0</td>\n",
       "      <td>242.0</td>\n",
       "      <td>17.8</td>\n",
       "      <td>396.90</td>\n",
       "      <td>9.14</td>\n",
       "    </tr>\n",
       "    <tr>\n",
       "      <th>2</th>\n",
       "      <td>0.02729</td>\n",
       "      <td>0.0</td>\n",
       "      <td>7.07</td>\n",
       "      <td>0.0</td>\n",
       "      <td>0.469</td>\n",
       "      <td>7.185</td>\n",
       "      <td>61.1</td>\n",
       "      <td>4.9671</td>\n",
       "      <td>2.0</td>\n",
       "      <td>242.0</td>\n",
       "      <td>17.8</td>\n",
       "      <td>392.83</td>\n",
       "      <td>4.03</td>\n",
       "    </tr>\n",
       "    <tr>\n",
       "      <th>3</th>\n",
       "      <td>0.03237</td>\n",
       "      <td>0.0</td>\n",
       "      <td>2.18</td>\n",
       "      <td>0.0</td>\n",
       "      <td>0.458</td>\n",
       "      <td>6.998</td>\n",
       "      <td>45.8</td>\n",
       "      <td>6.0622</td>\n",
       "      <td>3.0</td>\n",
       "      <td>222.0</td>\n",
       "      <td>18.7</td>\n",
       "      <td>394.63</td>\n",
       "      <td>2.94</td>\n",
       "    </tr>\n",
       "    <tr>\n",
       "      <th>4</th>\n",
       "      <td>0.06905</td>\n",
       "      <td>0.0</td>\n",
       "      <td>2.18</td>\n",
       "      <td>0.0</td>\n",
       "      <td>0.458</td>\n",
       "      <td>7.147</td>\n",
       "      <td>54.2</td>\n",
       "      <td>6.0622</td>\n",
       "      <td>3.0</td>\n",
       "      <td>222.0</td>\n",
       "      <td>18.7</td>\n",
       "      <td>396.90</td>\n",
       "      <td>5.33</td>\n",
       "    </tr>\n",
       "  </tbody>\n",
       "</table>\n",
       "</div>"
      ],
      "text/plain": [
       "      CRIM    ZN  INDUS  CHAS    NOX     RM   AGE     DIS  RAD    TAX  \\\n",
       "0  0.00632  18.0   2.31   0.0  0.538  6.575  65.2  4.0900  1.0  296.0   \n",
       "1  0.02731   0.0   7.07   0.0  0.469  6.421  78.9  4.9671  2.0  242.0   \n",
       "2  0.02729   0.0   7.07   0.0  0.469  7.185  61.1  4.9671  2.0  242.0   \n",
       "3  0.03237   0.0   2.18   0.0  0.458  6.998  45.8  6.0622  3.0  222.0   \n",
       "4  0.06905   0.0   2.18   0.0  0.458  7.147  54.2  6.0622  3.0  222.0   \n",
       "\n",
       "   PTRATIO       B  LSTAT  \n",
       "0     15.3  396.90   4.98  \n",
       "1     17.8  396.90   9.14  \n",
       "2     17.8  392.83   4.03  \n",
       "3     18.7  394.63   2.94  \n",
       "4     18.7  396.90   5.33  "
      ]
     },
     "execution_count": 8,
     "metadata": {},
     "output_type": "execute_result"
    }
   ],
   "source": [
    "df.head()"
   ]
  },
  {
   "cell_type": "markdown",
   "metadata": {},
   "source": [
    "The only categorical feature: CHAS\n",
    "\n",
    "All others are numerical.\n",
    "Also, no nan values."
   ]
  },
  {
   "cell_type": "code",
   "execution_count": 9,
   "metadata": {},
   "outputs": [],
   "source": [
    "numerical_feat = feat_names[feat_names != 'CHAS']"
   ]
  },
  {
   "cell_type": "code",
   "execution_count": 10,
   "metadata": {},
   "outputs": [],
   "source": [
    "from sklearn.model_selection import train_test_split"
   ]
  },
  {
   "cell_type": "code",
   "execution_count": 11,
   "metadata": {},
   "outputs": [],
   "source": [
    "X_train_unprep, X_test_unprep, y_train, y_test = train_test_split(df, target, test_size=0.2, random_state=42)"
   ]
  },
  {
   "cell_type": "code",
   "execution_count": 12,
   "metadata": {},
   "outputs": [],
   "source": [
    "from sklearn.compose import ColumnTransformer\n",
    "from sklearn.preprocessing import OneHotEncoder\n",
    "from sklearn.preprocessing import StandardScaler"
   ]
  },
  {
   "cell_type": "code",
   "execution_count": 13,
   "metadata": {},
   "outputs": [
    {
     "name": "stderr",
     "output_type": "stream",
     "text": [
      "/home/neeveermoree/anaconda3/envs/myenv/lib/python3.7/site-packages/sklearn/preprocessing/_encoders.py:368: FutureWarning: The handling of integer data will change in version 0.22. Currently, the categories are determined based on the range [0, max(values)], while in the future they will be determined based on the unique values.\n",
      "If you want the future behaviour and silence this warning, you can specify \"categories='auto'\".\n",
      "In case you used a LabelEncoder before this OneHotEncoder to convert the categories to integers, then you can now use the OneHotEncoder directly.\n",
      "  warnings.warn(msg, FutureWarning)\n"
     ]
    }
   ],
   "source": [
    "transformer = ColumnTransformer(transformers=[\n",
    "    ('One hot', OneHotEncoder(), ['CHAS']),\n",
    "    ('Std scaler', StandardScaler(), numerical_feat)\n",
    "])\n",
    "X_train = transformer.fit_transform(X_train_unprep)\n",
    "X_test = transformer.transform(X_test_unprep)"
   ]
  },
  {
   "cell_type": "code",
   "execution_count": 14,
   "metadata": {},
   "outputs": [
    {
     "data": {
      "text/html": [
       "<div>\n",
       "<style scoped>\n",
       "    .dataframe tbody tr th:only-of-type {\n",
       "        vertical-align: middle;\n",
       "    }\n",
       "\n",
       "    .dataframe tbody tr th {\n",
       "        vertical-align: top;\n",
       "    }\n",
       "\n",
       "    .dataframe thead th {\n",
       "        text-align: right;\n",
       "    }\n",
       "</style>\n",
       "<table border=\"1\" class=\"dataframe\">\n",
       "  <thead>\n",
       "    <tr style=\"text-align: right;\">\n",
       "      <th></th>\n",
       "      <th>CRIM</th>\n",
       "      <th>ZN</th>\n",
       "      <th>INDUS</th>\n",
       "      <th>CHAS</th>\n",
       "      <th>NOX</th>\n",
       "      <th>RM</th>\n",
       "      <th>AGE</th>\n",
       "      <th>DIS</th>\n",
       "      <th>RAD</th>\n",
       "      <th>TAX</th>\n",
       "      <th>PTRATIO</th>\n",
       "      <th>B</th>\n",
       "      <th>LSTAT</th>\n",
       "    </tr>\n",
       "  </thead>\n",
       "  <tbody>\n",
       "    <tr>\n",
       "      <th>477</th>\n",
       "      <td>15.02340</td>\n",
       "      <td>0.0</td>\n",
       "      <td>18.10</td>\n",
       "      <td>0.0</td>\n",
       "      <td>0.6140</td>\n",
       "      <td>5.304</td>\n",
       "      <td>97.3</td>\n",
       "      <td>2.1007</td>\n",
       "      <td>24.0</td>\n",
       "      <td>666.0</td>\n",
       "      <td>20.2</td>\n",
       "      <td>349.48</td>\n",
       "      <td>24.91</td>\n",
       "    </tr>\n",
       "    <tr>\n",
       "      <th>15</th>\n",
       "      <td>0.62739</td>\n",
       "      <td>0.0</td>\n",
       "      <td>8.14</td>\n",
       "      <td>0.0</td>\n",
       "      <td>0.5380</td>\n",
       "      <td>5.834</td>\n",
       "      <td>56.5</td>\n",
       "      <td>4.4986</td>\n",
       "      <td>4.0</td>\n",
       "      <td>307.0</td>\n",
       "      <td>21.0</td>\n",
       "      <td>395.62</td>\n",
       "      <td>8.47</td>\n",
       "    </tr>\n",
       "    <tr>\n",
       "      <th>332</th>\n",
       "      <td>0.03466</td>\n",
       "      <td>35.0</td>\n",
       "      <td>6.06</td>\n",
       "      <td>0.0</td>\n",
       "      <td>0.4379</td>\n",
       "      <td>6.031</td>\n",
       "      <td>23.3</td>\n",
       "      <td>6.6407</td>\n",
       "      <td>1.0</td>\n",
       "      <td>304.0</td>\n",
       "      <td>16.9</td>\n",
       "      <td>362.25</td>\n",
       "      <td>7.83</td>\n",
       "    </tr>\n",
       "    <tr>\n",
       "      <th>423</th>\n",
       "      <td>7.05042</td>\n",
       "      <td>0.0</td>\n",
       "      <td>18.10</td>\n",
       "      <td>0.0</td>\n",
       "      <td>0.6140</td>\n",
       "      <td>6.103</td>\n",
       "      <td>85.1</td>\n",
       "      <td>2.0218</td>\n",
       "      <td>24.0</td>\n",
       "      <td>666.0</td>\n",
       "      <td>20.2</td>\n",
       "      <td>2.52</td>\n",
       "      <td>23.29</td>\n",
       "    </tr>\n",
       "    <tr>\n",
       "      <th>19</th>\n",
       "      <td>0.72580</td>\n",
       "      <td>0.0</td>\n",
       "      <td>8.14</td>\n",
       "      <td>0.0</td>\n",
       "      <td>0.5380</td>\n",
       "      <td>5.727</td>\n",
       "      <td>69.5</td>\n",
       "      <td>3.7965</td>\n",
       "      <td>4.0</td>\n",
       "      <td>307.0</td>\n",
       "      <td>21.0</td>\n",
       "      <td>390.95</td>\n",
       "      <td>11.28</td>\n",
       "    </tr>\n",
       "  </tbody>\n",
       "</table>\n",
       "</div>"
      ],
      "text/plain": [
       "         CRIM    ZN  INDUS  CHAS     NOX     RM   AGE     DIS   RAD    TAX  \\\n",
       "477  15.02340   0.0  18.10   0.0  0.6140  5.304  97.3  2.1007  24.0  666.0   \n",
       "15    0.62739   0.0   8.14   0.0  0.5380  5.834  56.5  4.4986   4.0  307.0   \n",
       "332   0.03466  35.0   6.06   0.0  0.4379  6.031  23.3  6.6407   1.0  304.0   \n",
       "423   7.05042   0.0  18.10   0.0  0.6140  6.103  85.1  2.0218  24.0  666.0   \n",
       "19    0.72580   0.0   8.14   0.0  0.5380  5.727  69.5  3.7965   4.0  307.0   \n",
       "\n",
       "     PTRATIO       B  LSTAT  \n",
       "477     20.2  349.48  24.91  \n",
       "15      21.0  395.62   8.47  \n",
       "332     16.9  362.25   7.83  \n",
       "423     20.2    2.52  23.29  \n",
       "19      21.0  390.95  11.28  "
      ]
     },
     "execution_count": 14,
     "metadata": {},
     "output_type": "execute_result"
    }
   ],
   "source": [
    "X_train_unprep.head()"
   ]
  },
  {
   "cell_type": "code",
   "execution_count": 15,
   "metadata": {
    "scrolled": true
   },
   "outputs": [
    {
     "name": "stdout",
     "output_type": "stream",
     "text": [
      "Epoch: 1\n",
      "MSE: 546.6450393062012\n",
      "\n",
      "Epoch: 2\n",
      "MSE: 380.3034459881084\n",
      "\n",
      "Epoch: 3\n",
      "MSE: 274.5976481024355\n",
      "\n",
      "Epoch: 4\n",
      "MSE: 203.79813627935144\n",
      "\n",
      "Epoch: 5\n",
      "MSE: 156.08776125859364\n",
      "\n",
      "Epoch: 6\n",
      "MSE: 123.8054153972342\n",
      "\n",
      "Epoch: 7\n",
      "MSE: 101.84594714054427\n",
      "\n",
      "Epoch: 8\n",
      "MSE: 86.80022026840992\n",
      "\n",
      "Epoch: 9\n",
      "MSE: 76.39049063674126\n",
      "\n",
      "Epoch: 10\n",
      "MSE: 69.0942223720245\n",
      "\n",
      "Epoch: 11\n",
      "MSE: 63.89315268866836\n",
      "\n",
      "Epoch: 12\n",
      "MSE: 60.10584885867003\n",
      "\n",
      "Epoch: 13\n",
      "MSE: 57.27594670575047\n",
      "\n",
      "Epoch: 14\n",
      "MSE: 55.0975335115384\n",
      "\n",
      "Epoch: 15\n",
      "MSE: 53.365315632879344\n",
      "\n",
      "Epoch: 16\n",
      "MSE: 51.94132784055641\n",
      "\n",
      "Epoch: 17\n",
      "MSE: 50.73268562892462\n",
      "\n",
      "Epoch: 18\n",
      "MSE: 49.676711550785875\n",
      "\n",
      "Epoch: 19\n",
      "MSE: 48.730986992782356\n",
      "\n",
      "Epoch: 20\n",
      "MSE: 47.86669488363812\n",
      "\n",
      "Epoch: 21\n",
      "MSE: 47.064161993192236\n",
      "\n",
      "Epoch: 22\n",
      "MSE: 46.309871962699276\n",
      "\n",
      "Epoch: 23\n",
      "MSE: 45.594462159838635\n",
      "\n",
      "Epoch: 24\n",
      "MSE: 44.91137898710845\n",
      "\n",
      "Epoch: 25\n",
      "MSE: 44.25597414257351\n",
      "\n",
      "Epoch: 26\n",
      "MSE: 43.62489638344835\n",
      "\n",
      "Epoch: 27\n",
      "MSE: 43.01568148255231\n",
      "\n",
      "Epoch: 28\n",
      "MSE: 42.42647524077235\n",
      "\n",
      "Epoch: 29\n",
      "MSE: 41.855845928306664\n",
      "\n",
      "Epoch: 30\n",
      "MSE: 41.30265691359428\n",
      "\n",
      "Epoch: 31\n",
      "MSE: 40.765979864962404\n",
      "\n",
      "Epoch: 32\n",
      "MSE: 40.245035354490945\n",
      "\n",
      "Epoch: 33\n",
      "MSE: 39.73915201064527\n",
      "\n",
      "Epoch: 34\n",
      "MSE: 39.24773826022003\n",
      "\n",
      "Epoch: 35\n",
      "MSE: 38.770262641778515\n",
      "\n",
      "Epoch: 36\n",
      "MSE: 38.306239976739185\n",
      "\n",
      "Epoch: 37\n",
      "MSE: 37.855221560984674\n",
      "\n",
      "Epoch: 38\n",
      "MSE: 37.416788130132765\n",
      "\n",
      "Epoch: 39\n",
      "MSE: 36.99054474964277\n",
      "\n",
      "Epoch: 40\n",
      "MSE: 36.57611704983988\n",
      "\n",
      "Epoch: 41\n",
      "MSE: 36.1731484080117\n",
      "\n",
      "Epoch: 42\n",
      "MSE: 35.78129780332526\n",
      "\n",
      "Epoch: 43\n",
      "MSE: 35.400238154463054\n",
      "\n",
      "Epoch: 44\n",
      "MSE: 35.02965500737224\n",
      "\n",
      "Epoch: 45\n",
      "MSE: 34.669245479964715\n",
      "\n",
      "Epoch: 46\n",
      "MSE: 34.31871739779198\n",
      "\n",
      "Epoch: 47\n",
      "MSE: 33.97778857355753\n",
      "\n",
      "Epoch: 48\n",
      "MSE: 33.646186196463304\n",
      "\n",
      "Epoch: 49\n",
      "MSE: 33.323646306606435\n",
      "\n",
      "Epoch: 50\n",
      "MSE: 33.00991333616416\n",
      "\n",
      "Epoch: 51\n",
      "MSE: 32.70473970375602\n",
      "\n",
      "Epoch: 52\n",
      "MSE: 32.407885451721654\n",
      "\n",
      "Epoch: 53\n",
      "MSE: 32.119117918485266\n",
      "\n",
      "Epoch: 54\n",
      "MSE: 31.83821143996556\n",
      "\n",
      "Epoch: 55\n",
      "MSE: 31.564947075315573\n",
      "\n",
      "Epoch: 56\n",
      "MSE: 31.299112353271994\n",
      "\n",
      "Epoch: 57\n",
      "MSE: 31.04050103614708\n",
      "\n",
      "Epoch: 58\n",
      "MSE: 30.788912899074752\n",
      "\n",
      "Epoch: 59\n",
      "MSE: 30.54415352256924\n",
      "\n",
      "Epoch: 60\n",
      "MSE: 30.30603409680461\n",
      "\n",
      "Epoch: 61\n",
      "MSE: 30.074371236299104\n",
      "\n",
      "Epoch: 62\n",
      "MSE: 29.848986803907906\n",
      "\n",
      "Epoch: 63\n",
      "MSE: 29.62970774320377\n",
      "\n",
      "Epoch: 64\n",
      "MSE: 29.416365918467566\n",
      "\n",
      "Epoch: 65\n",
      "MSE: 29.208797961625994\n",
      "\n",
      "Epoch: 66\n",
      "MSE: 29.006845125569154\n",
      "\n",
      "Epoch: 67\n",
      "MSE: 28.81035314335806\n",
      "\n",
      "Epoch: 68\n",
      "MSE: 28.619172092897198\n",
      "\n",
      "Epoch: 69\n",
      "MSE: 28.433156266700852\n",
      "\n",
      "Epoch: 70\n",
      "MSE: 28.252164046426902\n",
      "\n",
      "Epoch: 71\n",
      "MSE: 28.07605778188951\n",
      "\n",
      "Epoch: 72\n",
      "MSE: 27.904703674294204\n",
      "\n",
      "Epoch: 73\n",
      "MSE: 27.7379716634656\n",
      "\n",
      "Epoch: 74\n",
      "MSE: 27.57573531886125\n",
      "\n",
      "Epoch: 75\n",
      "MSE: 27.417871734184757\n",
      "\n",
      "Epoch: 76\n",
      "MSE: 27.264261425428096\n",
      "\n",
      "Epoch: 77\n",
      "MSE: 27.114788232187735\n",
      "\n",
      "Epoch: 78\n",
      "MSE: 26.969339222111962\n",
      "\n",
      "Epoch: 79\n",
      "MSE: 26.82780459834748\n",
      "\n",
      "Epoch: 80\n",
      "MSE: 26.690077609863426\n",
      "\n",
      "Epoch: 81\n",
      "MSE: 26.556054464539013\n",
      "\n",
      "Epoch: 82\n",
      "MSE: 26.425634244908835\n",
      "\n",
      "Epoch: 83\n",
      "MSE: 26.29871882646637\n",
      "\n",
      "Epoch: 84\n",
      "MSE: 26.175212798432025\n",
      "\n",
      "Epoch: 85\n",
      "MSE: 26.05502338689774\n",
      "\n",
      "Epoch: 86\n",
      "MSE: 25.938060380264563\n",
      "\n",
      "Epoch: 87\n",
      "MSE: 25.824236056894208\n",
      "\n",
      "Epoch: 88\n",
      "MSE: 25.713465114899485\n",
      "\n",
      "Epoch: 89\n",
      "MSE: 25.60566460400201\n",
      "\n",
      "Epoch: 90\n",
      "MSE: 25.500753859388993\n",
      "\n",
      "Epoch: 91\n",
      "MSE: 25.39865443750397\n",
      "\n",
      "Epoch: 92\n",
      "MSE: 25.29929005370903\n",
      "\n",
      "Epoch: 93\n",
      "MSE: 25.20258652175884\n",
      "\n",
      "Epoch: 94\n",
      "MSE: 25.10847169502912\n",
      "\n",
      "Epoch: 95\n",
      "MSE: 25.01687540944445\n",
      "\n",
      "Epoch: 96\n",
      "MSE: 24.927729428052622\n",
      "\n",
      "Epoch: 97\n",
      "MSE: 24.84096738719445\n",
      "\n",
      "Epoch: 98\n",
      "MSE: 24.75652474422011\n",
      "\n",
      "Epoch: 99\n",
      "MSE: 24.674338726704757\n",
      "\n",
      "Epoch: 100\n",
      "MSE: 24.594348283117764\n",
      "\n",
      "Epoch: 101\n",
      "MSE: 24.516494034901722\n",
      "\n",
      "Epoch: 102\n",
      "MSE: 24.44071822991868\n",
      "\n",
      "Epoch: 103\n",
      "MSE: 24.366964697222738\n",
      "\n",
      "Epoch: 104\n",
      "MSE: 24.295178803119278\n",
      "\n",
      "Epoch: 105\n",
      "MSE: 24.22530740847263\n",
      "\n",
      "Epoch: 106\n",
      "MSE: 24.157298827225116\n",
      "\n",
      "Epoch: 107\n",
      "MSE: 24.09110278609172\n",
      "\n",
      "Epoch: 108\n",
      "MSE: 24.026670385395697\n",
      "\n",
      "Epoch: 109\n",
      "MSE: 23.96395406101156\n",
      "\n",
      "Epoch: 110\n",
      "MSE: 23.90290754738311\n",
      "\n",
      "Epoch: 111\n",
      "MSE: 23.843485841584943\n",
      "\n",
      "Epoch: 112\n",
      "MSE: 23.785645168397107\n",
      "\n",
      "Epoch: 113\n",
      "MSE: 23.729342946363314\n",
      "\n",
      "Epoch: 114\n",
      "MSE: 23.674537754804263\n",
      "\n",
      "Epoch: 115\n",
      "MSE: 23.621189301758278\n",
      "\n",
      "Epoch: 116\n",
      "MSE: 23.569258392822487\n",
      "\n",
      "Epoch: 117\n",
      "MSE: 23.51870690086857\n",
      "\n",
      "Epoch: 118\n",
      "MSE: 23.469497736607774\n",
      "\n",
      "Epoch: 119\n",
      "MSE: 23.4215948199808\n",
      "\n",
      "Epoch: 120\n",
      "MSE: 23.374963052348868\n",
      "\n",
      "Epoch: 121\n",
      "MSE: 23.329568289462934\n",
      "\n",
      "Epoch: 122\n",
      "MSE: 23.28537731518879\n",
      "\n",
      "Epoch: 123\n",
      "MSE: 23.242357815966376\n",
      "\n",
      "Epoch: 124\n",
      "MSE: 23.200478355982412\n",
      "\n",
      "Epoch: 125\n",
      "MSE: 23.159708353035832\n",
      "\n",
      "Epoch: 126\n",
      "MSE: 23.12001805507644\n",
      "\n",
      "Epoch: 127\n",
      "MSE: 23.08137851739747\n",
      "\n",
      "Epoch: 128\n",
      "MSE: 23.04376158046362\n",
      "\n",
      "Epoch: 129\n",
      "MSE: 23.00713984835626\n",
      "\n"
     ]
    }
   ],
   "source": [
    "lr = LinReg(num_steps=500, eps=1e-6)\n",
    "lr.fit(X_train, y_train)"
   ]
  },
  {
   "cell_type": "code",
   "execution_count": 16,
   "metadata": {},
   "outputs": [],
   "source": [
    "from sklearn.metrics import mean_squared_error\n",
    "from sklearn.metrics import mean_absolute_error"
   ]
  },
  {
   "cell_type": "code",
   "execution_count": 17,
   "metadata": {},
   "outputs": [],
   "source": [
    "from sklearn.linear_model import LinearRegression"
   ]
  },
  {
   "cell_type": "code",
   "execution_count": 18,
   "metadata": {},
   "outputs": [
    {
     "data": {
      "text/plain": [
       "LinearRegression(copy_X=True, fit_intercept=True, n_jobs=None,\n",
       "         normalize=False)"
      ]
     },
     "execution_count": 18,
     "metadata": {},
     "output_type": "execute_result"
    }
   ],
   "source": [
    "clf = LinearRegression()\n",
    "clf.fit(X_train, y_train)"
   ]
  },
  {
   "cell_type": "markdown",
   "metadata": {},
   "source": [
    "RMSE of my own implementation of linear regression"
   ]
  },
  {
   "cell_type": "code",
   "execution_count": 19,
   "metadata": {},
   "outputs": [
    {
     "data": {
      "text/plain": [
       "5.07636724322674"
      ]
     },
     "execution_count": 19,
     "metadata": {},
     "output_type": "execute_result"
    }
   ],
   "source": [
    "np.sqrt(mean_squared_error(lr.predict(X_test), y_test))"
   ]
  },
  {
   "cell_type": "markdown",
   "metadata": {},
   "source": [
    "MAE of my own implementation of linear regression"
   ]
  },
  {
   "cell_type": "code",
   "execution_count": 20,
   "metadata": {},
   "outputs": [
    {
     "data": {
      "text/plain": [
       "3.581552501252304"
      ]
     },
     "execution_count": 20,
     "metadata": {},
     "output_type": "execute_result"
    }
   ],
   "source": [
    "mean_absolute_error(lr.predict(X_test), y_test)"
   ]
  },
  {
   "cell_type": "markdown",
   "metadata": {},
   "source": [
    "RMSE of sklearn linear regression"
   ]
  },
  {
   "cell_type": "code",
   "execution_count": 21,
   "metadata": {},
   "outputs": [
    {
     "data": {
      "text/plain": [
       "4.9286021826653394"
      ]
     },
     "execution_count": 21,
     "metadata": {},
     "output_type": "execute_result"
    }
   ],
   "source": [
    "np.sqrt(mean_squared_error(clf.predict(X_test), y_test))"
   ]
  },
  {
   "cell_type": "markdown",
   "metadata": {},
   "source": [
    "MAE of sklearn linear regression"
   ]
  },
  {
   "cell_type": "code",
   "execution_count": 22,
   "metadata": {},
   "outputs": [
    {
     "data": {
      "text/plain": [
       "3.1890919658878487"
      ]
     },
     "execution_count": 22,
     "metadata": {},
     "output_type": "execute_result"
    }
   ],
   "source": [
    "mean_absolute_error(clf.predict(X_test), y_test)"
   ]
  },
  {
   "cell_type": "markdown",
   "metadata": {},
   "source": [
    "Так как в sklearn задача решается аналитическим способом (normal equation), а реализация через градиент пытается максимально аппроксимировать аналитическое решение, получаем небольшую разницу в перформансе моделей."
   ]
  },
  {
   "cell_type": "markdown",
   "metadata": {
    "collapsed": true
   },
   "source": [
    "### 3 (3 балла). \n",
    "Линейная регрессия зачастую легко переобучается - модель необходимо штрафовать за величину весов; для этого применяют L1 и L2 регуляризацию: добавление нормы весов к функции потерь. В случае L2-регулязации функционал будет выглядеть как\n",
    "\n",
    "$$ L = (Xw - y)^T(Xw - y) + \\lambda||w||_2 $$.\n",
    "\n",
    "Параметр $\\lambda$ подбирается на отложенной выборке или по кросс-валидации.\n",
    "\n",
    "* Реализуйте обучение линейной регрессии с L2-регуляризацией\n",
    "* Найдите оптимальный с точки зрения метрики MAE коэффициент $\\lambda$ (по кросс-валидации)\n",
    "* Постройте график зависимости метрики на тестовой выборке от $\\lambda$ (__подпишите оси__)\n",
    "* Сравните результаты с Ridge регрессией из sklearn (аналогично пункту 2)."
   ]
  },
  {
   "cell_type": "code",
   "execution_count": 23,
   "metadata": {},
   "outputs": [],
   "source": [
    "class LinReg_l2():\n",
    "    def __init__(self, step_size=0.1, num_steps=20, eps=1e-6, lamb=0.1, output=True):\n",
    "        self.w = None\n",
    "        self.bias_w = None\n",
    "        self.b = None\n",
    "        self.step_size = step_size\n",
    "        self.num_steps = num_steps\n",
    "        self.eps = eps\n",
    "        self.loss = []\n",
    "        self.lamb = lamb\n",
    "        self.output = output\n",
    "\n",
    "    def __calc_grad(self, X_train, y_train):\n",
    "        # Одна итерация градиента\n",
    "        dot_product = np.dot(X_train, self.w) + self.bias_w[0]\n",
    "        each_instances_error = dot_product.T - y_train\n",
    "        # l2 regularization\n",
    "        self.loss.append(np.mean(each_instances_error ** 2, axis=0) + self.lamb * np.linalg.norm(self.w))\n",
    "        dw = np.dot(2 / X_train.shape[0] * X_train.T, each_instances_error) + 2 * self.lamb * self.w\n",
    "        db = 2 / X_train.shape[0] * each_instances_error\n",
    "        # Обновление весов\n",
    "        self.w -= self.step_size * dw\n",
    "        self.b -= self.step_size * db\n",
    "    \n",
    "    def fit(self, X_train, y_train):\n",
    "        # Инициализация весов\n",
    "        np.random.seed(42)\n",
    "        self.w = np.random.randn(X_train.shape[1])\n",
    "        self.b = np.ones(X_train.shape[0])\n",
    "        self.bias_w = np.zeros(1)\n",
    "        \n",
    "        difference = np.ones(1)\n",
    "        step_id = 0\n",
    "        current = 0\n",
    "        loss_scores = []\n",
    "        \n",
    "        # Собственно сам градиентный спуск\n",
    "        while (difference > self.eps).all() and step_id < self.num_steps:\n",
    "            previous = self.w.copy()\n",
    "            self.__calc_grad(X_train, y_train)\n",
    "            if self.output:\n",
    "                print('Epoch: {}\\nLoss: {}\\n'.format((step_id + 1), self.loss[step_id]))\n",
    "            difference = np.abs(np.linalg.norm(self.w - previous))\n",
    "            step_id += 1\n",
    "\n",
    "        \n",
    "    def predict(self, X_test):\n",
    "        return np.dot(X_test, self.w) + self.b[0]"
   ]
  },
  {
   "cell_type": "code",
   "execution_count": 24,
   "metadata": {},
   "outputs": [],
   "source": [
    "from sklearn.model_selection import KFold"
   ]
  },
  {
   "cell_type": "code",
   "execution_count": 25,
   "metadata": {},
   "outputs": [],
   "source": [
    "kfold = KFold(n_splits=5, random_state=42)\n",
    "lambda_values = np.linspace(1, 10, 10) / 100\n",
    "\n",
    "# Ручная кросс-валидация из-за того, что надо вытащить значения\n",
    "# функции потерь на каждой итерации\n",
    "loss = {}\n",
    "scores = {}\n",
    "for lamb in lambda_values:\n",
    "    cv_scores = []\n",
    "    for train_idx, test_idx in kfold.split(X_train, y_train):\n",
    "        lr_l2 = LinReg_l2(num_steps=100, eps=1e-7, lamb=lamb, output=False)\n",
    "        lr_l2.fit(X_train[train_idx], y_train[train_idx])\n",
    "        cv_scores.append(mean_absolute_error(lr_l2.predict(X_train[test_idx]), y_train[test_idx]))\n",
    "    scores[lamb] = np.mean(cv_scores)\n",
    "    loss[lamb] = lr_l2.loss"
   ]
  },
  {
   "cell_type": "code",
   "execution_count": 26,
   "metadata": {},
   "outputs": [
    {
     "data": {
      "text/plain": [
       "{0.01: 3.8339634000341833,\n",
       " 0.02: 3.8261645313208397,\n",
       " 0.03: 3.8254720444154193,\n",
       " 0.04: 3.830727484337865,\n",
       " 0.05: 3.841259873000321,\n",
       " 0.06: 3.8564887641611802,\n",
       " 0.07: 3.8826223624405047,\n",
       " 0.08: 3.913827545847942,\n",
       " 0.09: 3.949886998417172,\n",
       " 0.1: 3.9897322875250785}"
      ]
     },
     "execution_count": 26,
     "metadata": {},
     "output_type": "execute_result"
    }
   ],
   "source": [
    "scores"
   ]
  },
  {
   "cell_type": "markdown",
   "metadata": {},
   "source": [
    "После тестирования модели с разными коэффицентами lambda (начиная с 1е-10 до 1), кросс валидация показала наилучшие результаты при значении коэффицента = 0.03"
   ]
  },
  {
   "cell_type": "code",
   "execution_count": 27,
   "metadata": {},
   "outputs": [],
   "source": [
    "lr_l2 = LinReg_l2(num_steps=150, eps=1e-7, lamb=0.03)"
   ]
  },
  {
   "cell_type": "code",
   "execution_count": 28,
   "metadata": {
    "scrolled": true
   },
   "outputs": [
    {
     "name": "stdout",
     "output_type": "stream",
     "text": [
      "Epoch: 1\n",
      "Loss: 546.7439169772014\n",
      "\n",
      "Epoch: 2\n",
      "Loss: 380.622332539096\n",
      "\n",
      "Epoch: 3\n",
      "Loss: 275.79985340684124\n",
      "\n",
      "Epoch: 4\n",
      "Loss: 205.90340942532785\n",
      "\n",
      "Epoch: 5\n",
      "Loss: 158.93504538027173\n",
      "\n",
      "Epoch: 6\n",
      "Loss: 127.15850437250961\n",
      "\n",
      "Epoch: 7\n",
      "Loss: 105.48673277837122\n",
      "\n",
      "Epoch: 8\n",
      "Loss: 90.5540461835959\n",
      "\n",
      "Epoch: 9\n",
      "Loss: 80.1320521113874\n",
      "\n",
      "Epoch: 10\n",
      "Loss: 72.74220237876861\n",
      "\n",
      "Epoch: 11\n",
      "Loss: 67.4014375099539\n",
      "\n",
      "Epoch: 12\n",
      "Loss: 63.45441609095972\n",
      "\n",
      "Epoch: 13\n",
      "Loss: 60.462902380005765\n",
      "\n",
      "Epoch: 14\n",
      "Loss: 58.132741020181854\n",
      "\n",
      "Epoch: 15\n",
      "Loss: 56.265600075407974\n",
      "\n",
      "Epoch: 16\n",
      "Loss: 54.72703932478933\n",
      "\n",
      "Epoch: 17\n",
      "Loss: 53.42534909317917\n",
      "\n",
      "Epoch: 18\n",
      "Loss: 52.297501225280385\n",
      "\n",
      "Epoch: 19\n",
      "Loss: 51.29980168969153\n",
      "\n",
      "Epoch: 20\n",
      "Loss: 50.401655335087376\n",
      "\n",
      "Epoch: 21\n",
      "Loss: 49.58139387841007\n",
      "\n",
      "Epoch: 22\n",
      "Loss: 48.8234742666536\n",
      "\n",
      "Epoch: 23\n",
      "Loss: 48.116589235450775\n",
      "\n",
      "Epoch: 24\n",
      "Loss: 47.452386674309906\n",
      "\n",
      "Epoch: 25\n",
      "Loss: 46.82459658324235\n",
      "\n",
      "Epoch: 26\n",
      "Loss: 46.22843191655098\n",
      "\n",
      "Epoch: 27\n",
      "Loss: 45.660174268095815\n",
      "\n",
      "Epoch: 28\n",
      "Loss: 45.11688493449326\n",
      "\n",
      "Epoch: 29\n",
      "Loss: 44.59620152021849\n",
      "\n",
      "Epoch: 30\n",
      "Loss: 44.096193296741504\n",
      "\n",
      "Epoch: 31\n",
      "Loss: 43.61525722232935\n",
      "\n",
      "Epoch: 32\n",
      "Loss: 43.15204233869681\n",
      "\n",
      "Epoch: 33\n",
      "Loss: 42.70539415529791\n",
      "\n",
      "Epoch: 34\n",
      "Loss: 42.27431325302436\n",
      "\n",
      "Epoch: 35\n",
      "Loss: 41.85792411091502\n",
      "\n",
      "Epoch: 36\n",
      "Loss: 41.455451363582526\n",
      "\n",
      "Epoch: 37\n",
      "Loss: 41.06620152029547\n",
      "\n",
      "Epoch: 38\n",
      "Loss: 40.68954874336194\n",
      "\n",
      "Epoch: 39\n",
      "Loss: 40.324923676591844\n",
      "\n",
      "Epoch: 40\n",
      "Loss: 39.971804589666746\n",
      "\n",
      "Epoch: 41\n",
      "Loss: 39.62971029847463\n",
      "\n",
      "Epoch: 42\n",
      "Loss: 39.29819445998777\n",
      "\n",
      "Epoch: 43\n",
      "Loss: 38.97684094008473\n",
      "\n",
      "Epoch: 44\n",
      "Loss: 38.66526002542725\n",
      "\n",
      "Epoch: 45\n",
      "Loss: 38.363085304037455\n",
      "\n",
      "Epoch: 46\n",
      "Loss: 38.069971079058774\n",
      "\n",
      "Epoch: 47\n",
      "Loss: 37.78559021013791\n",
      "\n",
      "Epoch: 48\n",
      "Loss: 37.50963229960825\n",
      "\n",
      "Epoch: 49\n",
      "Loss: 37.241802158082024\n",
      "\n",
      "Epoch: 50\n",
      "Loss: 36.9818184975246\n",
      "\n",
      "Epoch: 51\n",
      "Loss: 36.72941281036971\n",
      "\n",
      "Epoch: 52\n",
      "Loss: 36.484328401452885\n",
      "\n",
      "Epoch: 53\n",
      "Loss: 36.246319546023805\n",
      "\n",
      "Epoch: 54\n",
      "Loss: 36.015150752236956\n",
      "\n",
      "Epoch: 55\n",
      "Loss: 35.790596110614075\n",
      "\n",
      "Epoch: 56\n",
      "Loss: 35.57243871624627\n",
      "\n",
      "Epoch: 57\n",
      "Loss: 35.3604701521308\n",
      "\n",
      "Epoch: 58\n",
      "Loss: 35.154490024154\n",
      "\n",
      "Epoch: 59\n",
      "Loss: 34.9543055399392\n",
      "\n",
      "Epoch: 60\n",
      "Loss: 34.759731125161345\n",
      "\n",
      "Epoch: 61\n",
      "Loss: 34.57058807205112\n",
      "\n",
      "Epoch: 62\n",
      "Loss: 34.38670421572273\n",
      "\n",
      "Epoch: 63\n",
      "Loss: 34.20791363470225\n",
      "\n",
      "Epoch: 64\n",
      "Loss: 34.03405637263867\n",
      "\n",
      "Epoch: 65\n",
      "Loss: 33.86497817867546\n",
      "\n",
      "Epoch: 66\n",
      "Loss: 33.7005302643654\n",
      "\n",
      "Epoch: 67\n",
      "Loss: 33.5405690753452\n",
      "\n",
      "Epoch: 68\n",
      "Loss: 33.38495607625929\n",
      "\n",
      "Epoch: 69\n",
      "Loss: 33.233557547648076\n",
      "\n",
      "Epoch: 70\n",
      "Loss: 33.0862443937024\n",
      "\n",
      "Epoch: 71\n",
      "Loss: 32.942891959939715\n",
      "\n",
      "Epoch: 72\n",
      "Loss: 32.80337985998614\n",
      "\n",
      "Epoch: 73\n",
      "Loss: 32.667591810754466\n",
      "\n",
      "Epoch: 74\n",
      "Loss: 32.53541547539789\n",
      "\n",
      "Epoch: 75\n",
      "Loss: 32.40674231349327\n",
      "\n",
      "Epoch: 76\n",
      "Loss: 32.281467437970825\n",
      "\n",
      "Epoch: 77\n",
      "Loss: 32.15948947836008\n",
      "\n",
      "Epoch: 78\n",
      "Loss: 32.0407104499665\n",
      "\n",
      "Epoch: 79\n",
      "Loss: 31.925035628632024\n",
      "\n",
      "Epoch: 80\n",
      "Loss: 31.812373430764943\n",
      "\n",
      "Epoch: 81\n",
      "Loss: 31.70263529835296\n",
      "\n",
      "Epoch: 82\n",
      "Loss: 31.595735588697675\n",
      "\n",
      "Epoch: 83\n",
      "Loss: 31.491591468629785\n",
      "\n",
      "Epoch: 84\n",
      "Loss: 31.39012281298263\n",
      "\n",
      "Epoch: 85\n",
      "Loss: 31.291252107118414\n",
      "\n",
      "Epoch: 86\n",
      "Loss: 31.194904353315298\n",
      "\n",
      "Epoch: 87\n",
      "Loss: 31.101006980836758\n",
      "\n",
      "Epoch: 88\n",
      "Loss: 31.009489759515606\n",
      "\n",
      "Epoch: 89\n",
      "Loss: 30.920284716695857\n",
      "\n",
      "Epoch: 90\n",
      "Loss: 30.83332605738433\n",
      "\n",
      "Epoch: 91\n",
      "Loss: 30.748550087472726\n",
      "\n",
      "Epoch: 92\n",
      "Loss: 30.665895139898375\n",
      "\n",
      "Epoch: 93\n",
      "Loss: 30.585301503619025\n",
      "\n",
      "Epoch: 94\n",
      "Loss: 30.506711355283436\n",
      "\n",
      "Epoch: 95\n",
      "Loss: 30.430068693485467\n",
      "\n",
      "Epoch: 96\n",
      "Loss: 30.355319275495155\n",
      "\n",
      "Epoch: 97\n",
      "Loss: 30.28241055636516\n",
      "\n",
      "Epoch: 98\n",
      "Loss: 30.211291630315934\n",
      "\n",
      "Epoch: 99\n",
      "Loss: 30.141913174307405\n",
      "\n",
      "Epoch: 100\n",
      "Loss: 30.074227393709368\n",
      "\n",
      "Epoch: 101\n",
      "Loss: 30.008187969986498\n",
      "\n",
      "Epoch: 102\n",
      "Loss: 29.943750010317803\n",
      "\n",
      "Epoch: 103\n",
      "Loss: 29.88086999907392\n",
      "\n",
      "Epoch: 104\n",
      "Loss: 29.819505751078953\n",
      "\n",
      "Epoch: 105\n",
      "Loss: 29.75961636658655\n",
      "\n",
      "Epoch: 106\n",
      "Loss: 29.701162187903314\n",
      "\n",
      "Epoch: 107\n",
      "Loss: 29.644104757595112\n",
      "\n",
      "Epoch: 108\n",
      "Loss: 29.588406778214743\n",
      "\n",
      "Epoch: 109\n",
      "Loss: 29.534032073491996\n",
      "\n",
      "Epoch: 110\n",
      "Loss: 29.480945550929576\n",
      "\n",
      "Epoch: 111\n",
      "Loss: 29.429113165750632\n",
      "\n",
      "Epoch: 112\n",
      "Loss: 29.37850188614605\n",
      "\n",
      "Epoch: 113\n",
      "Loss: 29.329079659771537\n",
      "\n",
      "Epoch: 114\n",
      "Loss: 29.28081538144682\n",
      "\n",
      "Epoch: 115\n",
      "Loss: 29.233678862011015\n",
      "\n",
      "Epoch: 116\n",
      "Loss: 29.187640798290147\n",
      "\n",
      "Epoch: 117\n",
      "Loss: 29.14267274413471\n",
      "\n",
      "Epoch: 118\n",
      "Loss: 29.098747082486618\n",
      "\n",
      "Epoch: 119\n",
      "Loss: 29.0558369984366\n",
      "\n",
      "Epoch: 120\n",
      "Loss: 29.013916453234852\n",
      "\n",
      "Epoch: 121\n",
      "Loss: 28.972960159218832\n",
      "\n",
      "Epoch: 122\n",
      "Loss: 28.932943555623964\n",
      "\n",
      "Epoch: 123\n",
      "Loss: 28.893842785243976\n",
      "\n",
      "Epoch: 124\n",
      "Loss: 28.85563467190924\n",
      "\n",
      "Epoch: 125\n",
      "Loss: 28.818296698752434\n",
      "\n",
      "Epoch: 126\n",
      "Loss: 28.7818069872323\n",
      "\n",
      "Epoch: 127\n",
      "Loss: 28.746144276887232\n",
      "\n",
      "Epoch: 128\n",
      "Loss: 28.71128790579169\n",
      "\n",
      "Epoch: 129\n",
      "Loss: 28.67721779168925\n",
      "\n",
      "Epoch: 130\n",
      "Loss: 28.643914413777487\n",
      "\n",
      "Epoch: 131\n",
      "Loss: 28.611358795120477\n",
      "\n",
      "Epoch: 132\n",
      "Loss: 28.579532485665815\n",
      "\n",
      "Epoch: 133\n",
      "Loss: 28.548417545844043\n",
      "\n",
      "Epoch: 134\n",
      "Loss: 28.517996530729004\n",
      "\n",
      "Epoch: 135\n",
      "Loss: 28.488252474738562\n",
      "\n",
      "Epoch: 136\n",
      "Loss: 28.459168876856115\n",
      "\n",
      "Epoch: 137\n",
      "Loss: 28.430729686353708\n",
      "\n",
      "Epoch: 138\n",
      "Loss: 28.402919288998564\n",
      "\n",
      "Epoch: 139\n",
      "Loss: 28.37572249372545\n",
      "\n",
      "Epoch: 140\n",
      "Loss: 28.349124519758057\n",
      "\n",
      "Epoch: 141\n",
      "Loss: 28.323110984162984\n",
      "\n",
      "Epoch: 142\n",
      "Loss: 28.297667889820907\n",
      "\n",
      "Epoch: 143\n",
      "Loss: 28.272781613799634\n",
      "\n",
      "Epoch: 144\n",
      "Loss: 28.248438896114866\n",
      "\n",
      "Epoch: 145\n",
      "Loss: 28.224626828864448\n",
      "\n",
      "Epoch: 146\n",
      "Loss: 28.201332845723016\n",
      "\n",
      "Epoch: 147\n",
      "Loss: 28.178544711783886\n",
      "\n",
      "Epoch: 148\n",
      "Loss: 28.15625051373594\n",
      "\n",
      "Epoch: 149\n",
      "Loss: 28.134438650363574\n",
      "\n",
      "Epoch: 150\n",
      "Loss: 28.113097823358096\n",
      "\n"
     ]
    }
   ],
   "source": [
    "lr_l2.fit(X_train, y_train)"
   ]
  },
  {
   "cell_type": "markdown",
   "metadata": {},
   "source": [
    "RMSE of my own implementation of Ridge regression"
   ]
  },
  {
   "cell_type": "code",
   "execution_count": 29,
   "metadata": {},
   "outputs": [
    {
     "data": {
      "text/plain": [
       "5.2932313991416065"
      ]
     },
     "execution_count": 29,
     "metadata": {},
     "output_type": "execute_result"
    }
   ],
   "source": [
    "np.sqrt(mean_squared_error(lr_l2.predict(X_test), y_test))"
   ]
  },
  {
   "cell_type": "markdown",
   "metadata": {},
   "source": [
    "MAE of my own implementation of Ridge regression"
   ]
  },
  {
   "cell_type": "code",
   "execution_count": 30,
   "metadata": {},
   "outputs": [
    {
     "data": {
      "text/plain": [
       "3.597866241517006"
      ]
     },
     "execution_count": 30,
     "metadata": {},
     "output_type": "execute_result"
    }
   ],
   "source": [
    "mean_absolute_error(lr_l2.predict(X_test), y_test)"
   ]
  },
  {
   "cell_type": "markdown",
   "metadata": {},
   "source": [
    "Среднее значение функции потерь для разных коэффицентов lambda с точностью до сотых находится практически на одной линии, поэтому для наглядности рассмотрим коэффицент lambda с точностью до десятых, сама картина при этом останется идентичной"
   ]
  },
  {
   "cell_type": "code",
   "execution_count": 31,
   "metadata": {},
   "outputs": [],
   "source": [
    "kfold = KFold(n_splits=5, random_state=42)\n",
    "lambda_values = np.linspace(1, 10, 10) / 10\n",
    "\n",
    "# Ручная кросс-валидация из-за того, что надо вытащить значения\n",
    "# функции потерь на каждой итерации\n",
    "loss = {}\n",
    "scores = {}\n",
    "for lamb in lambda_values:\n",
    "    cv_scores = []\n",
    "    for train_idx, test_idx in kfold.split(X_train, y_train):\n",
    "        lr_l2 = LinReg_l2(num_steps=100, eps=1e-7, lamb=lamb, output=False)\n",
    "        lr_l2.fit(X_train[train_idx], y_train[train_idx])\n",
    "        cv_scores.append(mean_absolute_error(lr_l2.predict(X_train[test_idx]), y_train[test_idx]))\n",
    "    scores[lamb] = np.mean(cv_scores)\n",
    "    loss[lamb] = lr_l2.loss"
   ]
  },
  {
   "cell_type": "code",
   "execution_count": 32,
   "metadata": {},
   "outputs": [],
   "source": [
    "import matplotlib.pyplot as plt"
   ]
  },
  {
   "cell_type": "code",
   "execution_count": 33,
   "metadata": {},
   "outputs": [
    {
     "data": {
      "image/png": "[encoded data removed]",
      "text/plain": [
       "<Figure size 1080x576 with 1 Axes>"
      ]
     },
     "metadata": {
      "needs_background": "light"
     },
     "output_type": "display_data"
    }
   ],
   "source": [
    "plt.figure(figsize=(15, 8))\n",
    "for lam in lambda_values:\n",
    "    plt.plot(range(len(loss[lam])), loss[lam])\n",
    "plt.legend(lambda_values)\n",
    "plt.xlabel('Epoch')\n",
    "plt.ylabel('Loss')\n",
    "plt.title('Loss for different lambda values (L2)')\n",
    "plt.show()"
   ]
  },
  {
   "cell_type": "markdown",
   "metadata": {},
   "source": [
    "Получаем такой график, так как функция потерь напрямую зависит от лямбды умноженной на l2 норму весов, соответственно она будет заметно варьироваться в зависимости от значения этого коэффицента, то есть значение функции в минимуме будет отличаться из-за коэффицента, что и наблюдается на графике"
   ]
  },
  {
   "cell_type": "code",
   "execution_count": 34,
   "metadata": {},
   "outputs": [],
   "source": [
    "from sklearn.linear_model import Ridge"
   ]
  },
  {
   "cell_type": "code",
   "execution_count": 35,
   "metadata": {},
   "outputs": [],
   "source": [
    "ridge = Ridge(alpha=0.1, random_state=42)"
   ]
  },
  {
   "cell_type": "code",
   "execution_count": 36,
   "metadata": {},
   "outputs": [
    {
     "data": {
      "text/plain": [
       "Ridge(alpha=0.1, copy_X=True, fit_intercept=True, max_iter=None,\n",
       "   normalize=False, random_state=42, solver='auto', tol=0.001)"
      ]
     },
     "execution_count": 36,
     "metadata": {},
     "output_type": "execute_result"
    }
   ],
   "source": [
    "ridge.fit(X_train, y_train)"
   ]
  },
  {
   "cell_type": "markdown",
   "metadata": {},
   "source": [
    "RMSE of sklearn Ridge regression"
   ]
  },
  {
   "cell_type": "code",
   "execution_count": 37,
   "metadata": {},
   "outputs": [
    {
     "data": {
      "text/plain": [
       "4.928801722209765"
      ]
     },
     "execution_count": 37,
     "metadata": {},
     "output_type": "execute_result"
    }
   ],
   "source": [
    "np.sqrt(mean_squared_error(ridge.predict(X_test), y_test))"
   ]
  },
  {
   "cell_type": "markdown",
   "metadata": {},
   "source": [
    "MAE of sklearn Ridge regression"
   ]
  },
  {
   "cell_type": "code",
   "execution_count": 38,
   "metadata": {},
   "outputs": [
    {
     "data": {
      "text/plain": [
       "3.188740661363576"
      ]
     },
     "execution_count": 38,
     "metadata": {},
     "output_type": "execute_result"
    }
   ],
   "source": [
    "mean_absolute_error(ridge.predict(X_test), y_test)"
   ]
  },
  {
   "cell_type": "markdown",
   "metadata": {},
   "source": [
    "Значения обеих метрик для моей реализации ridge регрессии чуть выше графика, опять-таки есть небольшое отличие у метрик разных моделей реализации. Примечательно, что у sklearn моделей обычной регрессии и с l2 регуляризатором значения метрик практически идентичные, это говорит о том, что обычная линейная регрессия не переобучилась на данной выборке. Что касается моей реализации, то она видимо наоборот недообучается, так как регуляризация только уменьшает конечный скор модели."
   ]
  },
  {
   "cell_type": "markdown",
   "metadata": {},
   "source": [
    "### 4 (Бонус, 4 балла). \n",
    "* Реализуйте обучение линейной регрессии с L1-регуляризацией (класс RegL1)\n",
    "* Проведите сравнения аналогично пункту 3 (но с Lasso вместо Ridge)."
   ]
  },
  {
   "cell_type": "code",
   "execution_count": 39,
   "metadata": {},
   "outputs": [],
   "source": [
    "class LinReg_l1():\n",
    "    def __init__(self, step_size=0.1, num_steps=20, eps=1e-6, lamb=0.1, output=True):\n",
    "        self.w = None\n",
    "        self.bias_w = None\n",
    "        self.b = None\n",
    "        self.step_size = step_size\n",
    "        self.num_steps = num_steps\n",
    "        self.eps = eps\n",
    "        self.loss = []\n",
    "        self.lamb = lamb\n",
    "        self.output = output\n",
    "\n",
    "    def __calc_grad(self, X_train, y_train):\n",
    "        # Одна итерация градиента\n",
    "        dot_product = np.dot(X_train, self.w) + self.bias_w[0]\n",
    "        each_instances_error = dot_product.T - y_train\n",
    "        # l1 regularization\n",
    "        self.loss.append(np.mean(each_instances_error ** 2, axis=0) + self.lamb * np.linalg.norm(self.w, 1))\n",
    "        dw = np.dot(2 / X_train.shape[0] * X_train.T, each_instances_error) + self.lamb * np.sign(self.w)\n",
    "        db = 2 / X_train.shape[0] * each_instances_error\n",
    "        # Обновление весов\n",
    "        self.w -= self.step_size * dw\n",
    "        self.b -= self.step_size * db\n",
    "    \n",
    "    def fit(self, X_train, y_train):\n",
    "        # Инициализация весов\n",
    "        np.random.seed(42)\n",
    "        self.w = np.random.randn(X_train.shape[1])\n",
    "        self.b = np.ones(X_train.shape[0])\n",
    "        self.bias_w = np.zeros(1)\n",
    "        \n",
    "        difference = np.ones(1)\n",
    "        step_id = 0\n",
    "        current = 0\n",
    "        loss_scores = []\n",
    "        \n",
    "        # Собственно сам градиентный спуск\n",
    "        while (difference > self.eps).all() and step_id < self.num_steps:\n",
    "            previous = self.w.copy()\n",
    "            self.__calc_grad(X_train, y_train)\n",
    "            if self.output:\n",
    "                print('Epoch: {}\\nLoss: {}\\n'.format((step_id + 1), self.loss[step_id]))\n",
    "            difference = np.abs(np.linalg.norm(self.w - previous, 1))\n",
    "            step_id += 1\n",
    "\n",
    "        \n",
    "    def predict(self, X_test):\n",
    "        return np.dot(X_test, self.w) + self.b[0]"
   ]
  },
  {
   "cell_type": "code",
   "execution_count": 40,
   "metadata": {},
   "outputs": [],
   "source": [
    "kfold = KFold(n_splits=5, random_state=42)\n",
    "lambda_values = np.linspace(1, 10, 10) / 10\n",
    "\n",
    "# Ручная кросс-валидация из-за того, что надо вытащить значения\n",
    "# функции потерь на каждой итерации\n",
    "loss = {}\n",
    "scores = {}\n",
    "for lamb in lambda_values:\n",
    "    cv_scores = []\n",
    "    for train_idx, test_idx in kfold.split(X_train, y_train):\n",
    "        lr_l1 = LinReg_l1(num_steps=100, eps=1e-7, lamb=lamb, output=False)\n",
    "        lr_l1.fit(X_train[train_idx], y_train[train_idx])\n",
    "        cv_scores.append(mean_absolute_error(lr_l1.predict(X_train[test_idx]), y_train[test_idx]))\n",
    "    scores[lamb] = np.mean(cv_scores)\n",
    "    loss[lamb] = lr_l1.loss"
   ]
  },
  {
   "cell_type": "code",
   "execution_count": 41,
   "metadata": {},
   "outputs": [
    {
     "data": {
      "text/plain": [
       "{0.1: 3.8489607713034566,\n",
       " 0.2: 3.8451047288070854,\n",
       " 0.3: 3.875725621705024,\n",
       " 0.4: 3.9108570617677025,\n",
       " 0.5: 3.923198981664284,\n",
       " 0.6: 3.950715675975411,\n",
       " 0.7: 3.9660691892126443,\n",
       " 0.8: 3.985898190762015,\n",
       " 0.9: 4.003755788759871,\n",
       " 1.0: 3.9965607229592814}"
      ]
     },
     "execution_count": 41,
     "metadata": {},
     "output_type": "execute_result"
    }
   ],
   "source": [
    "scores"
   ]
  },
  {
   "cell_type": "markdown",
   "metadata": {},
   "source": [
    "В случае с реализацией регрессии наилучший скор модель выдает при 0 значении гиперпараметра, модель недообучается из-за регуляризации, возьму значение 0.1 для различия от обычной линейной регрессии из первого пункта дз"
   ]
  },
  {
   "cell_type": "code",
   "execution_count": 61,
   "metadata": {},
   "outputs": [
    {
     "name": "stdout",
     "output_type": "stream",
     "text": [
      "Epoch: 1\n",
      "Loss: 547.6167452179163\n",
      "\n",
      "Epoch: 2\n",
      "Loss: 382.2654742284088\n",
      "\n",
      "Epoch: 3\n",
      "Loss: 277.25439513141697\n",
      "\n",
      "Epoch: 4\n",
      "Loss: 206.98904424049562\n",
      "\n",
      "Epoch: 5\n",
      "Loss: 159.66000175885037\n",
      "\n",
      "Epoch: 6\n",
      "Loss: 127.65726324844542\n",
      "\n",
      "Epoch: 7\n",
      "Loss: 105.90841795185584\n",
      "\n",
      "Epoch: 8\n",
      "Loss: 91.02625367527425\n",
      "\n",
      "Epoch: 9\n",
      "Loss: 80.7477701562607\n",
      "\n",
      "Epoch: 10\n",
      "Loss: 73.56891342548953\n",
      "\n",
      "Epoch: 11\n",
      "Loss: 68.47767742242692\n",
      "\n",
      "Epoch: 12\n",
      "Loss: 64.78646411941236\n",
      "\n",
      "Epoch: 13\n",
      "Loss: 62.04217015236945\n",
      "\n",
      "Epoch: 14\n",
      "Loss: 59.941304495597635\n",
      "\n",
      "Epoch: 15\n",
      "Loss: 58.280304275349295\n",
      "\n",
      "Epoch: 16\n",
      "Loss: 56.92245011776656\n",
      "\n",
      "Epoch: 17\n",
      "Loss: 55.77576404694527\n",
      "\n",
      "Epoch: 18\n",
      "Loss: 54.7782362723641\n",
      "\n",
      "Epoch: 19\n",
      "Loss: 53.88794651737546\n",
      "\n",
      "Epoch: 20\n",
      "Loss: 53.07645514277182\n",
      "\n",
      "Epoch: 21\n",
      "Loss: 52.32437933818092\n",
      "\n",
      "Epoch: 22\n",
      "Loss: 51.61843001898658\n",
      "\n",
      "Epoch: 23\n",
      "Loss: 50.94942559249162\n",
      "\n",
      "Epoch: 24\n",
      "Loss: 50.310959327006614\n",
      "\n",
      "Epoch: 25\n",
      "Loss: 49.69850427236176\n",
      "\n",
      "Epoch: 26\n",
      "Loss: 49.10881128504287\n",
      "\n",
      "Epoch: 27\n",
      "Loss: 48.539503544963026\n",
      "\n",
      "Epoch: 28\n",
      "Loss: 47.98880291392583\n",
      "\n",
      "Epoch: 29\n",
      "Loss: 47.455344850551725\n",
      "\n",
      "Epoch: 30\n",
      "Loss: 46.93805288213828\n",
      "\n",
      "Epoch: 31\n",
      "Loss: 46.436053190121534\n",
      "\n",
      "Epoch: 32\n",
      "Loss: 45.948925751347375\n",
      "\n",
      "Epoch: 33\n",
      "Loss: 45.478076543147466\n",
      "\n",
      "Epoch: 34\n",
      "Loss: 45.019791494773095\n",
      "\n",
      "Epoch: 35\n",
      "Loss: 44.5737936735663\n",
      "\n",
      "Epoch: 36\n",
      "Loss: 44.140419479197746\n",
      "\n",
      "Epoch: 37\n",
      "Loss: 43.719374683617126\n",
      "\n",
      "Epoch: 38\n",
      "Loss: 43.310023906157355\n",
      "\n",
      "Epoch: 39\n",
      "Loss: 42.910957920827514\n",
      "\n",
      "Epoch: 40\n",
      "Loss: 42.52300716335682\n",
      "\n",
      "Epoch: 41\n",
      "Loss: 42.1456280251963\n",
      "\n",
      "Epoch: 42\n",
      "Loss: 41.77860462411663\n",
      "\n",
      "Epoch: 43\n",
      "Loss: 41.42218255252486\n",
      "\n",
      "Epoch: 44\n",
      "Loss: 41.07432777011581\n",
      "\n",
      "Epoch: 45\n",
      "Loss: 40.736121392984806\n",
      "\n",
      "Epoch: 46\n",
      "Loss: 40.4070817113625\n",
      "\n",
      "Epoch: 47\n",
      "Loss: 40.08693848058772\n",
      "\n",
      "Epoch: 48\n",
      "Loss: 39.775614277191906\n",
      "\n",
      "Epoch: 49\n",
      "Loss: 39.473161890052815\n",
      "\n",
      "Epoch: 50\n",
      "Loss: 39.177901842437784\n",
      "\n",
      "Epoch: 51\n",
      "Loss: 38.89083278757714\n",
      "\n",
      "Epoch: 52\n",
      "Loss: 38.61151885343881\n",
      "\n",
      "Epoch: 53\n",
      "Loss: 38.339732476151184\n",
      "\n",
      "Epoch: 54\n",
      "Loss: 38.07526333847461\n",
      "\n",
      "Epoch: 55\n",
      "Loss: 37.81832910141854\n",
      "\n",
      "Epoch: 56\n",
      "Loss: 37.56822295464504\n",
      "\n",
      "Epoch: 57\n",
      "Loss: 37.32418498943542\n",
      "\n",
      "Epoch: 58\n",
      "Loss: 37.08693359598424\n",
      "\n",
      "Epoch: 59\n",
      "Loss: 36.85607380294043\n",
      "\n",
      "Epoch: 60\n",
      "Loss: 36.63141706149373\n",
      "\n",
      "Epoch: 61\n",
      "Loss: 36.41279057183542\n",
      "\n",
      "Epoch: 62\n",
      "Loss: 36.20030104380901\n",
      "\n",
      "Epoch: 63\n",
      "Loss: 35.99367601923416\n",
      "\n",
      "Epoch: 64\n",
      "Loss: 35.7918363165548\n",
      "\n",
      "Epoch: 65\n",
      "Loss: 35.59563409105812\n",
      "\n",
      "Epoch: 66\n",
      "Loss: 35.4047064637591\n",
      "\n",
      "Epoch: 67\n",
      "Loss: 35.21889599007726\n",
      "\n",
      "Epoch: 68\n",
      "Loss: 35.03806004653892\n",
      "\n",
      "Epoch: 69\n",
      "Loss: 34.862061608801554\n",
      "\n",
      "Epoch: 70\n",
      "Loss: 34.69093255854816\n",
      "\n",
      "Epoch: 71\n",
      "Loss: 34.52470029213882\n",
      "\n",
      "Epoch: 72\n",
      "Loss: 34.36211639671062\n",
      "\n",
      "Epoch: 73\n",
      "Loss: 34.20410383424348\n",
      "\n",
      "Epoch: 74\n",
      "Loss: 34.05032978533816\n",
      "\n",
      "Epoch: 75\n",
      "Loss: 33.900665754414476\n",
      "\n",
      "Epoch: 76\n",
      "Loss: 33.75499710397306\n",
      "\n",
      "Epoch: 77\n",
      "Loss: 33.613213924928715\n",
      "\n",
      "Epoch: 78\n",
      "Loss: 33.47521002824757\n",
      "\n",
      "Epoch: 79\n",
      "Loss: 33.340882532976025\n",
      "\n",
      "Epoch: 80\n",
      "Loss: 33.21024499405561\n",
      "\n",
      "Epoch: 81\n",
      "Loss: 33.08343079387933\n",
      "\n",
      "Epoch: 82\n",
      "Loss: 32.95923771417109\n",
      "\n",
      "Epoch: 83\n",
      "Loss: 32.838576566840764\n",
      "\n",
      "Epoch: 84\n",
      "Loss: 32.72114390852591\n",
      "\n",
      "Epoch: 85\n",
      "Loss: 32.606839459431\n",
      "\n",
      "Epoch: 86\n",
      "Loss: 32.495575821618985\n",
      "\n",
      "Epoch: 87\n",
      "Loss: 32.38726945722409\n",
      "\n",
      "Epoch: 88\n",
      "Loss: 32.28183974810008\n",
      "\n",
      "Epoch: 89\n",
      "Loss: 32.17920863049032\n",
      "\n",
      "Epoch: 90\n",
      "Loss: 32.079300378042085\n",
      "\n",
      "Epoch: 91\n",
      "Loss: 31.982041457400356\n",
      "\n",
      "Epoch: 92\n",
      "Loss: 31.887360422884537\n",
      "\n",
      "Epoch: 93\n",
      "Loss: 31.79518783288673\n",
      "\n",
      "Epoch: 94\n",
      "Loss: 31.705456178819055\n",
      "\n",
      "Epoch: 95\n",
      "Loss: 31.61814058419185\n",
      "\n",
      "Epoch: 96\n",
      "Loss: 31.53351816839902\n",
      "\n",
      "Epoch: 97\n",
      "Loss: 31.45043130345169\n",
      "\n",
      "Epoch: 98\n",
      "Loss: 31.369768699218113\n",
      "\n",
      "Epoch: 99\n",
      "Loss: 31.291257941978742\n",
      "\n",
      "Epoch: 100\n",
      "Loss: 31.214828628004124\n",
      "\n",
      "Epoch: 101\n",
      "Loss: 31.14042223849701\n",
      "\n",
      "Epoch: 102\n",
      "Loss: 31.067983213240954\n",
      "\n",
      "Epoch: 103\n",
      "Loss: 30.9974580729335\n",
      "\n",
      "Epoch: 104\n",
      "Loss: 30.928795098722908\n",
      "\n",
      "Epoch: 105\n",
      "Loss: 30.861944150149334\n",
      "\n",
      "Epoch: 106\n",
      "Loss: 30.796856549908654\n",
      "\n",
      "Epoch: 107\n",
      "Loss: 30.733485004184313\n",
      "\n",
      "Epoch: 108\n",
      "Loss: 30.67178354240541\n",
      "\n",
      "Epoch: 109\n",
      "Loss: 30.611707467934952\n",
      "\n",
      "Epoch: 110\n",
      "Loss: 30.553213315184333\n",
      "\n",
      "Epoch: 111\n",
      "Loss: 30.496258810743008\n",
      "\n",
      "Epoch: 112\n",
      "Loss: 30.44080283721474\n",
      "\n",
      "Epoch: 113\n",
      "Loss: 30.386805399033904\n",
      "\n",
      "Epoch: 114\n",
      "Loss: 30.33422758984606\n",
      "\n",
      "Epoch: 115\n",
      "Loss: 30.28303156120325\n",
      "\n",
      "Epoch: 116\n",
      "Loss: 30.233180492416192\n",
      "\n",
      "Epoch: 117\n",
      "Loss: 30.184638561455678\n",
      "\n",
      "Epoch: 118\n",
      "Loss: 30.137370916825084\n",
      "\n",
      "Epoch: 119\n",
      "Loss: 30.091343650343266\n",
      "\n",
      "Epoch: 120\n",
      "Loss: 30.04652377078797\n",
      "\n",
      "Epoch: 121\n",
      "Loss: 30.002879178357283\n",
      "\n",
      "Epoch: 122\n",
      "Loss: 29.960378639911905\n",
      "\n",
      "Epoch: 123\n",
      "Loss: 29.918991764964694\n",
      "\n",
      "Epoch: 124\n",
      "Loss: 29.878688982387157\n",
      "\n",
      "Epoch: 125\n",
      "Loss: 29.839441517804904\n",
      "\n",
      "Epoch: 126\n",
      "Loss: 29.80122137165616\n",
      "\n",
      "Epoch: 127\n",
      "Loss: 29.764001297889244\n",
      "\n",
      "Epoch: 128\n",
      "Loss: 29.727754783276435\n",
      "\n",
      "Epoch: 129\n",
      "Loss: 29.692456027322898\n",
      "\n",
      "Epoch: 130\n",
      "Loss: 29.658079922750712\n",
      "\n",
      "Epoch: 131\n",
      "Loss: 29.624602036538885\n",
      "\n",
      "Epoch: 132\n",
      "Loss: 29.591998591501444\n",
      "\n",
      "Epoch: 133\n",
      "Loss: 29.560246448386337\n",
      "\n",
      "Epoch: 134\n",
      "Loss: 29.529323088478762\n",
      "\n",
      "Epoch: 135\n",
      "Loss: 29.499206596693355\n",
      "\n",
      "Epoch: 136\n",
      "Loss: 29.469875645140085\n",
      "\n",
      "Epoch: 137\n",
      "Loss: 29.441309477149648\n",
      "\n",
      "Epoch: 138\n",
      "Loss: 29.413487891744357\n",
      "\n",
      "Epoch: 139\n",
      "Loss: 29.386391228541388\n",
      "\n",
      "Epoch: 140\n",
      "Loss: 29.360000353075506\n",
      "\n",
      "Epoch: 141\n",
      "Loss: 29.334296642528937\n",
      "\n",
      "Epoch: 142\n",
      "Loss: 29.309261971856515\n",
      "\n",
      "Epoch: 143\n",
      "Loss: 29.284878700294612\n",
      "\n",
      "Epoch: 144\n",
      "Loss: 29.261129658242755\n",
      "\n",
      "Epoch: 145\n",
      "Loss: 29.23799813450716\n",
      "\n",
      "Epoch: 146\n",
      "Loss: 29.21546786389588\n",
      "\n",
      "Epoch: 147\n",
      "Loss: 29.193523015155428\n",
      "\n",
      "Epoch: 148\n",
      "Loss: 29.17214817923928\n",
      "\n",
      "Epoch: 149\n",
      "Loss: 29.151328357898684\n",
      "\n",
      "Epoch: 150\n",
      "Loss: 29.131048952586788\n",
      "\n"
     ]
    }
   ],
   "source": [
    "lr_l1 = LinReg_l1(num_steps=150, eps=1e-6, lamb=0.1)\n",
    "lr_l1.fit(X_train, y_train)"
   ]
  },
  {
   "cell_type": "markdown",
   "metadata": {},
   "source": [
    "RMSE of my implementaion of Lasso regression"
   ]
  },
  {
   "cell_type": "code",
   "execution_count": 62,
   "metadata": {},
   "outputs": [
    {
     "data": {
      "text/plain": [
       "5.058181660486606"
      ]
     },
     "execution_count": 62,
     "metadata": {},
     "output_type": "execute_result"
    }
   ],
   "source": [
    "np.sqrt(mean_squared_error(lr_l1.predict(X_test), y_test))"
   ]
  },
  {
   "cell_type": "markdown",
   "metadata": {},
   "source": [
    "MAE of my implementation of Lasso regression"
   ]
  },
  {
   "cell_type": "code",
   "execution_count": 63,
   "metadata": {},
   "outputs": [
    {
     "data": {
      "text/plain": [
       "3.531484821845982"
      ]
     },
     "execution_count": 63,
     "metadata": {},
     "output_type": "execute_result"
    }
   ],
   "source": [
    "mean_absolute_error(lr_l1.predict(X_test), y_test)"
   ]
  },
  {
   "cell_type": "code",
   "execution_count": 64,
   "metadata": {},
   "outputs": [
    {
     "data": {
      "image/png": "[encoded data removed]",
      "text/plain": [
       "<Figure size 1080x576 with 1 Axes>"
      ]
     },
     "metadata": {
      "needs_background": "light"
     },
     "output_type": "display_data"
    }
   ],
   "source": [
    "plt.figure(figsize=(15, 8))\n",
    "for lam in lambda_values:\n",
    "    plt.plot(range(len(loss[lam])), loss[lam])\n",
    "plt.legend(lambda_values)\n",
    "plt.xlabel('Epoch')\n",
    "plt.ylabel('Loss')\n",
    "plt.title('Loss for different lambda values (L1)')\n",
    "plt.show()"
   ]
  },
  {
   "cell_type": "markdown",
   "metadata": {},
   "source": [
    "Картина идентична как и ее причины, описанные для l2 регуляризации"
   ]
  },
  {
   "cell_type": "code",
   "execution_count": 65,
   "metadata": {},
   "outputs": [],
   "source": [
    "from sklearn.linear_model import Lasso"
   ]
  },
  {
   "cell_type": "code",
   "execution_count": 66,
   "metadata": {},
   "outputs": [],
   "source": [
    "lasso = Lasso(alpha=0.1, random_state=42)"
   ]
  },
  {
   "cell_type": "code",
   "execution_count": 67,
   "metadata": {},
   "outputs": [
    {
     "data": {
      "text/plain": [
       "Lasso(alpha=0.1, copy_X=True, fit_intercept=True, max_iter=1000,\n",
       "   normalize=False, positive=False, precompute=False, random_state=42,\n",
       "   selection='cyclic', tol=0.0001, warm_start=False)"
      ]
     },
     "execution_count": 67,
     "metadata": {},
     "output_type": "execute_result"
    }
   ],
   "source": [
    "lasso.fit(X_train, y_train)"
   ]
  },
  {
   "cell_type": "markdown",
   "metadata": {},
   "source": [
    "RMSE of sklearn Lasso regression"
   ]
  },
  {
   "cell_type": "code",
   "execution_count": 68,
   "metadata": {},
   "outputs": [
    {
     "data": {
      "text/plain": [
       "5.066807787056651"
      ]
     },
     "execution_count": 68,
     "metadata": {},
     "output_type": "execute_result"
    }
   ],
   "source": [
    "np.sqrt(mean_squared_error(lasso.predict(X_test), y_test))"
   ]
  },
  {
   "cell_type": "markdown",
   "metadata": {},
   "source": [
    "MAE of sklearn Lasso regression"
   ]
  },
  {
   "cell_type": "code",
   "execution_count": 69,
   "metadata": {},
   "outputs": [
    {
     "data": {
      "text/plain": [
       "3.249187795561397"
      ]
     },
     "execution_count": 69,
     "metadata": {},
     "output_type": "execute_result"
    }
   ],
   "source": [
    "mean_absolute_error(lasso.predict(X_test), y_test)"
   ]
  },
  {
   "cell_type": "markdown",
   "metadata": {},
   "source": [
    "Примечательно, что значение метрики RMSE для моей модели немного лучше, чем от sklearn, однако MAE говорит об обратном."
   ]
  },
  {
   "cell_type": "markdown",
   "metadata": {},
   "source": [
    "### 5 (Бонус, 2 балла). \n",
    "Исследуйте для реализации регрессии с L2-регуляризацией зависимость качества на тестовой выборке (с графиками) от:\n",
    "* Длины шага\n",
    "* Количества шагов спуска\n",
    "* Константы epsilon."
   ]
  },
  {
   "cell_type": "code",
   "execution_count": 70,
   "metadata": {},
   "outputs": [],
   "source": [
    "sizes = np.linspace(1, 5, 10) / 35\n",
    "scores = []\n",
    "for step_size in sizes:\n",
    "    lr_l2 = LinReg_l2(step_size=step_size, num_steps=150, lamb=0.03, output=False)\n",
    "    lr_l2.fit(X_train, y_train)\n",
    "    scores.append(mean_absolute_error(lr_l2.predict(X_test), y_test))"
   ]
  },
  {
   "cell_type": "code",
   "execution_count": 71,
   "metadata": {},
   "outputs": [
    {
     "data": {
      "image/png": "[encoded data removed]",
      "text/plain": [
       "<Figure size 1080x576 with 1 Axes>"
      ]
     },
     "metadata": {
      "needs_background": "light"
     },
     "output_type": "display_data"
    }
   ],
   "source": [
    "plt.figure(figsize=(15, 8))\n",
    "plt.plot(sizes, scores)\n",
    "plt.xlabel('Learning rate')\n",
    "plt.ylabel('MAE')\n",
    "plt.title('MAE dependance from learning rate')\n",
    "plt.show()"
   ]
  },
  {
   "cell_type": "markdown",
   "metadata": {},
   "source": [
    "Значения примерно равные 0.15 являются наиболее подходящими для этой регрессии. "
   ]
  },
  {
   "cell_type": "markdown",
   "metadata": {},
   "source": [
    "2) Количество шагов спуска"
   ]
  },
  {
   "cell_type": "code",
   "execution_count": 72,
   "metadata": {},
   "outputs": [],
   "source": [
    "num_steps = np.linspace(10, 310, 20)\n",
    "scores = []\n",
    "for steps in num_steps:\n",
    "    lr_l2 = LinReg_l2(num_steps=steps, lamb=0.03, output=False)\n",
    "    lr_l2.fit(X_train, y_train)\n",
    "    scores.append(mean_absolute_error(lr_l2.predict(X_test), y_test))"
   ]
  },
  {
   "cell_type": "code",
   "execution_count": 73,
   "metadata": {},
   "outputs": [
    {
     "data": {
      "image/png": "[encoded data removed]",
      "text/plain": [
       "<Figure size 1080x576 with 1 Axes>"
      ]
     },
     "metadata": {
      "needs_background": "light"
     },
     "output_type": "display_data"
    }
   ],
   "source": [
    "plt.figure(figsize=(15, 8))\n",
    "plt.plot(num_steps, scores)\n",
    "plt.xlabel('Epoch')\n",
    "plt.ylabel('MAE')\n",
    "plt.title('MAE for different number of steps')\n",
    "plt.show()"
   ]
  },
  {
   "cell_type": "markdown",
   "metadata": {},
   "source": [
    "Оптимальное количество шагов для данной модели с разными гиперпараметрами будет находиться\n",
    "примерно в промежутке от 150 до 250 шагов."
   ]
  },
  {
   "cell_type": "markdown",
   "metadata": {},
   "source": [
    "3) eps"
   ]
  },
  {
   "cell_type": "code",
   "execution_count": 74,
   "metadata": {},
   "outputs": [],
   "source": [
    "eps_val = np.power(10, np.arange(7)) / 10 ** 12\n",
    "scores = []\n",
    "for eps in eps_val:\n",
    "    lr_l2 = LinReg_l2(num_steps=1000000, lamb=0.03, eps=eps, output=False)\n",
    "    lr_l2.fit(X_train, y_train)\n",
    "    scores.append(mean_absolute_error(lr_l2.predict(X_test), y_test))"
   ]
  },
  {
   "cell_type": "code",
   "execution_count": 75,
   "metadata": {},
   "outputs": [
    {
     "data": {
      "text/plain": [
       "array([1.e-12, 1.e-11, 1.e-10, 1.e-09, 1.e-08, 1.e-07, 1.e-06])"
      ]
     },
     "execution_count": 75,
     "metadata": {},
     "output_type": "execute_result"
    }
   ],
   "source": [
    "eps_val"
   ]
  },
  {
   "cell_type": "code",
   "execution_count": 76,
   "metadata": {
    "scrolled": true
   },
   "outputs": [
    {
     "data": {
      "image/png": "[encoded data removed]",
      "text/plain": [
       "<Figure size 1080x576 with 1 Axes>"
      ]
     },
     "metadata": {
      "needs_background": "light"
     },
     "output_type": "display_data"
    }
   ],
   "source": [
    "plt.figure(figsize=(15, 8))\n",
    "plt.bar(range(len(eps_val)), scores)\n",
    "plt.xlabel('EPS')\n",
    "plt.xticks(range(len(eps_val)), eps_val)\n",
    "plt.ylabel('MAE')\n",
    "plt.title('MAE for different eps values')\n",
    "plt.show()"
   ]
  },
  {
   "cell_type": "markdown",
   "metadata": {},
   "source": [
    "Данный график показывает, что модель начинает переобучаться если точность будет чрезвычайно маленькой, поэтому оптимальные значения находятся в пределах 1е-6"
   ]
  },
  {
   "cell_type": "markdown",
   "metadata": {},
   "source": [
    "### 6 (Бонус, 0 баллов). \n",
    "Вставьте сюда любимую картинку, которая сможет поднять настроение ассистенту и семинаристу"
   ]
  },
  {
   "cell_type": "markdown",
   "metadata": {},
   "source": [
    "<img src=\"image.png\">"
   ]
  }
 ],
 "metadata": {
  "kernelspec": {
   "display_name": "Python 3",
   "language": "python",
   "name": "python3"
  },
  "language_info": {
   "codemirror_mode": {
    "name": "ipython",
    "version": 3
   },
   "file_extension": ".py",
   "mimetype": "text/x-python",
   "name": "python",
   "nbconvert_exporter": "python",
   "pygments_lexer": "ipython3",
   "version": "3.7.1"
  }
 },
 "nbformat": 4,
 "nbformat_minor": 2
}
